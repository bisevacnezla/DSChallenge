{
  "nbformat": 4,
  "nbformat_minor": 0,
  "metadata": {
    "colab": {
      "name": "DSChallengeipynb",
      "provenance": []
    },
    "kernelspec": {
      "name": "python3",
      "display_name": "Python 3"
    },
    "language_info": {
      "name": "python"
    }
  },
  "cells": [
    {
      "cell_type": "markdown",
      "metadata": {
        "id": "nm1Uh_-5-n-1"
      },
      "source": [
        "##Import Data and Python Packages"
      ]
    },
    {
      "cell_type": "code",
      "metadata": {
        "id": "T_MjXbnJ-wdV"
      },
      "source": [
        "import numpy as np\n",
        "import pandas as pd\n",
        "import matplotlib.pyplot as plt\n",
        "import statsmodels.api as sm\n",
        "import seaborn as sns\n",
        "from sklearn import preprocessing\n",
        "from sklearn.impute import SimpleImputer\n",
        "from sklearn.linear_model import LogisticRegression\n",
        "\n",
        "from sklearn.model_selection import cross_val_score\n",
        "from scipy import stats\n",
        "\n",
        "sns.set()\n",
        "stats.chisqprob = lambda chiq, df:stats.chi2.sf(chisq, sf)"
      ],
      "execution_count": 2,
      "outputs": []
    },
    {
      "cell_type": "code",
      "metadata": {
        "id": "7diC3uMp_EmF"
      },
      "source": [
        "raw_data = pd.read_csv(\"DSChallenge.csv\")"
      ],
      "execution_count": 3,
      "outputs": []
    },
    {
      "cell_type": "code",
      "metadata": {
        "colab": {
          "base_uri": "https://localhost:8080/",
          "height": 240
        },
        "id": "iPAL2Hwh_PbK",
        "outputId": "cee7224e-6ac3-4839-998e-5534856eb573"
      },
      "source": [
        "raw_data.head()"
      ],
      "execution_count": 4,
      "outputs": [
        {
          "output_type": "execute_result",
          "data": {
            "text/html": [
              "<div>\n",
              "<style scoped>\n",
              "    .dataframe tbody tr th:only-of-type {\n",
              "        vertical-align: middle;\n",
              "    }\n",
              "\n",
              "    .dataframe tbody tr th {\n",
              "        vertical-align: top;\n",
              "    }\n",
              "\n",
              "    .dataframe thead th {\n",
              "        text-align: right;\n",
              "    }\n",
              "</style>\n",
              "<table border=\"1\" class=\"dataframe\">\n",
              "  <thead>\n",
              "    <tr style=\"text-align: right;\">\n",
              "      <th></th>\n",
              "      <th>Loan_ID</th>\n",
              "      <th>Gender</th>\n",
              "      <th>Married</th>\n",
              "      <th>Dependents</th>\n",
              "      <th>Education</th>\n",
              "      <th>Self_Employed</th>\n",
              "      <th>ApplicantIncome</th>\n",
              "      <th>CoapplicantIncome</th>\n",
              "      <th>LoanAmount</th>\n",
              "      <th>Loan_Amount_Term</th>\n",
              "      <th>Credit_History</th>\n",
              "      <th>Property_Area</th>\n",
              "      <th>Loan_Status</th>\n",
              "    </tr>\n",
              "  </thead>\n",
              "  <tbody>\n",
              "    <tr>\n",
              "      <th>0</th>\n",
              "      <td>ID1</td>\n",
              "      <td>Male</td>\n",
              "      <td>No</td>\n",
              "      <td>0</td>\n",
              "      <td>Graduate</td>\n",
              "      <td>No</td>\n",
              "      <td>5849</td>\n",
              "      <td>0.0</td>\n",
              "      <td>NaN</td>\n",
              "      <td>360.0</td>\n",
              "      <td>1.0</td>\n",
              "      <td>Urban</td>\n",
              "      <td>Y</td>\n",
              "    </tr>\n",
              "    <tr>\n",
              "      <th>1</th>\n",
              "      <td>ID2</td>\n",
              "      <td>Male</td>\n",
              "      <td>Yes</td>\n",
              "      <td>1</td>\n",
              "      <td>Graduate</td>\n",
              "      <td>No</td>\n",
              "      <td>4583</td>\n",
              "      <td>1508.0</td>\n",
              "      <td>128.0</td>\n",
              "      <td>360.0</td>\n",
              "      <td>1.0</td>\n",
              "      <td>Rural</td>\n",
              "      <td>N</td>\n",
              "    </tr>\n",
              "    <tr>\n",
              "      <th>2</th>\n",
              "      <td>ID3</td>\n",
              "      <td>Male</td>\n",
              "      <td>Yes</td>\n",
              "      <td>0</td>\n",
              "      <td>Graduate</td>\n",
              "      <td>Yes</td>\n",
              "      <td>3000</td>\n",
              "      <td>0.0</td>\n",
              "      <td>66.0</td>\n",
              "      <td>360.0</td>\n",
              "      <td>1.0</td>\n",
              "      <td>Urban</td>\n",
              "      <td>Y</td>\n",
              "    </tr>\n",
              "    <tr>\n",
              "      <th>3</th>\n",
              "      <td>ID4</td>\n",
              "      <td>Male</td>\n",
              "      <td>Yes</td>\n",
              "      <td>0</td>\n",
              "      <td>Not Graduate</td>\n",
              "      <td>No</td>\n",
              "      <td>2583</td>\n",
              "      <td>2358.0</td>\n",
              "      <td>120.0</td>\n",
              "      <td>360.0</td>\n",
              "      <td>1.0</td>\n",
              "      <td>Urban</td>\n",
              "      <td>Y</td>\n",
              "    </tr>\n",
              "    <tr>\n",
              "      <th>4</th>\n",
              "      <td>ID5</td>\n",
              "      <td>Male</td>\n",
              "      <td>No</td>\n",
              "      <td>0</td>\n",
              "      <td>Graduate</td>\n",
              "      <td>No</td>\n",
              "      <td>6000</td>\n",
              "      <td>0.0</td>\n",
              "      <td>141.0</td>\n",
              "      <td>360.0</td>\n",
              "      <td>1.0</td>\n",
              "      <td>Urban</td>\n",
              "      <td>Y</td>\n",
              "    </tr>\n",
              "  </tbody>\n",
              "</table>\n",
              "</div>"
            ],
            "text/plain": [
              "  Loan_ID Gender Married  ... Credit_History Property_Area Loan_Status\n",
              "0     ID1   Male      No  ...            1.0         Urban           Y\n",
              "1     ID2   Male     Yes  ...            1.0         Rural           N\n",
              "2     ID3   Male     Yes  ...            1.0         Urban           Y\n",
              "3     ID4   Male     Yes  ...            1.0         Urban           Y\n",
              "4     ID5   Male      No  ...            1.0         Urban           Y\n",
              "\n",
              "[5 rows x 13 columns]"
            ]
          },
          "metadata": {
            "tags": []
          },
          "execution_count": 4
        }
      ]
    },
    {
      "cell_type": "code",
      "metadata": {
        "colab": {
          "base_uri": "https://localhost:8080/"
        },
        "id": "ceghiCI6Blsg",
        "outputId": "8503dd18-c345-46f9-b8fb-3ed9788c8818"
      },
      "source": [
        "raw_data.info()"
      ],
      "execution_count": 5,
      "outputs": [
        {
          "output_type": "stream",
          "text": [
            "<class 'pandas.core.frame.DataFrame'>\n",
            "RangeIndex: 614 entries, 0 to 613\n",
            "Data columns (total 13 columns):\n",
            " #   Column             Non-Null Count  Dtype  \n",
            "---  ------             --------------  -----  \n",
            " 0   Loan_ID            614 non-null    object \n",
            " 1   Gender             601 non-null    object \n",
            " 2   Married            611 non-null    object \n",
            " 3   Dependents         599 non-null    object \n",
            " 4   Education          614 non-null    object \n",
            " 5   Self_Employed      582 non-null    object \n",
            " 6   ApplicantIncome    614 non-null    int64  \n",
            " 7   CoapplicantIncome  614 non-null    float64\n",
            " 8   LoanAmount         592 non-null    float64\n",
            " 9   Loan_Amount_Term   600 non-null    float64\n",
            " 10  Credit_History     564 non-null    float64\n",
            " 11  Property_Area      614 non-null    object \n",
            " 12  Loan_Status        614 non-null    object \n",
            "dtypes: float64(4), int64(1), object(8)\n",
            "memory usage: 62.5+ KB\n"
          ],
          "name": "stdout"
        }
      ]
    },
    {
      "cell_type": "code",
      "metadata": {
        "id": "CQ65Ns0L_eVj"
      },
      "source": [
        "raw_data=raw_data.rename({\"Loan_ID\": \"loan_id\", \"ApplicantIncome\":\"applicant_income\", \n",
        "                 \"CoApplicantIncome\":\"co_applicant_income\", \"LoanAmount\":\"loan_amount\", \n",
        "                 \"Loan_Amount_Term\":\"loan_amount_term\", \"Credit_History\":\"credit_history\",\n",
        "                 \"Property_Area\":\"property_area\", \"Loan_Status\":\"loan_status\"},  axis = 1)"
      ],
      "execution_count": 6,
      "outputs": []
    },
    {
      "cell_type": "code",
      "metadata": {
        "id": "DS2VxdXeAF4_"
      },
      "source": [
        "columns=[]\n",
        "for col in raw_data.columns:\n",
        "  col = col.lower()\n",
        "  columns.append(col) "
      ],
      "execution_count": 7,
      "outputs": []
    },
    {
      "cell_type": "code",
      "metadata": {
        "colab": {
          "base_uri": "https://localhost:8080/"
        },
        "id": "_oEESLhm_h6h",
        "outputId": "9a7d8081-9af0-4751-8dae-c3beebd81cfc"
      },
      "source": [
        "raw_data.columns = columns\n",
        "raw_data.columns"
      ],
      "execution_count": 8,
      "outputs": [
        {
          "output_type": "execute_result",
          "data": {
            "text/plain": [
              "Index(['loan_id', 'gender', 'married', 'dependents', 'education',\n",
              "       'self_employed', 'applicant_income', 'coapplicantincome', 'loan_amount',\n",
              "       'loan_amount_term', 'credit_history', 'property_area', 'loan_status'],\n",
              "      dtype='object')"
            ]
          },
          "metadata": {
            "tags": []
          },
          "execution_count": 8
        }
      ]
    },
    {
      "cell_type": "markdown",
      "metadata": {
        "id": "0TJTT6f1Ggfx"
      },
      "source": [
        "##Preprocessing"
      ]
    },
    {
      "cell_type": "code",
      "metadata": {
        "colab": {
          "base_uri": "https://localhost:8080/",
          "height": 408
        },
        "id": "97eNqqo4CyKD",
        "outputId": "3eca26c8-b460-4b0f-8ad1-bd175733cd1e"
      },
      "source": [
        "raw_data.describe(include = 'all')"
      ],
      "execution_count": 9,
      "outputs": [
        {
          "output_type": "execute_result",
          "data": {
            "text/html": [
              "<div>\n",
              "<style scoped>\n",
              "    .dataframe tbody tr th:only-of-type {\n",
              "        vertical-align: middle;\n",
              "    }\n",
              "\n",
              "    .dataframe tbody tr th {\n",
              "        vertical-align: top;\n",
              "    }\n",
              "\n",
              "    .dataframe thead th {\n",
              "        text-align: right;\n",
              "    }\n",
              "</style>\n",
              "<table border=\"1\" class=\"dataframe\">\n",
              "  <thead>\n",
              "    <tr style=\"text-align: right;\">\n",
              "      <th></th>\n",
              "      <th>loan_id</th>\n",
              "      <th>gender</th>\n",
              "      <th>married</th>\n",
              "      <th>dependents</th>\n",
              "      <th>education</th>\n",
              "      <th>self_employed</th>\n",
              "      <th>applicant_income</th>\n",
              "      <th>coapplicantincome</th>\n",
              "      <th>loan_amount</th>\n",
              "      <th>loan_amount_term</th>\n",
              "      <th>credit_history</th>\n",
              "      <th>property_area</th>\n",
              "      <th>loan_status</th>\n",
              "    </tr>\n",
              "  </thead>\n",
              "  <tbody>\n",
              "    <tr>\n",
              "      <th>count</th>\n",
              "      <td>614</td>\n",
              "      <td>601</td>\n",
              "      <td>611</td>\n",
              "      <td>599</td>\n",
              "      <td>614</td>\n",
              "      <td>582</td>\n",
              "      <td>614.000000</td>\n",
              "      <td>614.000000</td>\n",
              "      <td>592.000000</td>\n",
              "      <td>600.00000</td>\n",
              "      <td>564.000000</td>\n",
              "      <td>614</td>\n",
              "      <td>614</td>\n",
              "    </tr>\n",
              "    <tr>\n",
              "      <th>unique</th>\n",
              "      <td>614</td>\n",
              "      <td>2</td>\n",
              "      <td>2</td>\n",
              "      <td>4</td>\n",
              "      <td>2</td>\n",
              "      <td>2</td>\n",
              "      <td>NaN</td>\n",
              "      <td>NaN</td>\n",
              "      <td>NaN</td>\n",
              "      <td>NaN</td>\n",
              "      <td>NaN</td>\n",
              "      <td>3</td>\n",
              "      <td>2</td>\n",
              "    </tr>\n",
              "    <tr>\n",
              "      <th>top</th>\n",
              "      <td>ID42</td>\n",
              "      <td>Male</td>\n",
              "      <td>Yes</td>\n",
              "      <td>0</td>\n",
              "      <td>Graduate</td>\n",
              "      <td>No</td>\n",
              "      <td>NaN</td>\n",
              "      <td>NaN</td>\n",
              "      <td>NaN</td>\n",
              "      <td>NaN</td>\n",
              "      <td>NaN</td>\n",
              "      <td>Semiurban</td>\n",
              "      <td>Y</td>\n",
              "    </tr>\n",
              "    <tr>\n",
              "      <th>freq</th>\n",
              "      <td>1</td>\n",
              "      <td>489</td>\n",
              "      <td>398</td>\n",
              "      <td>345</td>\n",
              "      <td>480</td>\n",
              "      <td>500</td>\n",
              "      <td>NaN</td>\n",
              "      <td>NaN</td>\n",
              "      <td>NaN</td>\n",
              "      <td>NaN</td>\n",
              "      <td>NaN</td>\n",
              "      <td>233</td>\n",
              "      <td>422</td>\n",
              "    </tr>\n",
              "    <tr>\n",
              "      <th>mean</th>\n",
              "      <td>NaN</td>\n",
              "      <td>NaN</td>\n",
              "      <td>NaN</td>\n",
              "      <td>NaN</td>\n",
              "      <td>NaN</td>\n",
              "      <td>NaN</td>\n",
              "      <td>5403.459283</td>\n",
              "      <td>1621.245798</td>\n",
              "      <td>146.412162</td>\n",
              "      <td>342.00000</td>\n",
              "      <td>0.842199</td>\n",
              "      <td>NaN</td>\n",
              "      <td>NaN</td>\n",
              "    </tr>\n",
              "    <tr>\n",
              "      <th>std</th>\n",
              "      <td>NaN</td>\n",
              "      <td>NaN</td>\n",
              "      <td>NaN</td>\n",
              "      <td>NaN</td>\n",
              "      <td>NaN</td>\n",
              "      <td>NaN</td>\n",
              "      <td>6109.041673</td>\n",
              "      <td>2926.248369</td>\n",
              "      <td>85.587325</td>\n",
              "      <td>65.12041</td>\n",
              "      <td>0.364878</td>\n",
              "      <td>NaN</td>\n",
              "      <td>NaN</td>\n",
              "    </tr>\n",
              "    <tr>\n",
              "      <th>min</th>\n",
              "      <td>NaN</td>\n",
              "      <td>NaN</td>\n",
              "      <td>NaN</td>\n",
              "      <td>NaN</td>\n",
              "      <td>NaN</td>\n",
              "      <td>NaN</td>\n",
              "      <td>150.000000</td>\n",
              "      <td>0.000000</td>\n",
              "      <td>9.000000</td>\n",
              "      <td>12.00000</td>\n",
              "      <td>0.000000</td>\n",
              "      <td>NaN</td>\n",
              "      <td>NaN</td>\n",
              "    </tr>\n",
              "    <tr>\n",
              "      <th>25%</th>\n",
              "      <td>NaN</td>\n",
              "      <td>NaN</td>\n",
              "      <td>NaN</td>\n",
              "      <td>NaN</td>\n",
              "      <td>NaN</td>\n",
              "      <td>NaN</td>\n",
              "      <td>2877.500000</td>\n",
              "      <td>0.000000</td>\n",
              "      <td>100.000000</td>\n",
              "      <td>360.00000</td>\n",
              "      <td>1.000000</td>\n",
              "      <td>NaN</td>\n",
              "      <td>NaN</td>\n",
              "    </tr>\n",
              "    <tr>\n",
              "      <th>50%</th>\n",
              "      <td>NaN</td>\n",
              "      <td>NaN</td>\n",
              "      <td>NaN</td>\n",
              "      <td>NaN</td>\n",
              "      <td>NaN</td>\n",
              "      <td>NaN</td>\n",
              "      <td>3812.500000</td>\n",
              "      <td>1188.500000</td>\n",
              "      <td>128.000000</td>\n",
              "      <td>360.00000</td>\n",
              "      <td>1.000000</td>\n",
              "      <td>NaN</td>\n",
              "      <td>NaN</td>\n",
              "    </tr>\n",
              "    <tr>\n",
              "      <th>75%</th>\n",
              "      <td>NaN</td>\n",
              "      <td>NaN</td>\n",
              "      <td>NaN</td>\n",
              "      <td>NaN</td>\n",
              "      <td>NaN</td>\n",
              "      <td>NaN</td>\n",
              "      <td>5795.000000</td>\n",
              "      <td>2297.250000</td>\n",
              "      <td>168.000000</td>\n",
              "      <td>360.00000</td>\n",
              "      <td>1.000000</td>\n",
              "      <td>NaN</td>\n",
              "      <td>NaN</td>\n",
              "    </tr>\n",
              "    <tr>\n",
              "      <th>max</th>\n",
              "      <td>NaN</td>\n",
              "      <td>NaN</td>\n",
              "      <td>NaN</td>\n",
              "      <td>NaN</td>\n",
              "      <td>NaN</td>\n",
              "      <td>NaN</td>\n",
              "      <td>81000.000000</td>\n",
              "      <td>41667.000000</td>\n",
              "      <td>700.000000</td>\n",
              "      <td>480.00000</td>\n",
              "      <td>1.000000</td>\n",
              "      <td>NaN</td>\n",
              "      <td>NaN</td>\n",
              "    </tr>\n",
              "  </tbody>\n",
              "</table>\n",
              "</div>"
            ],
            "text/plain": [
              "       loan_id gender married  ... credit_history property_area loan_status\n",
              "count      614    601     611  ...     564.000000           614         614\n",
              "unique     614      2       2  ...            NaN             3           2\n",
              "top       ID42   Male     Yes  ...            NaN     Semiurban           Y\n",
              "freq         1    489     398  ...            NaN           233         422\n",
              "mean       NaN    NaN     NaN  ...       0.842199           NaN         NaN\n",
              "std        NaN    NaN     NaN  ...       0.364878           NaN         NaN\n",
              "min        NaN    NaN     NaN  ...       0.000000           NaN         NaN\n",
              "25%        NaN    NaN     NaN  ...       1.000000           NaN         NaN\n",
              "50%        NaN    NaN     NaN  ...       1.000000           NaN         NaN\n",
              "75%        NaN    NaN     NaN  ...       1.000000           NaN         NaN\n",
              "max        NaN    NaN     NaN  ...       1.000000           NaN         NaN\n",
              "\n",
              "[11 rows x 13 columns]"
            ]
          },
          "metadata": {
            "tags": []
          },
          "execution_count": 9
        }
      ]
    },
    {
      "cell_type": "code",
      "metadata": {
        "id": "oUvgjlKRQJQ_"
      },
      "source": [
        "\n",
        "data = raw_data.drop(['gender', 'loan_id'], axis=1)"
      ],
      "execution_count": 10,
      "outputs": []
    },
    {
      "cell_type": "markdown",
      "metadata": {
        "id": "bF2quYfLGZFj"
      },
      "source": [
        "1. Each variable has a different number of observations, which implies that there are some missing values \n",
        "2. *gender* has 489 male entries, which is almost 80% of the data. This feature probably won't be useful\n"
      ]
    },
    {
      "cell_type": "code",
      "metadata": {
        "colab": {
          "base_uri": "https://localhost:8080/",
          "height": 408
        },
        "id": "MO74jQcBJVOl",
        "outputId": "8f3cfbe7-c129-4c25-f7ed-1ae0e64d4538"
      },
      "source": [
        "data.describe(include='all')"
      ],
      "execution_count": 11,
      "outputs": [
        {
          "output_type": "execute_result",
          "data": {
            "text/html": [
              "<div>\n",
              "<style scoped>\n",
              "    .dataframe tbody tr th:only-of-type {\n",
              "        vertical-align: middle;\n",
              "    }\n",
              "\n",
              "    .dataframe tbody tr th {\n",
              "        vertical-align: top;\n",
              "    }\n",
              "\n",
              "    .dataframe thead th {\n",
              "        text-align: right;\n",
              "    }\n",
              "</style>\n",
              "<table border=\"1\" class=\"dataframe\">\n",
              "  <thead>\n",
              "    <tr style=\"text-align: right;\">\n",
              "      <th></th>\n",
              "      <th>married</th>\n",
              "      <th>dependents</th>\n",
              "      <th>education</th>\n",
              "      <th>self_employed</th>\n",
              "      <th>applicant_income</th>\n",
              "      <th>coapplicantincome</th>\n",
              "      <th>loan_amount</th>\n",
              "      <th>loan_amount_term</th>\n",
              "      <th>credit_history</th>\n",
              "      <th>property_area</th>\n",
              "      <th>loan_status</th>\n",
              "    </tr>\n",
              "  </thead>\n",
              "  <tbody>\n",
              "    <tr>\n",
              "      <th>count</th>\n",
              "      <td>611</td>\n",
              "      <td>599</td>\n",
              "      <td>614</td>\n",
              "      <td>582</td>\n",
              "      <td>614.000000</td>\n",
              "      <td>614.000000</td>\n",
              "      <td>592.000000</td>\n",
              "      <td>600.00000</td>\n",
              "      <td>564.000000</td>\n",
              "      <td>614</td>\n",
              "      <td>614</td>\n",
              "    </tr>\n",
              "    <tr>\n",
              "      <th>unique</th>\n",
              "      <td>2</td>\n",
              "      <td>4</td>\n",
              "      <td>2</td>\n",
              "      <td>2</td>\n",
              "      <td>NaN</td>\n",
              "      <td>NaN</td>\n",
              "      <td>NaN</td>\n",
              "      <td>NaN</td>\n",
              "      <td>NaN</td>\n",
              "      <td>3</td>\n",
              "      <td>2</td>\n",
              "    </tr>\n",
              "    <tr>\n",
              "      <th>top</th>\n",
              "      <td>Yes</td>\n",
              "      <td>0</td>\n",
              "      <td>Graduate</td>\n",
              "      <td>No</td>\n",
              "      <td>NaN</td>\n",
              "      <td>NaN</td>\n",
              "      <td>NaN</td>\n",
              "      <td>NaN</td>\n",
              "      <td>NaN</td>\n",
              "      <td>Semiurban</td>\n",
              "      <td>Y</td>\n",
              "    </tr>\n",
              "    <tr>\n",
              "      <th>freq</th>\n",
              "      <td>398</td>\n",
              "      <td>345</td>\n",
              "      <td>480</td>\n",
              "      <td>500</td>\n",
              "      <td>NaN</td>\n",
              "      <td>NaN</td>\n",
              "      <td>NaN</td>\n",
              "      <td>NaN</td>\n",
              "      <td>NaN</td>\n",
              "      <td>233</td>\n",
              "      <td>422</td>\n",
              "    </tr>\n",
              "    <tr>\n",
              "      <th>mean</th>\n",
              "      <td>NaN</td>\n",
              "      <td>NaN</td>\n",
              "      <td>NaN</td>\n",
              "      <td>NaN</td>\n",
              "      <td>5403.459283</td>\n",
              "      <td>1621.245798</td>\n",
              "      <td>146.412162</td>\n",
              "      <td>342.00000</td>\n",
              "      <td>0.842199</td>\n",
              "      <td>NaN</td>\n",
              "      <td>NaN</td>\n",
              "    </tr>\n",
              "    <tr>\n",
              "      <th>std</th>\n",
              "      <td>NaN</td>\n",
              "      <td>NaN</td>\n",
              "      <td>NaN</td>\n",
              "      <td>NaN</td>\n",
              "      <td>6109.041673</td>\n",
              "      <td>2926.248369</td>\n",
              "      <td>85.587325</td>\n",
              "      <td>65.12041</td>\n",
              "      <td>0.364878</td>\n",
              "      <td>NaN</td>\n",
              "      <td>NaN</td>\n",
              "    </tr>\n",
              "    <tr>\n",
              "      <th>min</th>\n",
              "      <td>NaN</td>\n",
              "      <td>NaN</td>\n",
              "      <td>NaN</td>\n",
              "      <td>NaN</td>\n",
              "      <td>150.000000</td>\n",
              "      <td>0.000000</td>\n",
              "      <td>9.000000</td>\n",
              "      <td>12.00000</td>\n",
              "      <td>0.000000</td>\n",
              "      <td>NaN</td>\n",
              "      <td>NaN</td>\n",
              "    </tr>\n",
              "    <tr>\n",
              "      <th>25%</th>\n",
              "      <td>NaN</td>\n",
              "      <td>NaN</td>\n",
              "      <td>NaN</td>\n",
              "      <td>NaN</td>\n",
              "      <td>2877.500000</td>\n",
              "      <td>0.000000</td>\n",
              "      <td>100.000000</td>\n",
              "      <td>360.00000</td>\n",
              "      <td>1.000000</td>\n",
              "      <td>NaN</td>\n",
              "      <td>NaN</td>\n",
              "    </tr>\n",
              "    <tr>\n",
              "      <th>50%</th>\n",
              "      <td>NaN</td>\n",
              "      <td>NaN</td>\n",
              "      <td>NaN</td>\n",
              "      <td>NaN</td>\n",
              "      <td>3812.500000</td>\n",
              "      <td>1188.500000</td>\n",
              "      <td>128.000000</td>\n",
              "      <td>360.00000</td>\n",
              "      <td>1.000000</td>\n",
              "      <td>NaN</td>\n",
              "      <td>NaN</td>\n",
              "    </tr>\n",
              "    <tr>\n",
              "      <th>75%</th>\n",
              "      <td>NaN</td>\n",
              "      <td>NaN</td>\n",
              "      <td>NaN</td>\n",
              "      <td>NaN</td>\n",
              "      <td>5795.000000</td>\n",
              "      <td>2297.250000</td>\n",
              "      <td>168.000000</td>\n",
              "      <td>360.00000</td>\n",
              "      <td>1.000000</td>\n",
              "      <td>NaN</td>\n",
              "      <td>NaN</td>\n",
              "    </tr>\n",
              "    <tr>\n",
              "      <th>max</th>\n",
              "      <td>NaN</td>\n",
              "      <td>NaN</td>\n",
              "      <td>NaN</td>\n",
              "      <td>NaN</td>\n",
              "      <td>81000.000000</td>\n",
              "      <td>41667.000000</td>\n",
              "      <td>700.000000</td>\n",
              "      <td>480.00000</td>\n",
              "      <td>1.000000</td>\n",
              "      <td>NaN</td>\n",
              "      <td>NaN</td>\n",
              "    </tr>\n",
              "  </tbody>\n",
              "</table>\n",
              "</div>"
            ],
            "text/plain": [
              "       married dependents education  ... credit_history  property_area  loan_status\n",
              "count      611        599       614  ...     564.000000            614          614\n",
              "unique       2          4         2  ...            NaN              3            2\n",
              "top        Yes          0  Graduate  ...            NaN      Semiurban            Y\n",
              "freq       398        345       480  ...            NaN            233          422\n",
              "mean       NaN        NaN       NaN  ...       0.842199            NaN          NaN\n",
              "std        NaN        NaN       NaN  ...       0.364878            NaN          NaN\n",
              "min        NaN        NaN       NaN  ...       0.000000            NaN          NaN\n",
              "25%        NaN        NaN       NaN  ...       1.000000            NaN          NaN\n",
              "50%        NaN        NaN       NaN  ...       1.000000            NaN          NaN\n",
              "75%        NaN        NaN       NaN  ...       1.000000            NaN          NaN\n",
              "max        NaN        NaN       NaN  ...       1.000000            NaN          NaN\n",
              "\n",
              "[11 rows x 11 columns]"
            ]
          },
          "metadata": {
            "tags": []
          },
          "execution_count": 11
        }
      ]
    },
    {
      "cell_type": "markdown",
      "metadata": {
        "id": "21PsIwYEJu4w"
      },
      "source": [
        "###Dealing With Missing Values"
      ]
    },
    {
      "cell_type": "code",
      "metadata": {
        "colab": {
          "base_uri": "https://localhost:8080/"
        },
        "id": "t4nBPzSnJ7Vb",
        "outputId": "a1c6b739-1382-4906-eedd-90451c26d7f8"
      },
      "source": [
        "data.isnull().sum()"
      ],
      "execution_count": 12,
      "outputs": [
        {
          "output_type": "execute_result",
          "data": {
            "text/plain": [
              "married               3\n",
              "dependents           15\n",
              "education             0\n",
              "self_employed        32\n",
              "applicant_income      0\n",
              "coapplicantincome     0\n",
              "loan_amount          22\n",
              "loan_amount_term     14\n",
              "credit_history       50\n",
              "property_area         0\n",
              "loan_status           0\n",
              "dtype: int64"
            ]
          },
          "metadata": {
            "tags": []
          },
          "execution_count": 12
        }
      ]
    },
    {
      "cell_type": "code",
      "metadata": {
        "colab": {
          "base_uri": "https://localhost:8080/",
          "height": 142
        },
        "id": "PK-PnW-AE9QB",
        "outputId": "c042a176-47c0-4e46-dde5-73a9613b3cd8"
      },
      "source": [
        "married=data[data[\"married\"].isnull()][[\"dependents\", \"self_employed\"]]\n",
        "married"
      ],
      "execution_count": 13,
      "outputs": [
        {
          "output_type": "execute_result",
          "data": {
            "text/html": [
              "<div>\n",
              "<style scoped>\n",
              "    .dataframe tbody tr th:only-of-type {\n",
              "        vertical-align: middle;\n",
              "    }\n",
              "\n",
              "    .dataframe tbody tr th {\n",
              "        vertical-align: top;\n",
              "    }\n",
              "\n",
              "    .dataframe thead th {\n",
              "        text-align: right;\n",
              "    }\n",
              "</style>\n",
              "<table border=\"1\" class=\"dataframe\">\n",
              "  <thead>\n",
              "    <tr style=\"text-align: right;\">\n",
              "      <th></th>\n",
              "      <th>dependents</th>\n",
              "      <th>self_employed</th>\n",
              "    </tr>\n",
              "  </thead>\n",
              "  <tbody>\n",
              "    <tr>\n",
              "      <th>104</th>\n",
              "      <td>NaN</td>\n",
              "      <td>No</td>\n",
              "    </tr>\n",
              "    <tr>\n",
              "      <th>228</th>\n",
              "      <td>NaN</td>\n",
              "      <td>No</td>\n",
              "    </tr>\n",
              "    <tr>\n",
              "      <th>435</th>\n",
              "      <td>NaN</td>\n",
              "      <td>No</td>\n",
              "    </tr>\n",
              "  </tbody>\n",
              "</table>\n",
              "</div>"
            ],
            "text/plain": [
              "    dependents self_employed\n",
              "104        NaN            No\n",
              "228        NaN            No\n",
              "435        NaN            No"
            ]
          },
          "metadata": {
            "tags": []
          },
          "execution_count": 13
        }
      ]
    },
    {
      "cell_type": "code",
      "metadata": {
        "colab": {
          "base_uri": "https://localhost:8080/"
        },
        "id": "sN_683SSXYfe",
        "outputId": "8f36bdce-2b7a-4df3-e76e-c07678a1c699"
      },
      "source": [
        "data[\"married\"] = data[\"married\"].replace(np.nan, \"No\")\n",
        "data[\"married\"].isnull().sum()"
      ],
      "execution_count": 14,
      "outputs": [
        {
          "output_type": "execute_result",
          "data": {
            "text/plain": [
              "0"
            ]
          },
          "metadata": {
            "tags": []
          },
          "execution_count": 14
        }
      ]
    },
    {
      "cell_type": "code",
      "metadata": {
        "colab": {
          "base_uri": "https://localhost:8080/"
        },
        "id": "vjIgogqiwRfZ",
        "outputId": "700930eb-4ae1-45e9-d69b-d2cd68f252f6"
      },
      "source": [
        "data[\"self_employed\"]=data[\"self_employed\"].replace(np.nan, \"No\")\n",
        "data[\"self_employed\"].isnull().sum()"
      ],
      "execution_count": 15,
      "outputs": [
        {
          "output_type": "execute_result",
          "data": {
            "text/plain": [
              "0"
            ]
          },
          "metadata": {
            "tags": []
          },
          "execution_count": 15
        }
      ]
    },
    {
      "cell_type": "code",
      "metadata": {
        "colab": {
          "base_uri": "https://localhost:8080/"
        },
        "id": "cGKuHQMNzFO0",
        "outputId": "0a163bec-2c97-4cf2-e342-35239942b87c"
      },
      "source": [
        "data[\"loan_amount\"].fillna(data[\"loan_amount\"].median(skipna=True), inplace=True)\n",
        "data[\"loan_amount\"].isnull().sum()"
      ],
      "execution_count": 16,
      "outputs": [
        {
          "output_type": "execute_result",
          "data": {
            "text/plain": [
              "0"
            ]
          },
          "metadata": {
            "tags": []
          },
          "execution_count": 16
        }
      ]
    },
    {
      "cell_type": "code",
      "metadata": {
        "colab": {
          "base_uri": "https://localhost:8080/"
        },
        "id": "5qk9pEUN7YIq",
        "outputId": "d7e7592e-2ae4-4d70-d711-1ce4746794b4"
      },
      "source": [
        "data[\"loan_amount_term\"].fillna(data[\"loan_amount_term\"].median(skipna=True), inplace=True)\n",
        "data[\"loan_amount_term\"].isnull().sum()"
      ],
      "execution_count": 17,
      "outputs": [
        {
          "output_type": "execute_result",
          "data": {
            "text/plain": [
              "0"
            ]
          },
          "metadata": {
            "tags": []
          },
          "execution_count": 17
        }
      ]
    },
    {
      "cell_type": "code",
      "metadata": {
        "colab": {
          "base_uri": "https://localhost:8080/"
        },
        "id": "fTiTEf1C8C-q",
        "outputId": "9b3bc433-9053-447c-8cf2-44c6908b1fa1"
      },
      "source": [
        "data[\"credit_history\"].fillna(data[\"credit_history\"].median(skipna=True), inplace=True)\n",
        "data[\"credit_history\"].isnull().sum()"
      ],
      "execution_count": 18,
      "outputs": [
        {
          "output_type": "execute_result",
          "data": {
            "text/plain": [
              "0"
            ]
          },
          "metadata": {
            "tags": []
          },
          "execution_count": 18
        }
      ]
    },
    {
      "cell_type": "code",
      "metadata": {
        "id": "3u86r7A58LeN"
      },
      "source": [
        "data_no_mv = data.dropna(axis=0)"
      ],
      "execution_count": 19,
      "outputs": []
    },
    {
      "cell_type": "code",
      "metadata": {
        "colab": {
          "base_uri": "https://localhost:8080/"
        },
        "id": "JnTjTksI9jUC",
        "outputId": "6a30af9b-fe4f-49ee-a652-b818d4012fbc"
      },
      "source": [
        "data_no_mv.isnull().sum()"
      ],
      "execution_count": 20,
      "outputs": [
        {
          "output_type": "execute_result",
          "data": {
            "text/plain": [
              "married              0\n",
              "dependents           0\n",
              "education            0\n",
              "self_employed        0\n",
              "applicant_income     0\n",
              "coapplicantincome    0\n",
              "loan_amount          0\n",
              "loan_amount_term     0\n",
              "credit_history       0\n",
              "property_area        0\n",
              "loan_status          0\n",
              "dtype: int64"
            ]
          },
          "metadata": {
            "tags": []
          },
          "execution_count": 20
        }
      ]
    },
    {
      "cell_type": "code",
      "metadata": {
        "colab": {
          "base_uri": "https://localhost:8080/",
          "height": 408
        },
        "id": "sFOc0dTe-9pU",
        "outputId": "16fdda61-b221-44b5-cba7-1310e4cf444c"
      },
      "source": [
        "data_no_mv.describe(include='all')"
      ],
      "execution_count": 21,
      "outputs": [
        {
          "output_type": "execute_result",
          "data": {
            "text/html": [
              "<div>\n",
              "<style scoped>\n",
              "    .dataframe tbody tr th:only-of-type {\n",
              "        vertical-align: middle;\n",
              "    }\n",
              "\n",
              "    .dataframe tbody tr th {\n",
              "        vertical-align: top;\n",
              "    }\n",
              "\n",
              "    .dataframe thead th {\n",
              "        text-align: right;\n",
              "    }\n",
              "</style>\n",
              "<table border=\"1\" class=\"dataframe\">\n",
              "  <thead>\n",
              "    <tr style=\"text-align: right;\">\n",
              "      <th></th>\n",
              "      <th>married</th>\n",
              "      <th>dependents</th>\n",
              "      <th>education</th>\n",
              "      <th>self_employed</th>\n",
              "      <th>applicant_income</th>\n",
              "      <th>coapplicantincome</th>\n",
              "      <th>loan_amount</th>\n",
              "      <th>loan_amount_term</th>\n",
              "      <th>credit_history</th>\n",
              "      <th>property_area</th>\n",
              "      <th>loan_status</th>\n",
              "    </tr>\n",
              "  </thead>\n",
              "  <tbody>\n",
              "    <tr>\n",
              "      <th>count</th>\n",
              "      <td>599</td>\n",
              "      <td>599</td>\n",
              "      <td>599</td>\n",
              "      <td>599</td>\n",
              "      <td>599.000000</td>\n",
              "      <td>599.000000</td>\n",
              "      <td>599.000000</td>\n",
              "      <td>599.000000</td>\n",
              "      <td>599.000000</td>\n",
              "      <td>599</td>\n",
              "      <td>599</td>\n",
              "    </tr>\n",
              "    <tr>\n",
              "      <th>unique</th>\n",
              "      <td>2</td>\n",
              "      <td>4</td>\n",
              "      <td>2</td>\n",
              "      <td>2</td>\n",
              "      <td>NaN</td>\n",
              "      <td>NaN</td>\n",
              "      <td>NaN</td>\n",
              "      <td>NaN</td>\n",
              "      <td>NaN</td>\n",
              "      <td>3</td>\n",
              "      <td>2</td>\n",
              "    </tr>\n",
              "    <tr>\n",
              "      <th>top</th>\n",
              "      <td>Yes</td>\n",
              "      <td>0</td>\n",
              "      <td>Graduate</td>\n",
              "      <td>No</td>\n",
              "      <td>NaN</td>\n",
              "      <td>NaN</td>\n",
              "      <td>NaN</td>\n",
              "      <td>NaN</td>\n",
              "      <td>NaN</td>\n",
              "      <td>Semiurban</td>\n",
              "      <td>Y</td>\n",
              "    </tr>\n",
              "    <tr>\n",
              "      <th>freq</th>\n",
              "      <td>390</td>\n",
              "      <td>345</td>\n",
              "      <td>469</td>\n",
              "      <td>519</td>\n",
              "      <td>NaN</td>\n",
              "      <td>NaN</td>\n",
              "      <td>NaN</td>\n",
              "      <td>NaN</td>\n",
              "      <td>NaN</td>\n",
              "      <td>227</td>\n",
              "      <td>413</td>\n",
              "    </tr>\n",
              "    <tr>\n",
              "      <th>mean</th>\n",
              "      <td>NaN</td>\n",
              "      <td>NaN</td>\n",
              "      <td>NaN</td>\n",
              "      <td>NaN</td>\n",
              "      <td>5408.864775</td>\n",
              "      <td>1634.896361</td>\n",
              "      <td>146.188648</td>\n",
              "      <td>342.070117</td>\n",
              "      <td>0.859766</td>\n",
              "      <td>NaN</td>\n",
              "      <td>NaN</td>\n",
              "    </tr>\n",
              "    <tr>\n",
              "      <th>std</th>\n",
              "      <td>NaN</td>\n",
              "      <td>NaN</td>\n",
              "      <td>NaN</td>\n",
              "      <td>NaN</td>\n",
              "      <td>6168.473138</td>\n",
              "      <td>2953.144575</td>\n",
              "      <td>84.954303</td>\n",
              "      <td>64.221516</td>\n",
              "      <td>0.347520</td>\n",
              "      <td>NaN</td>\n",
              "      <td>NaN</td>\n",
              "    </tr>\n",
              "    <tr>\n",
              "      <th>min</th>\n",
              "      <td>NaN</td>\n",
              "      <td>NaN</td>\n",
              "      <td>NaN</td>\n",
              "      <td>NaN</td>\n",
              "      <td>150.000000</td>\n",
              "      <td>0.000000</td>\n",
              "      <td>9.000000</td>\n",
              "      <td>12.000000</td>\n",
              "      <td>0.000000</td>\n",
              "      <td>NaN</td>\n",
              "      <td>NaN</td>\n",
              "    </tr>\n",
              "    <tr>\n",
              "      <th>25%</th>\n",
              "      <td>NaN</td>\n",
              "      <td>NaN</td>\n",
              "      <td>NaN</td>\n",
              "      <td>NaN</td>\n",
              "      <td>2853.000000</td>\n",
              "      <td>0.000000</td>\n",
              "      <td>100.000000</td>\n",
              "      <td>360.000000</td>\n",
              "      <td>1.000000</td>\n",
              "      <td>NaN</td>\n",
              "      <td>NaN</td>\n",
              "    </tr>\n",
              "    <tr>\n",
              "      <th>50%</th>\n",
              "      <td>NaN</td>\n",
              "      <td>NaN</td>\n",
              "      <td>NaN</td>\n",
              "      <td>NaN</td>\n",
              "      <td>3775.000000</td>\n",
              "      <td>1213.000000</td>\n",
              "      <td>128.000000</td>\n",
              "      <td>360.000000</td>\n",
              "      <td>1.000000</td>\n",
              "      <td>NaN</td>\n",
              "      <td>NaN</td>\n",
              "    </tr>\n",
              "    <tr>\n",
              "      <th>75%</th>\n",
              "      <td>NaN</td>\n",
              "      <td>NaN</td>\n",
              "      <td>NaN</td>\n",
              "      <td>NaN</td>\n",
              "      <td>5816.500000</td>\n",
              "      <td>2304.000000</td>\n",
              "      <td>165.500000</td>\n",
              "      <td>360.000000</td>\n",
              "      <td>1.000000</td>\n",
              "      <td>NaN</td>\n",
              "      <td>NaN</td>\n",
              "    </tr>\n",
              "    <tr>\n",
              "      <th>max</th>\n",
              "      <td>NaN</td>\n",
              "      <td>NaN</td>\n",
              "      <td>NaN</td>\n",
              "      <td>NaN</td>\n",
              "      <td>81000.000000</td>\n",
              "      <td>41667.000000</td>\n",
              "      <td>700.000000</td>\n",
              "      <td>480.000000</td>\n",
              "      <td>1.000000</td>\n",
              "      <td>NaN</td>\n",
              "      <td>NaN</td>\n",
              "    </tr>\n",
              "  </tbody>\n",
              "</table>\n",
              "</div>"
            ],
            "text/plain": [
              "       married dependents education  ... credit_history  property_area  loan_status\n",
              "count      599        599       599  ...     599.000000            599          599\n",
              "unique       2          4         2  ...            NaN              3            2\n",
              "top        Yes          0  Graduate  ...            NaN      Semiurban            Y\n",
              "freq       390        345       469  ...            NaN            227          413\n",
              "mean       NaN        NaN       NaN  ...       0.859766            NaN          NaN\n",
              "std        NaN        NaN       NaN  ...       0.347520            NaN          NaN\n",
              "min        NaN        NaN       NaN  ...       0.000000            NaN          NaN\n",
              "25%        NaN        NaN       NaN  ...       1.000000            NaN          NaN\n",
              "50%        NaN        NaN       NaN  ...       1.000000            NaN          NaN\n",
              "75%        NaN        NaN       NaN  ...       1.000000            NaN          NaN\n",
              "max        NaN        NaN       NaN  ...       1.000000            NaN          NaN\n",
              "\n",
              "[11 rows x 11 columns]"
            ]
          },
          "metadata": {
            "tags": []
          },
          "execution_count": 21
        }
      ]
    },
    {
      "cell_type": "code",
      "metadata": {
        "colab": {
          "base_uri": "https://localhost:8080/"
        },
        "id": "KbhxpQa5GFfA",
        "outputId": "81797a25-ed06-4749-9ecb-69f4fd9e01f1"
      },
      "source": [
        "sorted(data_no_mv)"
      ],
      "execution_count": 22,
      "outputs": [
        {
          "output_type": "execute_result",
          "data": {
            "text/plain": [
              "['applicant_income',\n",
              " 'coapplicantincome',\n",
              " 'credit_history',\n",
              " 'dependents',\n",
              " 'education',\n",
              " 'loan_amount',\n",
              " 'loan_amount_term',\n",
              " 'loan_status',\n",
              " 'married',\n",
              " 'property_area',\n",
              " 'self_employed']"
            ]
          },
          "metadata": {
            "tags": []
          },
          "execution_count": 22
        }
      ]
    },
    {
      "cell_type": "markdown",
      "metadata": {
        "id": "rQNkbLe9IqZx"
      },
      "source": [
        "##Dealing with outliers"
      ]
    },
    {
      "cell_type": "code",
      "metadata": {
        "colab": {
          "base_uri": "https://localhost:8080/"
        },
        "id": "u4nm7S0GGnUo",
        "outputId": "acfc5adc-cd1d-4a9b-9864-a9d949a68e44"
      },
      "source": [
        "q1, q3 = np.percentile(data_no_mv[\"applicant_income\"], [25,75])\n",
        "print(q1)\n",
        "print(q3)\n",
        "iqr = q3-q1\n",
        "lower_bound = q1 - (1.5*iqr)\n",
        "upper_bound = q3 + (1.5*iqr)\n",
        "print(lower_bound)\n",
        "print(upper_bound)\n",
        "print(data_no_mv[data_no_mv[\"applicant_income\"]>10208][\"applicant_income\"])\n",
        "mean = data_no_mv[\"applicant_income\"].mean()\n",
        "print(\"Mean: \",mean)\n",
        "data_no_mv[\"applicant_income\"]=data_no_mv[data_no_mv[\"applicant_income\"]>10208][\"applicant_income\"] = mean\n",
        "data_no_mv[\"applicant_income\"].max()"
      ],
      "execution_count": 23,
      "outputs": [
        {
          "output_type": "stream",
          "text": [
            "2853.0\n",
            "5816.5\n",
            "-1592.25\n",
            "10261.75\n",
            "9      12841\n",
            "34     12500\n",
            "54     11500\n",
            "67     10750\n",
            "106    11417\n",
            "115    14583\n",
            "119    10408\n",
            "126    23803\n",
            "128    10513\n",
            "130    20166\n",
            "138    14999\n",
            "144    11757\n",
            "146    14866\n",
            "155    39999\n",
            "171    51763\n",
            "183    33846\n",
            "185    39147\n",
            "191    12000\n",
            "199    11000\n",
            "254    16250\n",
            "258    14683\n",
            "271    11146\n",
            "278    14583\n",
            "284    20667\n",
            "308    20233\n",
            "324    15000\n",
            "333    63337\n",
            "369    19730\n",
            "370    15759\n",
            "409    81000\n",
            "424    14880\n",
            "432    12876\n",
            "438    10416\n",
            "443    37719\n",
            "467    16692\n",
            "475    16525\n",
            "478    16667\n",
            "483    10833\n",
            "487    18333\n",
            "493    17263\n",
            "506    20833\n",
            "509    13262\n",
            "525    17500\n",
            "533    11250\n",
            "534    18165\n",
            "561    19484\n",
            "572    16666\n",
            "594    16120\n",
            "604    12000\n",
            "Name: applicant_income, dtype: int64\n",
            "Mean:  5408.864774624374\n"
          ],
          "name": "stdout"
        },
        {
          "output_type": "stream",
          "text": [
            "/usr/local/lib/python3.7/dist-packages/ipykernel_launcher.py:12: SettingWithCopyWarning: \n",
            "A value is trying to be set on a copy of a slice from a DataFrame.\n",
            "Try using .loc[row_indexer,col_indexer] = value instead\n",
            "\n",
            "See the caveats in the documentation: https://pandas.pydata.org/pandas-docs/stable/user_guide/indexing.html#returning-a-view-versus-a-copy\n",
            "  if sys.path[0] == '':\n"
          ],
          "name": "stderr"
        },
        {
          "output_type": "execute_result",
          "data": {
            "text/plain": [
              "5408.864774624374"
            ]
          },
          "metadata": {
            "tags": []
          },
          "execution_count": 23
        }
      ]
    },
    {
      "cell_type": "code",
      "metadata": {
        "colab": {
          "base_uri": "https://localhost:8080/"
        },
        "id": "gnx3HhnBI0Ew",
        "outputId": "e95b480e-8121-448e-c23f-c65e2896248c"
      },
      "source": [
        "q1, q3 = np.percentile(data_no_mv[\"coapplicantincome\"], [25,75])\n",
        "print(q1)\n",
        "print(q3)\n",
        "iqr = q3-q1\n",
        "lower_bound = q1 - (1.5*iqr)\n",
        "upper_bound = q3 + (1.5*iqr)\n",
        "print(\"Lower bound:\",lower_bound)\n",
        "print(\"Upper bound:\",upper_bound)\n",
        "print(data_no_mv[data_no_mv[\"coapplicantincome\"]>5407][\"coapplicantincome\"])\n",
        "mean = data_no_mv[\"coapplicantincome\"].mean()\n",
        "print(\"Mean: \",mean)\n",
        "data_no_mv[\"coapplicantincome\"]=data_no_mv[\"coapplicantincome\"].replace(to_replace =[5625, 5654, 5701, 5500, 5624], \n",
        "                            value = mean)\n",
        "print(data_no_mv[\"coapplicantincome\"].max())"
      ],
      "execution_count": 24,
      "outputs": [
        {
          "output_type": "stream",
          "text": [
            "0.0\n",
            "2304.0\n",
            "Lower bound: -3456.0\n",
            "Upper bound: 5760.0\n",
            "9      10968.0\n",
            "12      8106.0\n",
            "21      5625.0\n",
            "38      7210.0\n",
            "91      5654.0\n",
            "122     8980.0\n",
            "135     7750.0\n",
            "159     5625.0\n",
            "173     5625.0\n",
            "177    11300.0\n",
            "180     7250.0\n",
            "242     5701.0\n",
            "253     7101.0\n",
            "349     6250.0\n",
            "372     7873.0\n",
            "402    20000.0\n",
            "417    20000.0\n",
            "444     8333.0\n",
            "502     5624.0\n",
            "506     6667.0\n",
            "513     6666.0\n",
            "523     7166.0\n",
            "530     5500.0\n",
            "581    33837.0\n",
            "600    41667.0\n",
            "Name: coapplicantincome, dtype: float64\n",
            "Mean:  1634.8963605820368\n",
            "41667.0\n"
          ],
          "name": "stdout"
        },
        {
          "output_type": "stream",
          "text": [
            "/usr/local/lib/python3.7/dist-packages/ipykernel_launcher.py:13: SettingWithCopyWarning: \n",
            "A value is trying to be set on a copy of a slice from a DataFrame.\n",
            "Try using .loc[row_indexer,col_indexer] = value instead\n",
            "\n",
            "See the caveats in the documentation: https://pandas.pydata.org/pandas-docs/stable/user_guide/indexing.html#returning-a-view-versus-a-copy\n",
            "  del sys.path[0]\n"
          ],
          "name": "stderr"
        }
      ]
    },
    {
      "cell_type": "code",
      "metadata": {
        "id": "LOMs-p1TPl3r"
      },
      "source": [
        ""
      ],
      "execution_count": 24,
      "outputs": []
    },
    {
      "cell_type": "markdown",
      "metadata": {
        "id": "GbWLrR409pC4"
      },
      "source": [
        "###Encoding Categorical Data"
      ]
    },
    {
      "cell_type": "code",
      "metadata": {
        "colab": {
          "base_uri": "https://localhost:8080/",
          "height": 203
        },
        "id": "FS6e2VgYJuKY",
        "outputId": "62892512-a76a-405c-c135-1a5ee36e5371"
      },
      "source": [
        "obj_df=data_no_mv.select_dtypes(include=['object']).copy()\n",
        "obj_df.head()"
      ],
      "execution_count": 25,
      "outputs": [
        {
          "output_type": "execute_result",
          "data": {
            "text/html": [
              "<div>\n",
              "<style scoped>\n",
              "    .dataframe tbody tr th:only-of-type {\n",
              "        vertical-align: middle;\n",
              "    }\n",
              "\n",
              "    .dataframe tbody tr th {\n",
              "        vertical-align: top;\n",
              "    }\n",
              "\n",
              "    .dataframe thead th {\n",
              "        text-align: right;\n",
              "    }\n",
              "</style>\n",
              "<table border=\"1\" class=\"dataframe\">\n",
              "  <thead>\n",
              "    <tr style=\"text-align: right;\">\n",
              "      <th></th>\n",
              "      <th>married</th>\n",
              "      <th>dependents</th>\n",
              "      <th>education</th>\n",
              "      <th>self_employed</th>\n",
              "      <th>property_area</th>\n",
              "      <th>loan_status</th>\n",
              "    </tr>\n",
              "  </thead>\n",
              "  <tbody>\n",
              "    <tr>\n",
              "      <th>0</th>\n",
              "      <td>No</td>\n",
              "      <td>0</td>\n",
              "      <td>Graduate</td>\n",
              "      <td>No</td>\n",
              "      <td>Urban</td>\n",
              "      <td>Y</td>\n",
              "    </tr>\n",
              "    <tr>\n",
              "      <th>1</th>\n",
              "      <td>Yes</td>\n",
              "      <td>1</td>\n",
              "      <td>Graduate</td>\n",
              "      <td>No</td>\n",
              "      <td>Rural</td>\n",
              "      <td>N</td>\n",
              "    </tr>\n",
              "    <tr>\n",
              "      <th>2</th>\n",
              "      <td>Yes</td>\n",
              "      <td>0</td>\n",
              "      <td>Graduate</td>\n",
              "      <td>Yes</td>\n",
              "      <td>Urban</td>\n",
              "      <td>Y</td>\n",
              "    </tr>\n",
              "    <tr>\n",
              "      <th>3</th>\n",
              "      <td>Yes</td>\n",
              "      <td>0</td>\n",
              "      <td>Not Graduate</td>\n",
              "      <td>No</td>\n",
              "      <td>Urban</td>\n",
              "      <td>Y</td>\n",
              "    </tr>\n",
              "    <tr>\n",
              "      <th>4</th>\n",
              "      <td>No</td>\n",
              "      <td>0</td>\n",
              "      <td>Graduate</td>\n",
              "      <td>No</td>\n",
              "      <td>Urban</td>\n",
              "      <td>Y</td>\n",
              "    </tr>\n",
              "  </tbody>\n",
              "</table>\n",
              "</div>"
            ],
            "text/plain": [
              "  married dependents     education self_employed property_area loan_status\n",
              "0      No          0      Graduate            No         Urban           Y\n",
              "1     Yes          1      Graduate            No         Rural           N\n",
              "2     Yes          0      Graduate           Yes         Urban           Y\n",
              "3     Yes          0  Not Graduate            No         Urban           Y\n",
              "4      No          0      Graduate            No         Urban           Y"
            ]
          },
          "metadata": {
            "tags": []
          },
          "execution_count": 25
        }
      ]
    },
    {
      "cell_type": "code",
      "metadata": {
        "colab": {
          "base_uri": "https://localhost:8080/"
        },
        "id": "ULzanw_YIweE",
        "outputId": "2279b2ba-0cba-412d-bed8-e2dea8b49d8a"
      },
      "source": [
        "obj_df[\"married\"].value_counts()"
      ],
      "execution_count": 26,
      "outputs": [
        {
          "output_type": "execute_result",
          "data": {
            "text/plain": [
              "Yes    390\n",
              "No     209\n",
              "Name: married, dtype: int64"
            ]
          },
          "metadata": {
            "tags": []
          },
          "execution_count": 26
        }
      ]
    },
    {
      "cell_type": "code",
      "metadata": {
        "colab": {
          "base_uri": "https://localhost:8080/"
        },
        "id": "rhUVXVVrN8v-",
        "outputId": "5b72595f-ebae-4aaa-dd26-ede0109d4d36"
      },
      "source": [
        "obj_df[\"dependents\"].value_counts()"
      ],
      "execution_count": 27,
      "outputs": [
        {
          "output_type": "execute_result",
          "data": {
            "text/plain": [
              "0     345\n",
              "1     102\n",
              "2     101\n",
              "3+     51\n",
              "Name: dependents, dtype: int64"
            ]
          },
          "metadata": {
            "tags": []
          },
          "execution_count": 27
        }
      ]
    },
    {
      "cell_type": "code",
      "metadata": {
        "colab": {
          "base_uri": "https://localhost:8080/"
        },
        "id": "EewvW95WOg0o",
        "outputId": "099c6fcb-0ec7-4510-9980-8ce1a608c57a"
      },
      "source": [
        "obj_df[\"education\"].value_counts()"
      ],
      "execution_count": 28,
      "outputs": [
        {
          "output_type": "execute_result",
          "data": {
            "text/plain": [
              "Graduate        469\n",
              "Not Graduate    130\n",
              "Name: education, dtype: int64"
            ]
          },
          "metadata": {
            "tags": []
          },
          "execution_count": 28
        }
      ]
    },
    {
      "cell_type": "code",
      "metadata": {
        "colab": {
          "base_uri": "https://localhost:8080/"
        },
        "id": "2jrUcAQqOF05",
        "outputId": "5d155133-2aa4-4d35-8536-ed67f137709a"
      },
      "source": [
        "obj_df[\"self_employed\"].value_counts()"
      ],
      "execution_count": 29,
      "outputs": [
        {
          "output_type": "execute_result",
          "data": {
            "text/plain": [
              "No     519\n",
              "Yes     80\n",
              "Name: self_employed, dtype: int64"
            ]
          },
          "metadata": {
            "tags": []
          },
          "execution_count": 29
        }
      ]
    },
    {
      "cell_type": "code",
      "metadata": {
        "colab": {
          "base_uri": "https://localhost:8080/"
        },
        "id": "X1jPW6baOKDv",
        "outputId": "8f8d876b-e174-447d-bae5-15abb405f616"
      },
      "source": [
        "obj_df[\"property_area\"].value_counts()"
      ],
      "execution_count": 30,
      "outputs": [
        {
          "output_type": "execute_result",
          "data": {
            "text/plain": [
              "Semiurban    227\n",
              "Urban        195\n",
              "Rural        177\n",
              "Name: property_area, dtype: int64"
            ]
          },
          "metadata": {
            "tags": []
          },
          "execution_count": 30
        }
      ]
    },
    {
      "cell_type": "code",
      "metadata": {
        "colab": {
          "base_uri": "https://localhost:8080/"
        },
        "id": "lj7ZVvssORg7",
        "outputId": "b04c3379-645d-4db2-8c79-24814d3f2a6b"
      },
      "source": [
        "obj_df[\"loan_status\"].value_counts()"
      ],
      "execution_count": 31,
      "outputs": [
        {
          "output_type": "execute_result",
          "data": {
            "text/plain": [
              "Y    413\n",
              "N    186\n",
              "Name: loan_status, dtype: int64"
            ]
          },
          "metadata": {
            "tags": []
          },
          "execution_count": 31
        }
      ]
    },
    {
      "cell_type": "code",
      "metadata": {
        "id": "qUr6-_FFNhKV"
      },
      "source": [
        "cleanup_nums = {\"married\":     {\"Yes\": 1, \"No\": 0},\n",
        "                \"dependents\": {\"0\": 0, \"1\": 1, \"2\": 2, \"3+\": 3},\n",
        "                \"education\" : {\"Graduate\": 1, \"Not Graduate\" : 0},\n",
        "                \"self_employed\": {\"Yes\" : 1, \"No\" : 0},\n",
        "                \"property_area\": {\"Rural\" : 0, \"Semiurban\" :1, \"Urban\":2},\n",
        "                \"loan_status\": {\"N\" : 0, \"Y\":1}\n",
        "               }"
      ],
      "execution_count": 32,
      "outputs": []
    },
    {
      "cell_type": "code",
      "metadata": {
        "colab": {
          "base_uri": "https://localhost:8080/",
          "height": 203
        },
        "id": "1OnHi_BjPGmW",
        "outputId": "c396b3b1-db2d-43d6-cf1c-9180f3d5c3fb"
      },
      "source": [
        "obj_df = obj_df.replace(cleanup_nums)\n",
        "obj_df.head()"
      ],
      "execution_count": 33,
      "outputs": [
        {
          "output_type": "execute_result",
          "data": {
            "text/html": [
              "<div>\n",
              "<style scoped>\n",
              "    .dataframe tbody tr th:only-of-type {\n",
              "        vertical-align: middle;\n",
              "    }\n",
              "\n",
              "    .dataframe tbody tr th {\n",
              "        vertical-align: top;\n",
              "    }\n",
              "\n",
              "    .dataframe thead th {\n",
              "        text-align: right;\n",
              "    }\n",
              "</style>\n",
              "<table border=\"1\" class=\"dataframe\">\n",
              "  <thead>\n",
              "    <tr style=\"text-align: right;\">\n",
              "      <th></th>\n",
              "      <th>married</th>\n",
              "      <th>dependents</th>\n",
              "      <th>education</th>\n",
              "      <th>self_employed</th>\n",
              "      <th>property_area</th>\n",
              "      <th>loan_status</th>\n",
              "    </tr>\n",
              "  </thead>\n",
              "  <tbody>\n",
              "    <tr>\n",
              "      <th>0</th>\n",
              "      <td>0</td>\n",
              "      <td>0</td>\n",
              "      <td>1</td>\n",
              "      <td>0</td>\n",
              "      <td>2</td>\n",
              "      <td>1</td>\n",
              "    </tr>\n",
              "    <tr>\n",
              "      <th>1</th>\n",
              "      <td>1</td>\n",
              "      <td>1</td>\n",
              "      <td>1</td>\n",
              "      <td>0</td>\n",
              "      <td>0</td>\n",
              "      <td>0</td>\n",
              "    </tr>\n",
              "    <tr>\n",
              "      <th>2</th>\n",
              "      <td>1</td>\n",
              "      <td>0</td>\n",
              "      <td>1</td>\n",
              "      <td>1</td>\n",
              "      <td>2</td>\n",
              "      <td>1</td>\n",
              "    </tr>\n",
              "    <tr>\n",
              "      <th>3</th>\n",
              "      <td>1</td>\n",
              "      <td>0</td>\n",
              "      <td>0</td>\n",
              "      <td>0</td>\n",
              "      <td>2</td>\n",
              "      <td>1</td>\n",
              "    </tr>\n",
              "    <tr>\n",
              "      <th>4</th>\n",
              "      <td>0</td>\n",
              "      <td>0</td>\n",
              "      <td>1</td>\n",
              "      <td>0</td>\n",
              "      <td>2</td>\n",
              "      <td>1</td>\n",
              "    </tr>\n",
              "  </tbody>\n",
              "</table>\n",
              "</div>"
            ],
            "text/plain": [
              "   married  dependents  education  self_employed  property_area  loan_status\n",
              "0        0           0          1              0              2            1\n",
              "1        1           1          1              0              0            0\n",
              "2        1           0          1              1              2            1\n",
              "3        1           0          0              0              2            1\n",
              "4        0           0          1              0              2            1"
            ]
          },
          "metadata": {
            "tags": []
          },
          "execution_count": 33
        }
      ]
    },
    {
      "cell_type": "code",
      "metadata": {
        "colab": {
          "base_uri": "https://localhost:8080/"
        },
        "id": "GLIELSRSPNyn",
        "outputId": "ae6f44f7-ddda-4e26-d1ed-8048dbcc19de"
      },
      "source": [
        "data_no_mv[['married', 'dependents', 'education', 'self_employed', 'property_area', 'loan_status']]=obj_df"
      ],
      "execution_count": 34,
      "outputs": [
        {
          "output_type": "stream",
          "text": [
            "/usr/local/lib/python3.7/dist-packages/pandas/core/frame.py:3069: SettingWithCopyWarning: \n",
            "A value is trying to be set on a copy of a slice from a DataFrame.\n",
            "Try using .loc[row_indexer,col_indexer] = value instead\n",
            "\n",
            "See the caveats in the documentation: https://pandas.pydata.org/pandas-docs/stable/user_guide/indexing.html#returning-a-view-versus-a-copy\n",
            "  self[k1] = value[k2]\n"
          ],
          "name": "stderr"
        }
      ]
    },
    {
      "cell_type": "code",
      "metadata": {
        "colab": {
          "base_uri": "https://localhost:8080/",
          "height": 223
        },
        "id": "cF3mZRUjQDiJ",
        "outputId": "a875c760-70c2-4ed8-d5c6-a2518050c31d"
      },
      "source": [
        "data_no_mv.head()"
      ],
      "execution_count": 35,
      "outputs": [
        {
          "output_type": "execute_result",
          "data": {
            "text/html": [
              "<div>\n",
              "<style scoped>\n",
              "    .dataframe tbody tr th:only-of-type {\n",
              "        vertical-align: middle;\n",
              "    }\n",
              "\n",
              "    .dataframe tbody tr th {\n",
              "        vertical-align: top;\n",
              "    }\n",
              "\n",
              "    .dataframe thead th {\n",
              "        text-align: right;\n",
              "    }\n",
              "</style>\n",
              "<table border=\"1\" class=\"dataframe\">\n",
              "  <thead>\n",
              "    <tr style=\"text-align: right;\">\n",
              "      <th></th>\n",
              "      <th>married</th>\n",
              "      <th>dependents</th>\n",
              "      <th>education</th>\n",
              "      <th>self_employed</th>\n",
              "      <th>applicant_income</th>\n",
              "      <th>coapplicantincome</th>\n",
              "      <th>loan_amount</th>\n",
              "      <th>loan_amount_term</th>\n",
              "      <th>credit_history</th>\n",
              "      <th>property_area</th>\n",
              "      <th>loan_status</th>\n",
              "    </tr>\n",
              "  </thead>\n",
              "  <tbody>\n",
              "    <tr>\n",
              "      <th>0</th>\n",
              "      <td>0</td>\n",
              "      <td>0</td>\n",
              "      <td>1</td>\n",
              "      <td>0</td>\n",
              "      <td>5408.864775</td>\n",
              "      <td>0.0</td>\n",
              "      <td>128.0</td>\n",
              "      <td>360.0</td>\n",
              "      <td>1.0</td>\n",
              "      <td>2</td>\n",
              "      <td>1</td>\n",
              "    </tr>\n",
              "    <tr>\n",
              "      <th>1</th>\n",
              "      <td>1</td>\n",
              "      <td>1</td>\n",
              "      <td>1</td>\n",
              "      <td>0</td>\n",
              "      <td>5408.864775</td>\n",
              "      <td>1508.0</td>\n",
              "      <td>128.0</td>\n",
              "      <td>360.0</td>\n",
              "      <td>1.0</td>\n",
              "      <td>0</td>\n",
              "      <td>0</td>\n",
              "    </tr>\n",
              "    <tr>\n",
              "      <th>2</th>\n",
              "      <td>1</td>\n",
              "      <td>0</td>\n",
              "      <td>1</td>\n",
              "      <td>1</td>\n",
              "      <td>5408.864775</td>\n",
              "      <td>0.0</td>\n",
              "      <td>66.0</td>\n",
              "      <td>360.0</td>\n",
              "      <td>1.0</td>\n",
              "      <td>2</td>\n",
              "      <td>1</td>\n",
              "    </tr>\n",
              "    <tr>\n",
              "      <th>3</th>\n",
              "      <td>1</td>\n",
              "      <td>0</td>\n",
              "      <td>0</td>\n",
              "      <td>0</td>\n",
              "      <td>5408.864775</td>\n",
              "      <td>2358.0</td>\n",
              "      <td>120.0</td>\n",
              "      <td>360.0</td>\n",
              "      <td>1.0</td>\n",
              "      <td>2</td>\n",
              "      <td>1</td>\n",
              "    </tr>\n",
              "    <tr>\n",
              "      <th>4</th>\n",
              "      <td>0</td>\n",
              "      <td>0</td>\n",
              "      <td>1</td>\n",
              "      <td>0</td>\n",
              "      <td>5408.864775</td>\n",
              "      <td>0.0</td>\n",
              "      <td>141.0</td>\n",
              "      <td>360.0</td>\n",
              "      <td>1.0</td>\n",
              "      <td>2</td>\n",
              "      <td>1</td>\n",
              "    </tr>\n",
              "  </tbody>\n",
              "</table>\n",
              "</div>"
            ],
            "text/plain": [
              "   married  dependents  education  ...  credit_history  property_area  loan_status\n",
              "0        0           0          1  ...             1.0              2            1\n",
              "1        1           1          1  ...             1.0              0            0\n",
              "2        1           0          1  ...             1.0              2            1\n",
              "3        1           0          0  ...             1.0              2            1\n",
              "4        0           0          1  ...             1.0              2            1\n",
              "\n",
              "[5 rows x 11 columns]"
            ]
          },
          "metadata": {
            "tags": []
          },
          "execution_count": 35
        }
      ]
    },
    {
      "cell_type": "code",
      "metadata": {
        "colab": {
          "base_uri": "https://localhost:8080/"
        },
        "id": "xpEoyAvYSo34",
        "outputId": "fcb4309b-f855-4b36-d5d3-f07c2544ace5"
      },
      "source": [
        "data_no_mv.columns"
      ],
      "execution_count": 36,
      "outputs": [
        {
          "output_type": "execute_result",
          "data": {
            "text/plain": [
              "Index(['married', 'dependents', 'education', 'self_employed',\n",
              "       'applicant_income', 'coapplicantincome', 'loan_amount',\n",
              "       'loan_amount_term', 'credit_history', 'property_area', 'loan_status'],\n",
              "      dtype='object')"
            ]
          },
          "metadata": {
            "tags": []
          },
          "execution_count": 36
        }
      ]
    },
    {
      "cell_type": "code",
      "metadata": {
        "id": "BsuLOYqwUCvC"
      },
      "source": [
        "X=data_no_mv.iloc[:, :-1].values"
      ],
      "execution_count": 37,
      "outputs": []
    },
    {
      "cell_type": "code",
      "metadata": {
        "id": "taXUAZhhUKkj"
      },
      "source": [
        "y = data_no_mv.iloc[:,-1].values"
      ],
      "execution_count": 38,
      "outputs": []
    },
    {
      "cell_type": "code",
      "metadata": {
        "id": "gKJuupb6WPX-"
      },
      "source": [
        "from sklearn.model_selection import train_test_split\n",
        "X_train, X_test, y_train, y_test = train_test_split(X, y, test_size=0.2, random_state=1)"
      ],
      "execution_count": 39,
      "outputs": []
    },
    {
      "cell_type": "markdown",
      "metadata": {
        "id": "-uVZQfN2cCeZ"
      },
      "source": [
        "###Feature selection\n"
      ]
    },
    {
      "cell_type": "code",
      "metadata": {
        "colab": {
          "base_uri": "https://localhost:8080/",
          "height": 279
        },
        "id": "dCRNDFm1cG7H",
        "outputId": "beb5f825-6790-4963-a3c8-c5c58b45171a"
      },
      "source": [
        "data_no_mv.summary()"
      ],
      "execution_count": 40,
      "outputs": [
        {
          "output_type": "error",
          "ename": "AttributeError",
          "evalue": "ignored",
          "traceback": [
            "\u001b[0;31m---------------------------------------------------------------------------\u001b[0m",
            "\u001b[0;31mAttributeError\u001b[0m                            Traceback (most recent call last)",
            "\u001b[0;32m<ipython-input-40-253fa200efed>\u001b[0m in \u001b[0;36m<module>\u001b[0;34m()\u001b[0m\n\u001b[0;32m----> 1\u001b[0;31m \u001b[0mdata_no_mv\u001b[0m\u001b[0;34m.\u001b[0m\u001b[0msummary\u001b[0m\u001b[0;34m(\u001b[0m\u001b[0;34m)\u001b[0m\u001b[0;34m\u001b[0m\u001b[0;34m\u001b[0m\u001b[0m\n\u001b[0m",
            "\u001b[0;32m/usr/local/lib/python3.7/dist-packages/pandas/core/generic.py\u001b[0m in \u001b[0;36m__getattr__\u001b[0;34m(self, name)\u001b[0m\n\u001b[1;32m   5139\u001b[0m             \u001b[0;32mif\u001b[0m \u001b[0mself\u001b[0m\u001b[0;34m.\u001b[0m\u001b[0m_info_axis\u001b[0m\u001b[0;34m.\u001b[0m\u001b[0m_can_hold_identifiers_and_holds_name\u001b[0m\u001b[0;34m(\u001b[0m\u001b[0mname\u001b[0m\u001b[0;34m)\u001b[0m\u001b[0;34m:\u001b[0m\u001b[0;34m\u001b[0m\u001b[0;34m\u001b[0m\u001b[0m\n\u001b[1;32m   5140\u001b[0m                 \u001b[0;32mreturn\u001b[0m \u001b[0mself\u001b[0m\u001b[0;34m[\u001b[0m\u001b[0mname\u001b[0m\u001b[0;34m]\u001b[0m\u001b[0;34m\u001b[0m\u001b[0;34m\u001b[0m\u001b[0m\n\u001b[0;32m-> 5141\u001b[0;31m             \u001b[0;32mreturn\u001b[0m \u001b[0mobject\u001b[0m\u001b[0;34m.\u001b[0m\u001b[0m__getattribute__\u001b[0m\u001b[0;34m(\u001b[0m\u001b[0mself\u001b[0m\u001b[0;34m,\u001b[0m \u001b[0mname\u001b[0m\u001b[0;34m)\u001b[0m\u001b[0;34m\u001b[0m\u001b[0;34m\u001b[0m\u001b[0m\n\u001b[0m\u001b[1;32m   5142\u001b[0m \u001b[0;34m\u001b[0m\u001b[0m\n\u001b[1;32m   5143\u001b[0m     \u001b[0;32mdef\u001b[0m \u001b[0m__setattr__\u001b[0m\u001b[0;34m(\u001b[0m\u001b[0mself\u001b[0m\u001b[0;34m,\u001b[0m \u001b[0mname\u001b[0m\u001b[0;34m:\u001b[0m \u001b[0mstr\u001b[0m\u001b[0;34m,\u001b[0m \u001b[0mvalue\u001b[0m\u001b[0;34m)\u001b[0m \u001b[0;34m->\u001b[0m \u001b[0;32mNone\u001b[0m\u001b[0;34m:\u001b[0m\u001b[0;34m\u001b[0m\u001b[0;34m\u001b[0m\u001b[0m\n",
            "\u001b[0;31mAttributeError\u001b[0m: 'DataFrame' object has no attribute 'summary'"
          ]
        }
      ]
    },
    {
      "cell_type": "markdown",
      "metadata": {
        "id": "zFIej1VDfemb"
      },
      "source": [
        "###Feature Scaling"
      ]
    },
    {
      "cell_type": "code",
      "metadata": {
        "id": "I8e6ayFIfgsP",
        "colab": {
          "base_uri": "https://localhost:8080/"
        },
        "outputId": "9f6fd753-d695-4392-cc04-c30444e7094b"
      },
      "source": [
        "from sklearn.preprocessing import StandardScaler\n",
        "X_train[:, 4:8]"
      ],
      "execution_count": 41,
      "outputs": [
        {
          "output_type": "execute_result",
          "data": {
            "text/plain": [
              "array([[5408.86477462, 1881.        ,  167.        ,  360.        ],\n",
              "       [5408.86477462,    0.        ,   36.        ,  360.        ],\n",
              "       [5408.86477462,    0.        ,   67.        ,  360.        ],\n",
              "       ...,\n",
              "       [5408.86477462,    0.        ,   81.        ,  300.        ],\n",
              "       [5408.86477462, 5000.        ,  120.        ,  360.        ],\n",
              "       [5408.86477462, 1459.        ,  144.        ,  360.        ]])"
            ]
          },
          "metadata": {
            "tags": []
          },
          "execution_count": 41
        }
      ]
    },
    {
      "cell_type": "markdown",
      "metadata": {
        "id": "sWBDGBZcvbjM"
      },
      "source": [
        "##Training the Model"
      ]
    },
    {
      "cell_type": "markdown",
      "metadata": {
        "id": "32UseDcK_LPJ"
      },
      "source": [
        "###Logistic Regression (Logit function)"
      ]
    },
    {
      "cell_type": "code",
      "metadata": {
        "colab": {
          "base_uri": "https://localhost:8080/"
        },
        "id": "gxcL4PdoUQcU",
        "outputId": "83a5c874-1c6c-4695-a2e3-4d98875706f8"
      },
      "source": [
        "x = sm.add_constant(X_train)\n",
        "reg_log = sm.Logit(y_train, x)\n",
        "results_log=reg_log.fit()"
      ],
      "execution_count": 42,
      "outputs": [
        {
          "output_type": "stream",
          "text": [
            "Optimization terminated successfully.\n",
            "         Current function value: 0.465968\n",
            "         Iterations 6\n"
          ],
          "name": "stdout"
        }
      ]
    },
    {
      "cell_type": "code",
      "metadata": {
        "colab": {
          "base_uri": "https://localhost:8080/",
          "height": 404
        },
        "id": "nT-APvE2UmTB",
        "outputId": "7ef2cd22-afcb-4095-a896-800e216aa67d"
      },
      "source": [
        "results_log.summary()"
      ],
      "execution_count": 43,
      "outputs": [
        {
          "output_type": "execute_result",
          "data": {
            "text/html": [
              "<table class=\"simpletable\">\n",
              "<caption>Logit Regression Results</caption>\n",
              "<tr>\n",
              "  <th>Dep. Variable:</th>           <td>y</td>        <th>  No. Observations:  </th>  <td>   479</td>  \n",
              "</tr>\n",
              "<tr>\n",
              "  <th>Model:</th>                 <td>Logit</td>      <th>  Df Residuals:      </th>  <td>   469</td>  \n",
              "</tr>\n",
              "<tr>\n",
              "  <th>Method:</th>                 <td>MLE</td>       <th>  Df Model:          </th>  <td>     9</td>  \n",
              "</tr>\n",
              "<tr>\n",
              "  <th>Date:</th>            <td>Mon, 26 Jul 2021</td> <th>  Pseudo R-squ.:     </th>  <td>0.2422</td>  \n",
              "</tr>\n",
              "<tr>\n",
              "  <th>Time:</th>                <td>08:18:26</td>     <th>  Log-Likelihood:    </th> <td> -223.20</td> \n",
              "</tr>\n",
              "<tr>\n",
              "  <th>converged:</th>             <td>True</td>       <th>  LL-Null:           </th> <td> -294.53</td> \n",
              "</tr>\n",
              "<tr>\n",
              "  <th>Covariance Type:</th>     <td>nonrobust</td>    <th>  LLR p-value:       </th> <td>2.918e-26</td>\n",
              "</tr>\n",
              "</table>\n",
              "<table class=\"simpletable\">\n",
              "<tr>\n",
              "   <td></td>      <th>coef</th>     <th>std err</th>      <th>z</th>      <th>P>|z|</th>  <th>[0.025</th>    <th>0.975]</th>  \n",
              "</tr>\n",
              "<tr>\n",
              "  <th>x1</th>  <td>    0.5285</td> <td>    0.264</td> <td>    1.999</td> <td> 0.046</td> <td>    0.010</td> <td>    1.047</td>\n",
              "</tr>\n",
              "<tr>\n",
              "  <th>x2</th>  <td>   -0.0051</td> <td>    0.132</td> <td>   -0.038</td> <td> 0.969</td> <td>   -0.264</td> <td>    0.254</td>\n",
              "</tr>\n",
              "<tr>\n",
              "  <th>x3</th>  <td>    0.3851</td> <td>    0.293</td> <td>    1.314</td> <td> 0.189</td> <td>   -0.189</td> <td>    0.959</td>\n",
              "</tr>\n",
              "<tr>\n",
              "  <th>x4</th>  <td>   -0.0740</td> <td>    0.349</td> <td>   -0.212</td> <td> 0.832</td> <td>   -0.759</td> <td>    0.611</td>\n",
              "</tr>\n",
              "<tr>\n",
              "  <th>x5</th>  <td>   -0.0005</td> <td>    0.000</td> <td>   -3.060</td> <td> 0.002</td> <td>   -0.001</td> <td>   -0.000</td>\n",
              "</tr>\n",
              "<tr>\n",
              "  <th>x6</th>  <td> -5.24e-05</td> <td> 3.91e-05</td> <td>   -1.341</td> <td> 0.180</td> <td>   -0.000</td> <td> 2.42e-05</td>\n",
              "</tr>\n",
              "<tr>\n",
              "  <th>x7</th>  <td>-7.226e-05</td> <td>    0.002</td> <td>   -0.048</td> <td> 0.962</td> <td>   -0.003</td> <td>    0.003</td>\n",
              "</tr>\n",
              "<tr>\n",
              "  <th>x8</th>  <td>   -0.0010</td> <td>    0.002</td> <td>   -0.509</td> <td> 0.611</td> <td>   -0.005</td> <td>    0.003</td>\n",
              "</tr>\n",
              "<tr>\n",
              "  <th>x9</th>  <td>    3.8948</td> <td>    0.486</td> <td>    8.007</td> <td> 0.000</td> <td>    2.941</td> <td>    4.848</td>\n",
              "</tr>\n",
              "<tr>\n",
              "  <th>x10</th> <td>    0.0926</td> <td>    0.155</td> <td>    0.596</td> <td> 0.551</td> <td>   -0.212</td> <td>    0.397</td>\n",
              "</tr>\n",
              "</table>"
            ],
            "text/plain": [
              "<class 'statsmodels.iolib.summary.Summary'>\n",
              "\"\"\"\n",
              "                           Logit Regression Results                           \n",
              "==============================================================================\n",
              "Dep. Variable:                      y   No. Observations:                  479\n",
              "Model:                          Logit   Df Residuals:                      469\n",
              "Method:                           MLE   Df Model:                            9\n",
              "Date:                Mon, 26 Jul 2021   Pseudo R-squ.:                  0.2422\n",
              "Time:                        08:18:26   Log-Likelihood:                -223.20\n",
              "converged:                       True   LL-Null:                       -294.53\n",
              "Covariance Type:            nonrobust   LLR p-value:                 2.918e-26\n",
              "==============================================================================\n",
              "                 coef    std err          z      P>|z|      [0.025      0.975]\n",
              "------------------------------------------------------------------------------\n",
              "x1             0.5285      0.264      1.999      0.046       0.010       1.047\n",
              "x2            -0.0051      0.132     -0.038      0.969      -0.264       0.254\n",
              "x3             0.3851      0.293      1.314      0.189      -0.189       0.959\n",
              "x4            -0.0740      0.349     -0.212      0.832      -0.759       0.611\n",
              "x5            -0.0005      0.000     -3.060      0.002      -0.001      -0.000\n",
              "x6          -5.24e-05   3.91e-05     -1.341      0.180      -0.000    2.42e-05\n",
              "x7         -7.226e-05      0.002     -0.048      0.962      -0.003       0.003\n",
              "x8            -0.0010      0.002     -0.509      0.611      -0.005       0.003\n",
              "x9             3.8948      0.486      8.007      0.000       2.941       4.848\n",
              "x10            0.0926      0.155      0.596      0.551      -0.212       0.397\n",
              "==============================================================================\n",
              "\"\"\""
            ]
          },
          "metadata": {
            "tags": []
          },
          "execution_count": 43
        }
      ]
    },
    {
      "cell_type": "markdown",
      "metadata": {
        "id": "qId1psstKq7G"
      },
      "source": [
        ""
      ]
    },
    {
      "cell_type": "code",
      "metadata": {
        "colab": {
          "base_uri": "https://localhost:8080/"
        },
        "id": "ugvShLC1Wpws",
        "outputId": "7558f977-2f7c-4e9f-df96-0c7fac653d50"
      },
      "source": [
        "np.set_printoptions(formatter={'float': lambda x: '{0:0.2f}'.format(x)})\n",
        "results_log.predict()"
      ],
      "execution_count": 44,
      "outputs": [
        {
          "output_type": "execute_result",
          "data": {
            "text/plain": [
              "array([0.84, 0.85, 0.86, 0.77, 0.71, 0.86, 0.73, 0.67, 0.07, 0.83, 0.84,\n",
              "       0.85, 0.76, 0.89, 0.86, 0.32, 0.78, 0.77, 0.78, 0.84, 0.73, 0.82,\n",
              "       0.79, 0.76, 0.86, 0.82, 0.86, 0.74, 0.63, 0.82, 0.80, 0.84, 0.83,\n",
              "       0.78, 0.67, 0.81, 0.88, 0.87, 0.83, 0.82, 0.76, 0.78, 0.78, 0.09,\n",
              "       0.07, 0.82, 0.75, 0.86, 0.76, 0.88, 0.84, 0.84, 0.83, 0.81, 0.88,\n",
              "       0.06, 0.81, 0.06, 0.71, 0.78, 0.08, 0.86, 0.82, 0.78, 0.75, 0.78,\n",
              "       0.78, 0.73, 0.69, 0.83, 0.77, 0.86, 0.82, 0.77, 0.84, 0.74, 0.84,\n",
              "       0.86, 0.77, 0.75, 0.76, 0.05, 0.75, 0.79, 0.05, 0.67, 0.06, 0.82,\n",
              "       0.81, 0.82, 0.75, 0.79, 0.81, 0.85, 0.79, 0.77, 0.85, 0.75, 0.84,\n",
              "       0.06, 0.84, 0.76, 0.78, 0.75, 0.86, 0.78, 0.78, 0.08, 0.83, 0.85,\n",
              "       0.73, 0.10, 0.07, 0.82, 0.85, 0.86, 0.85, 0.87, 0.83, 0.77, 0.86,\n",
              "       0.72, 0.06, 0.75, 0.77, 0.06, 0.07, 0.71, 0.76, 0.86, 0.76, 0.77,\n",
              "       0.86, 0.75, 0.84, 0.77, 0.82, 0.83, 0.09, 0.85, 0.72, 0.85, 0.78,\n",
              "       0.10, 0.69, 0.64, 0.85, 0.85, 0.78, 0.70, 0.67, 0.06, 0.75, 0.81,\n",
              "       0.75, 0.85, 0.75, 0.85, 0.77, 0.83, 0.84, 0.85, 0.82, 0.66, 0.67,\n",
              "       0.83, 0.79, 0.74, 0.82, 0.79, 0.79, 0.82, 0.07, 0.75, 0.77, 0.05,\n",
              "       0.81, 0.78, 0.86, 0.82, 0.86, 0.10, 0.84, 0.80, 0.06, 0.06, 0.06,\n",
              "       0.81, 0.85, 0.69, 0.09, 0.86, 0.84, 0.88, 0.67, 0.78, 0.09, 0.77,\n",
              "       0.06, 0.83, 0.75, 0.83, 0.83, 0.78, 0.77, 0.78, 0.77, 0.78, 0.09,\n",
              "       0.85, 0.74, 0.88, 0.67, 0.06, 0.84, 0.05, 0.76, 0.82, 0.83, 0.86,\n",
              "       0.85, 0.67, 0.07, 0.77, 0.66, 0.83, 0.76, 0.76, 0.77, 0.76, 0.83,\n",
              "       0.77, 0.73, 0.81, 0.86, 0.83, 0.67, 0.75, 0.71, 0.76, 0.84, 0.69,\n",
              "       0.82, 0.85, 0.09, 0.85, 0.83, 0.06, 0.72, 0.84, 0.76, 0.81, 0.85,\n",
              "       0.82, 0.85, 0.86, 0.64, 0.85, 0.86, 0.86, 0.04, 0.04, 0.86, 0.82,\n",
              "       0.79, 0.70, 0.86, 0.84, 0.84, 0.78, 0.82, 0.80, 0.75, 0.78, 0.87,\n",
              "       0.85, 0.73, 0.82, 0.83, 0.76, 0.77, 0.83, 0.71, 0.85, 0.83, 0.84,\n",
              "       0.83, 0.77, 0.82, 0.84, 0.09, 0.83, 0.82, 0.84, 0.84, 0.76, 0.09,\n",
              "       0.85, 0.84, 0.76, 0.78, 0.77, 0.76, 0.85, 0.10, 0.86, 0.09, 0.78,\n",
              "       0.75, 0.77, 0.86, 0.08, 0.74, 0.86, 0.85, 0.85, 0.76, 0.75, 0.06,\n",
              "       0.88, 0.85, 0.83, 0.82, 0.83, 0.67, 0.85, 0.82, 0.78, 0.82, 0.73,\n",
              "       0.82, 0.78, 0.09, 0.75, 0.83, 0.70, 0.86, 0.78, 0.11, 0.84, 0.83,\n",
              "       0.09, 0.82, 0.76, 0.85, 0.85, 0.84, 0.83, 0.11, 0.77, 0.78, 0.77,\n",
              "       0.08, 0.83, 0.06, 0.09, 0.11, 0.10, 0.04, 0.83, 0.68, 0.06, 0.82,\n",
              "       0.80, 0.85, 0.80, 0.86, 0.67, 0.85, 0.84, 0.87, 0.73, 0.78, 0.81,\n",
              "       0.82, 0.77, 0.83, 0.74, 0.71, 0.83, 0.85, 0.79, 0.82, 0.69, 0.11,\n",
              "       0.84, 0.53, 0.78, 0.83, 0.85, 0.85, 0.85, 0.83, 0.76, 0.76, 0.10,\n",
              "       0.75, 0.76, 0.83, 0.75, 0.78, 0.07, 0.84, 0.77, 0.77, 0.82, 0.83,\n",
              "       0.84, 0.78, 0.77, 0.77, 0.82, 0.82, 0.83, 0.76, 0.75, 0.82, 0.84,\n",
              "       0.75, 0.73, 0.06, 0.84, 0.83, 0.81, 0.06, 0.82, 0.85, 0.76, 0.84,\n",
              "       0.77, 0.06, 0.78, 0.82, 0.72, 0.83, 0.83, 0.83, 0.78, 0.67, 0.08,\n",
              "       0.08, 0.65, 0.76, 0.84, 0.76, 0.76, 0.77, 0.85, 0.72, 0.85, 0.83,\n",
              "       0.73, 0.06, 0.09, 0.73, 0.88, 0.77, 0.66, 0.81, 0.10, 0.85, 0.09,\n",
              "       0.09, 0.83, 0.86, 0.67, 0.85, 0.79, 0.84, 0.70, 0.75, 0.68, 0.77,\n",
              "       0.82, 0.77, 0.85, 0.78, 0.79, 0.84])"
            ]
          },
          "metadata": {
            "tags": []
          },
          "execution_count": 44
        }
      ]
    },
    {
      "cell_type": "code",
      "metadata": {
        "colab": {
          "base_uri": "https://localhost:8080/"
        },
        "id": "iBCR5frjZAJT",
        "outputId": "de11eed4-f5d3-4371-bab5-2b0ba585129f"
      },
      "source": [
        "np.array(data_no_mv['loan_status'])"
      ],
      "execution_count": 45,
      "outputs": [
        {
          "output_type": "execute_result",
          "data": {
            "text/plain": [
              "array([1, 0, 1, 1, 1, 1, 1, 0, 1, 0, 1, 1, 1, 0, 1, 1, 1, 0, 0, 1, 0, 1,\n",
              "       0, 0, 0, 1, 1, 1, 0, 1, 0, 0, 0, 1, 0, 1, 0, 1, 1, 1, 0, 1, 1, 1,\n",
              "       1, 1, 1, 1, 0, 1, 1, 1, 0, 0, 0, 1, 1, 0, 1, 1, 1, 1, 0, 0, 0, 0,\n",
              "       0, 1, 1, 0, 1, 1, 1, 0, 1, 0, 0, 0, 0, 1, 1, 1, 0, 0, 1, 1, 1, 1,\n",
              "       1, 1, 1, 1, 1, 1, 1, 0, 1, 1, 1, 1, 1, 1, 1, 1, 1, 0, 0, 1, 1, 1,\n",
              "       0, 1, 1, 1, 1, 1, 0, 1, 1, 1, 1, 1, 1, 1, 1, 0, 0, 1, 1, 1, 1, 1,\n",
              "       0, 0, 1, 0, 0, 0, 1, 1, 1, 1, 1, 1, 1, 0, 1, 0, 1, 0, 0, 1, 1, 1,\n",
              "       1, 1, 1, 1, 0, 0, 1, 1, 1, 0, 1, 0, 1, 1, 1, 0, 1, 0, 1, 1, 0, 1,\n",
              "       0, 0, 0, 1, 0, 1, 1, 0, 1, 1, 1, 1, 0, 0, 1, 1, 0, 1, 1, 1, 0, 1,\n",
              "       1, 0, 1, 1, 1, 1, 1, 1, 0, 0, 0, 1, 1, 1, 1, 0, 1, 0, 1, 0, 1, 1,\n",
              "       1, 1, 0, 1, 1, 1, 1, 1, 1, 1, 1, 0, 1, 1, 1, 1, 0, 1, 1, 1, 0, 1,\n",
              "       1, 1, 1, 0, 0, 1, 1, 0, 1, 0, 0, 0, 0, 1, 1, 0, 1, 1, 1, 1, 1, 0,\n",
              "       1, 1, 1, 1, 1, 1, 1, 1, 1, 1, 1, 0, 1, 1, 1, 0, 1, 0, 1, 1, 1, 1,\n",
              "       0, 1, 1, 1, 1, 1, 0, 0, 0, 1, 1, 1, 0, 1, 0, 0, 1, 1, 1, 1, 1, 0,\n",
              "       1, 1, 1, 1, 0, 1, 1, 1, 1, 1, 0, 1, 1, 0, 1, 1, 1, 1, 1, 1, 1, 0,\n",
              "       1, 0, 0, 1, 1, 1, 1, 1, 1, 1, 1, 0, 1, 0, 1, 1, 0, 0, 1, 0, 1, 1,\n",
              "       1, 1, 0, 0, 0, 1, 0, 1, 1, 1, 0, 1, 1, 1, 1, 0, 1, 1, 1, 1, 1, 0,\n",
              "       1, 1, 0, 1, 1, 1, 1, 1, 1, 1, 1, 0, 1, 1, 0, 0, 0, 1, 1, 0, 1, 1,\n",
              "       1, 0, 0, 0, 1, 0, 1, 0, 1, 0, 0, 1, 1, 1, 0, 1, 0, 1, 1, 0, 1, 1,\n",
              "       1, 1, 0, 1, 1, 1, 1, 1, 0, 1, 1, 1, 1, 1, 1, 1, 1, 0, 0, 0, 0, 1,\n",
              "       0, 1, 1, 1, 1, 0, 1, 0, 1, 1, 1, 1, 0, 1, 0, 1, 1, 0, 1, 0, 1, 1,\n",
              "       1, 1, 1, 0, 1, 0, 1, 1, 1, 1, 1, 1, 0, 0, 1, 0, 1, 1, 1, 1, 0, 1,\n",
              "       1, 1, 1, 0, 1, 1, 1, 0, 1, 1, 1, 0, 1, 1, 0, 1, 1, 0, 0, 1, 1, 0,\n",
              "       0, 1, 1, 1, 1, 0, 1, 1, 1, 1, 1, 1, 1, 0, 0, 1, 1, 1, 1, 0, 1, 1,\n",
              "       0, 1, 1, 1, 1, 0, 1, 0, 1, 0, 1, 1, 0, 0, 1, 1, 1, 1, 1, 1, 1, 1,\n",
              "       1, 0, 1, 1, 0, 0, 0, 1, 1, 0, 0, 1, 0, 1, 1, 1, 1, 0, 1, 0, 0, 0,\n",
              "       1, 1, 1, 0, 1, 0, 1, 1, 1, 1, 0, 1, 1, 0, 1, 1, 1, 1, 0, 1, 1, 1,\n",
              "       1, 1, 1, 1, 0])"
            ]
          },
          "metadata": {
            "tags": []
          },
          "execution_count": 45
        }
      ]
    },
    {
      "cell_type": "code",
      "metadata": {
        "colab": {
          "base_uri": "https://localhost:8080/"
        },
        "id": "fDo6OUAUZuQi",
        "outputId": "511738d3-f7dd-467a-af8b-cb2465f5f750"
      },
      "source": [
        "results_log.pred_table()"
      ],
      "execution_count": 46,
      "outputs": [
        {
          "output_type": "execute_result",
          "data": {
            "text/plain": [
              "array([[62.00, 84.00],\n",
              "       [5.00, 328.00]])"
            ]
          },
          "metadata": {
            "tags": []
          },
          "execution_count": 46
        }
      ]
    },
    {
      "cell_type": "code",
      "metadata": {
        "colab": {
          "base_uri": "https://localhost:8080/",
          "height": 110
        },
        "id": "cL0cP1jmZ0O_",
        "outputId": "416fab94-cc1d-48ec-8329-f5fbcbc63e07"
      },
      "source": [
        "cm_df = pd.DataFrame(results_log.pred_table())\n",
        "cm_df.columns = ['Predicted 0', 'Predicted 1']\n",
        "cm_df = cm_df.rename(index={0:'Actual 0', 1: 'Actual 1'})\n",
        "cm_df"
      ],
      "execution_count": 47,
      "outputs": [
        {
          "output_type": "execute_result",
          "data": {
            "text/html": [
              "<div>\n",
              "<style scoped>\n",
              "    .dataframe tbody tr th:only-of-type {\n",
              "        vertical-align: middle;\n",
              "    }\n",
              "\n",
              "    .dataframe tbody tr th {\n",
              "        vertical-align: top;\n",
              "    }\n",
              "\n",
              "    .dataframe thead th {\n",
              "        text-align: right;\n",
              "    }\n",
              "</style>\n",
              "<table border=\"1\" class=\"dataframe\">\n",
              "  <thead>\n",
              "    <tr style=\"text-align: right;\">\n",
              "      <th></th>\n",
              "      <th>Predicted 0</th>\n",
              "      <th>Predicted 1</th>\n",
              "    </tr>\n",
              "  </thead>\n",
              "  <tbody>\n",
              "    <tr>\n",
              "      <th>Actual 0</th>\n",
              "      <td>62.0</td>\n",
              "      <td>84.0</td>\n",
              "    </tr>\n",
              "    <tr>\n",
              "      <th>Actual 1</th>\n",
              "      <td>5.0</td>\n",
              "      <td>328.0</td>\n",
              "    </tr>\n",
              "  </tbody>\n",
              "</table>\n",
              "</div>"
            ],
            "text/plain": [
              "          Predicted 0  Predicted 1\n",
              "Actual 0         62.0         84.0\n",
              "Actual 1          5.0        328.0"
            ]
          },
          "metadata": {
            "tags": []
          },
          "execution_count": 47
        }
      ]
    },
    {
      "cell_type": "markdown",
      "metadata": {
        "id": "8DOUCqbLFcQv"
      },
      "source": [
        "###F-Measure"
      ]
    },
    {
      "cell_type": "code",
      "metadata": {
        "colab": {
          "base_uri": "https://localhost:8080/"
        },
        "id": "Wq98T2Eg7wCk",
        "outputId": "0fe9b93d-fc7d-4cba-b2b5-5a2f734f9048"
      },
      "source": [
        "precision = 328/(328+84)\n",
        "print(\"Precision: %.2f\"%precision)"
      ],
      "execution_count": 56,
      "outputs": [
        {
          "output_type": "stream",
          "text": [
            "Precision: 0.80\n"
          ],
          "name": "stdout"
        }
      ]
    },
    {
      "cell_type": "code",
      "metadata": {
        "colab": {
          "base_uri": "https://localhost:8080/"
        },
        "id": "2ho950Hm71kY",
        "outputId": "db3bdef8-27c7-449b-d3ff-cbdb9717adac"
      },
      "source": [
        "recall = 328/(328+5)\n",
        "print(\"Recall: %.2f\"%recall)"
      ],
      "execution_count": 57,
      "outputs": [
        {
          "output_type": "stream",
          "text": [
            "Recall: 0.98\n"
          ],
          "name": "stdout"
        }
      ]
    },
    {
      "cell_type": "code",
      "metadata": {
        "colab": {
          "base_uri": "https://localhost:8080/"
        },
        "id": "n3g93SH9Fhsc",
        "outputId": "234b8fcf-931b-44e2-d0e0-92bdaebee191"
      },
      "source": [
        "f_measure = (2*precision*recall)/(precision+recall)\n",
        "print(\"F-measure: %.2f\"%f_measure)"
      ],
      "execution_count": 58,
      "outputs": [
        {
          "output_type": "stream",
          "text": [
            "F-measure: 0.88\n"
          ],
          "name": "stdout"
        }
      ]
    },
    {
      "cell_type": "code",
      "metadata": {
        "colab": {
          "base_uri": "https://localhost:8080/"
        },
        "id": "xmxf1J2PMTS6",
        "outputId": "8a4fdad0-e4c1-4f0b-951b-3d31436268c8"
      },
      "source": [
        "import math\n",
        "sensitivity = 328/(328+5)\n",
        "specificity = 62/(62+84)\n",
        "g_mean = math.sqrt(sensitivity*specificity)\n",
        "print(\"G-mean: %.2f\"%g_mean)"
      ],
      "execution_count": 49,
      "outputs": [
        {
          "output_type": "stream",
          "text": [
            "G-mean: 0.65\n"
          ],
          "name": "stdout"
        }
      ]
    },
    {
      "cell_type": "markdown",
      "metadata": {
        "id": "51ypwG9U3Wuy"
      },
      "source": [
        "###Fbeta-Measure\n"
      ]
    },
    {
      "cell_type": "code",
      "metadata": {
        "colab": {
          "base_uri": "https://localhost:8080/"
        },
        "id": "d7RRxjp83dLw",
        "outputId": "4e319ae0-92ad-48e0-bba6-d243b16cc09f"
      },
      "source": [
        "#beta=0.5\n",
        "Fbeta = ((1 + math.pow(0.5,2)) * precision * recall) / (math.pow(0.5,2) * precision + recall)\n",
        "print(\"F0.5 measure: %.2f\"%Fbeta)"
      ],
      "execution_count": 51,
      "outputs": [
        {
          "output_type": "stream",
          "text": [
            "F0.5 measure: 0.83\n"
          ],
          "name": "stdout"
        }
      ]
    },
    {
      "cell_type": "code",
      "metadata": {
        "colab": {
          "base_uri": "https://localhost:8080/"
        },
        "id": "o5cOde7v5YAg",
        "outputId": "40615b19-383d-4dbb-ca80-2cca7ecac00f"
      },
      "source": [
        "#beta=1\n",
        "Fbeta = ((1 + math.pow(1,2)) * precision * recall) / (math.pow(1,2) * precision + recall)\n",
        "print(\"F1 measure: %.2f\"%Fbeta)"
      ],
      "execution_count": 52,
      "outputs": [
        {
          "output_type": "stream",
          "text": [
            "F1 measure: 0.88\n"
          ],
          "name": "stdout"
        }
      ]
    },
    {
      "cell_type": "code",
      "metadata": {
        "colab": {
          "base_uri": "https://localhost:8080/"
        },
        "id": "weObvAiZ5fyn",
        "outputId": "3b4a3dd9-d99f-4127-c1ae-d962843abe3f"
      },
      "source": [
        "#beta=2\n",
        "Fbeta = ((1 + math.pow(2,2)) * precision * recall) / (math.pow(2,2) * precision + recall)\n",
        "print(\"F2 measure: %.2f\"%Fbeta)"
      ],
      "execution_count": 54,
      "outputs": [
        {
          "output_type": "stream",
          "text": [
            "F2 measure: 0.94\n"
          ],
          "name": "stdout"
        }
      ]
    },
    {
      "cell_type": "markdown",
      "metadata": {
        "id": "qfSDUmRY-Ts_"
      },
      "source": [
        "###Testing the Model"
      ]
    },
    {
      "cell_type": "code",
      "metadata": {
        "id": "xUAYr-km-WNM"
      },
      "source": [
        "x_test = sm.add_constant(X_test)\n",
        "reg_log = sm.Logit(y_test, x_test)"
      ],
      "execution_count": null,
      "outputs": []
    },
    {
      "cell_type": "code",
      "metadata": {
        "id": "Qw_t7zg7D2gi"
      },
      "source": [
        "def confusion_matrix(data,actual_values,model):\n",
        "    \n",
        "        pred_values = model.predict(data)\n",
        "        bins=np.array([0,0.5,1])\n",
        "        cm = np.histogram2d(actual_values, pred_values, bins=bins)[0]\n",
        "        accuracy = (cm[0,0]+cm[1,1])/cm.sum()\n",
        "        return cm, accuracy"
      ],
      "execution_count": null,
      "outputs": []
    },
    {
      "cell_type": "code",
      "metadata": {
        "id": "jzQsrinhD6f7"
      },
      "source": [
        "cm = confusion_matrix(x_test,y_test,results_log)\n",
        "cm"
      ],
      "execution_count": null,
      "outputs": []
    },
    {
      "cell_type": "code",
      "metadata": {
        "id": "P-9l6S-sEFsu"
      },
      "source": [
        "cm_df = pd.DataFrame(cm[0])\n",
        "cm_df.columns = ['Predicted 0','Predicted 1']\n",
        "cm_df = cm_df.rename(index={0: 'Actual 0',1:'Actual 1'})\n",
        "cm_df"
      ],
      "execution_count": null,
      "outputs": []
    },
    {
      "cell_type": "code",
      "metadata": {
        "id": "zD-u-I3rEOFw"
      },
      "source": [
        "print ('Missclassification rate: %.2f' %(((25/(17+23+2+78))*100)), \"%\")"
      ],
      "execution_count": null,
      "outputs": []
    },
    {
      "cell_type": "markdown",
      "metadata": {
        "id": "WVZnxAMn3rfQ"
      },
      "source": [
        "###Model evaluation based on K-fold-cross validation"
      ]
    },
    {
      "cell_type": "code",
      "metadata": {
        "id": "qlLr-V3w3xM6"
      },
      "source": [
        "classifier = LogisticRegression()\n",
        "classifier.fit(X_train, y_train)"
      ],
      "execution_count": null,
      "outputs": []
    },
    {
      "cell_type": "code",
      "metadata": {
        "id": "vRBzr0fRBfKf"
      },
      "source": [
        "from sklearn.metrics import confusion_matrix, accuracy_score\n",
        "y_pred = classifier.predict(X_test)\n",
        "cm = confusion_matrix(y_test, y_pred)\n",
        "a_s=accuracy_score(y_test, y_pred)\n",
        "a_s*=100\n",
        "print(\"Accuracy score: %.2f\"%a_s)"
      ],
      "execution_count": null,
      "outputs": []
    },
    {
      "cell_type": "code",
      "metadata": {
        "id": "zJmDchkL572k"
      },
      "source": [
        "accuracies = cross_val_score(estimator = classifier, X=X_train, y=y_train, cv=10)\n",
        "print(\"Accuracy  (K-fold-cross validation): {:.2f}%\".format(accuracies.mean()*100))"
      ],
      "execution_count": null,
      "outputs": []
    },
    {
      "cell_type": "code",
      "metadata": {
        "id": "Tmpbwo20T8_-"
      },
      "source": [
        ""
      ],
      "execution_count": null,
      "outputs": []
    }
  ]
}