{
  "nbformat": 4,
  "nbformat_minor": 0,
  "metadata": {
    "colab": {
      "name": "DSChallengeipynb",
      "provenance": []
    },
    "kernelspec": {
      "name": "python3",
      "display_name": "Python 3"
    },
    "language_info": {
      "name": "python"
    }
  },
  "cells": [
    {
      "cell_type": "markdown",
      "metadata": {
        "id": "nm1Uh_-5-n-1"
      },
      "source": [
        "##Import Data and Python Packages"
      ]
    },
    {
      "cell_type": "code",
      "metadata": {
        "id": "T_MjXbnJ-wdV"
      },
      "source": [
        "import numpy as np\n",
        "import pandas as pd\n",
        "import matplotlib.pyplot as plt\n",
        "import statsmodels.api as sm\n",
        "import seaborn as sns\n",
        "from sklearn import preprocessing\n",
        "from sklearn.impute import SimpleImputer\n",
        "from sklearn.linear_model import LogisticRegression\n",
        "\n",
        "from sklearn.model_selection import cross_val_score\n",
        "from scipy import stats\n",
        "\n",
        "sns.set()\n",
        "stats.chisqprob = lambda chiq, df:stats.chi2.sf(chisq, sf)"
      ],
      "execution_count": 334,
      "outputs": []
    },
    {
      "cell_type": "code",
      "metadata": {
        "id": "7diC3uMp_EmF"
      },
      "source": [
        "raw_data = pd.read_csv(\"DSChallenge.csv\")"
      ],
      "execution_count": 335,
      "outputs": []
    },
    {
      "cell_type": "code",
      "metadata": {
        "colab": {
          "base_uri": "https://localhost:8080/",
          "height": 203
        },
        "id": "iPAL2Hwh_PbK",
        "outputId": "9a7b0274-59f8-424e-9531-4ad19893d586"
      },
      "source": [
        "raw_data.head()"
      ],
      "execution_count": 336,
      "outputs": [
        {
          "output_type": "execute_result",
          "data": {
            "text/html": [
              "<div>\n",
              "<style scoped>\n",
              "    .dataframe tbody tr th:only-of-type {\n",
              "        vertical-align: middle;\n",
              "    }\n",
              "\n",
              "    .dataframe tbody tr th {\n",
              "        vertical-align: top;\n",
              "    }\n",
              "\n",
              "    .dataframe thead th {\n",
              "        text-align: right;\n",
              "    }\n",
              "</style>\n",
              "<table border=\"1\" class=\"dataframe\">\n",
              "  <thead>\n",
              "    <tr style=\"text-align: right;\">\n",
              "      <th></th>\n",
              "      <th>Loan_ID</th>\n",
              "      <th>Gender</th>\n",
              "      <th>Married</th>\n",
              "      <th>Dependents</th>\n",
              "      <th>Education</th>\n",
              "      <th>Self_Employed</th>\n",
              "      <th>ApplicantIncome</th>\n",
              "      <th>CoapplicantIncome</th>\n",
              "      <th>LoanAmount</th>\n",
              "      <th>Loan_Amount_Term</th>\n",
              "      <th>Credit_History</th>\n",
              "      <th>Property_Area</th>\n",
              "      <th>Loan_Status</th>\n",
              "    </tr>\n",
              "  </thead>\n",
              "  <tbody>\n",
              "    <tr>\n",
              "      <th>0</th>\n",
              "      <td>ID1</td>\n",
              "      <td>Male</td>\n",
              "      <td>No</td>\n",
              "      <td>0</td>\n",
              "      <td>Graduate</td>\n",
              "      <td>No</td>\n",
              "      <td>5849</td>\n",
              "      <td>0.0</td>\n",
              "      <td>NaN</td>\n",
              "      <td>360.0</td>\n",
              "      <td>1.0</td>\n",
              "      <td>Urban</td>\n",
              "      <td>Y</td>\n",
              "    </tr>\n",
              "    <tr>\n",
              "      <th>1</th>\n",
              "      <td>ID2</td>\n",
              "      <td>Male</td>\n",
              "      <td>Yes</td>\n",
              "      <td>1</td>\n",
              "      <td>Graduate</td>\n",
              "      <td>No</td>\n",
              "      <td>4583</td>\n",
              "      <td>1508.0</td>\n",
              "      <td>128.0</td>\n",
              "      <td>360.0</td>\n",
              "      <td>1.0</td>\n",
              "      <td>Rural</td>\n",
              "      <td>N</td>\n",
              "    </tr>\n",
              "    <tr>\n",
              "      <th>2</th>\n",
              "      <td>ID3</td>\n",
              "      <td>Male</td>\n",
              "      <td>Yes</td>\n",
              "      <td>0</td>\n",
              "      <td>Graduate</td>\n",
              "      <td>Yes</td>\n",
              "      <td>3000</td>\n",
              "      <td>0.0</td>\n",
              "      <td>66.0</td>\n",
              "      <td>360.0</td>\n",
              "      <td>1.0</td>\n",
              "      <td>Urban</td>\n",
              "      <td>Y</td>\n",
              "    </tr>\n",
              "    <tr>\n",
              "      <th>3</th>\n",
              "      <td>ID4</td>\n",
              "      <td>Male</td>\n",
              "      <td>Yes</td>\n",
              "      <td>0</td>\n",
              "      <td>Not Graduate</td>\n",
              "      <td>No</td>\n",
              "      <td>2583</td>\n",
              "      <td>2358.0</td>\n",
              "      <td>120.0</td>\n",
              "      <td>360.0</td>\n",
              "      <td>1.0</td>\n",
              "      <td>Urban</td>\n",
              "      <td>Y</td>\n",
              "    </tr>\n",
              "    <tr>\n",
              "      <th>4</th>\n",
              "      <td>ID5</td>\n",
              "      <td>Male</td>\n",
              "      <td>No</td>\n",
              "      <td>0</td>\n",
              "      <td>Graduate</td>\n",
              "      <td>No</td>\n",
              "      <td>6000</td>\n",
              "      <td>0.0</td>\n",
              "      <td>141.0</td>\n",
              "      <td>360.0</td>\n",
              "      <td>1.0</td>\n",
              "      <td>Urban</td>\n",
              "      <td>Y</td>\n",
              "    </tr>\n",
              "  </tbody>\n",
              "</table>\n",
              "</div>"
            ],
            "text/plain": [
              "  Loan_ID Gender Married  ... Credit_History Property_Area Loan_Status\n",
              "0     ID1   Male      No  ...            1.0         Urban           Y\n",
              "1     ID2   Male     Yes  ...            1.0         Rural           N\n",
              "2     ID3   Male     Yes  ...            1.0         Urban           Y\n",
              "3     ID4   Male     Yes  ...            1.0         Urban           Y\n",
              "4     ID5   Male      No  ...            1.0         Urban           Y\n",
              "\n",
              "[5 rows x 13 columns]"
            ]
          },
          "metadata": {
            "tags": []
          },
          "execution_count": 336
        }
      ]
    },
    {
      "cell_type": "code",
      "metadata": {
        "colab": {
          "base_uri": "https://localhost:8080/"
        },
        "id": "ceghiCI6Blsg",
        "outputId": "732d3f3e-91dc-4796-e41c-02f52d867808"
      },
      "source": [
        "raw_data.info()"
      ],
      "execution_count": 337,
      "outputs": [
        {
          "output_type": "stream",
          "text": [
            "<class 'pandas.core.frame.DataFrame'>\n",
            "RangeIndex: 614 entries, 0 to 613\n",
            "Data columns (total 13 columns):\n",
            " #   Column             Non-Null Count  Dtype  \n",
            "---  ------             --------------  -----  \n",
            " 0   Loan_ID            614 non-null    object \n",
            " 1   Gender             601 non-null    object \n",
            " 2   Married            611 non-null    object \n",
            " 3   Dependents         599 non-null    object \n",
            " 4   Education          614 non-null    object \n",
            " 5   Self_Employed      582 non-null    object \n",
            " 6   ApplicantIncome    614 non-null    int64  \n",
            " 7   CoapplicantIncome  614 non-null    float64\n",
            " 8   LoanAmount         592 non-null    float64\n",
            " 9   Loan_Amount_Term   600 non-null    float64\n",
            " 10  Credit_History     564 non-null    float64\n",
            " 11  Property_Area      614 non-null    object \n",
            " 12  Loan_Status        614 non-null    object \n",
            "dtypes: float64(4), int64(1), object(8)\n",
            "memory usage: 62.5+ KB\n"
          ],
          "name": "stdout"
        }
      ]
    },
    {
      "cell_type": "code",
      "metadata": {
        "id": "CQ65Ns0L_eVj"
      },
      "source": [
        "raw_data=raw_data.rename({\"Loan_ID\": \"loan_id\", \"ApplicantIncome\":\"applicant_income\", \n",
        "                 \"CoApplicantIncome\":\"co_applicant_income\", \"LoanAmount\":\"loan_amount\", \n",
        "                 \"Loan_Amount_Term\":\"loan_amount_term\", \"Credit_History\":\"credit_history\",\n",
        "                 \"Property_Area\":\"property_area\", \"Loan_Status\":\"loan_status\"},  axis = 1)"
      ],
      "execution_count": 338,
      "outputs": []
    },
    {
      "cell_type": "code",
      "metadata": {
        "id": "DS2VxdXeAF4_"
      },
      "source": [
        "columns=[]\n",
        "for col in raw_data.columns:\n",
        "  col = col.lower()\n",
        "  columns.append(col) "
      ],
      "execution_count": 339,
      "outputs": []
    },
    {
      "cell_type": "code",
      "metadata": {
        "colab": {
          "base_uri": "https://localhost:8080/"
        },
        "id": "_oEESLhm_h6h",
        "outputId": "57dea759-8155-4949-ba38-67c8b1b9b6f3"
      },
      "source": [
        "raw_data.columns = columns\n",
        "raw_data.columns"
      ],
      "execution_count": 340,
      "outputs": [
        {
          "output_type": "execute_result",
          "data": {
            "text/plain": [
              "Index(['loan_id', 'gender', 'married', 'dependents', 'education',\n",
              "       'self_employed', 'applicant_income', 'coapplicantincome', 'loan_amount',\n",
              "       'loan_amount_term', 'credit_history', 'property_area', 'loan_status'],\n",
              "      dtype='object')"
            ]
          },
          "metadata": {
            "tags": []
          },
          "execution_count": 340
        }
      ]
    },
    {
      "cell_type": "markdown",
      "metadata": {
        "id": "0TJTT6f1Ggfx"
      },
      "source": [
        "##Preprocessing"
      ]
    },
    {
      "cell_type": "code",
      "metadata": {
        "colab": {
          "base_uri": "https://localhost:8080/",
          "height": 388
        },
        "id": "97eNqqo4CyKD",
        "outputId": "f075ecb2-e22c-4a27-b88f-0db4a28e23c4"
      },
      "source": [
        "raw_data.describe(include = 'all')"
      ],
      "execution_count": 341,
      "outputs": [
        {
          "output_type": "execute_result",
          "data": {
            "text/html": [
              "<div>\n",
              "<style scoped>\n",
              "    .dataframe tbody tr th:only-of-type {\n",
              "        vertical-align: middle;\n",
              "    }\n",
              "\n",
              "    .dataframe tbody tr th {\n",
              "        vertical-align: top;\n",
              "    }\n",
              "\n",
              "    .dataframe thead th {\n",
              "        text-align: right;\n",
              "    }\n",
              "</style>\n",
              "<table border=\"1\" class=\"dataframe\">\n",
              "  <thead>\n",
              "    <tr style=\"text-align: right;\">\n",
              "      <th></th>\n",
              "      <th>loan_id</th>\n",
              "      <th>gender</th>\n",
              "      <th>married</th>\n",
              "      <th>dependents</th>\n",
              "      <th>education</th>\n",
              "      <th>self_employed</th>\n",
              "      <th>applicant_income</th>\n",
              "      <th>coapplicantincome</th>\n",
              "      <th>loan_amount</th>\n",
              "      <th>loan_amount_term</th>\n",
              "      <th>credit_history</th>\n",
              "      <th>property_area</th>\n",
              "      <th>loan_status</th>\n",
              "    </tr>\n",
              "  </thead>\n",
              "  <tbody>\n",
              "    <tr>\n",
              "      <th>count</th>\n",
              "      <td>614</td>\n",
              "      <td>601</td>\n",
              "      <td>611</td>\n",
              "      <td>599</td>\n",
              "      <td>614</td>\n",
              "      <td>582</td>\n",
              "      <td>614.000000</td>\n",
              "      <td>614.000000</td>\n",
              "      <td>592.000000</td>\n",
              "      <td>600.00000</td>\n",
              "      <td>564.000000</td>\n",
              "      <td>614</td>\n",
              "      <td>614</td>\n",
              "    </tr>\n",
              "    <tr>\n",
              "      <th>unique</th>\n",
              "      <td>614</td>\n",
              "      <td>2</td>\n",
              "      <td>2</td>\n",
              "      <td>4</td>\n",
              "      <td>2</td>\n",
              "      <td>2</td>\n",
              "      <td>NaN</td>\n",
              "      <td>NaN</td>\n",
              "      <td>NaN</td>\n",
              "      <td>NaN</td>\n",
              "      <td>NaN</td>\n",
              "      <td>3</td>\n",
              "      <td>2</td>\n",
              "    </tr>\n",
              "    <tr>\n",
              "      <th>top</th>\n",
              "      <td>ID388</td>\n",
              "      <td>Male</td>\n",
              "      <td>Yes</td>\n",
              "      <td>0</td>\n",
              "      <td>Graduate</td>\n",
              "      <td>No</td>\n",
              "      <td>NaN</td>\n",
              "      <td>NaN</td>\n",
              "      <td>NaN</td>\n",
              "      <td>NaN</td>\n",
              "      <td>NaN</td>\n",
              "      <td>Semiurban</td>\n",
              "      <td>Y</td>\n",
              "    </tr>\n",
              "    <tr>\n",
              "      <th>freq</th>\n",
              "      <td>1</td>\n",
              "      <td>489</td>\n",
              "      <td>398</td>\n",
              "      <td>345</td>\n",
              "      <td>480</td>\n",
              "      <td>500</td>\n",
              "      <td>NaN</td>\n",
              "      <td>NaN</td>\n",
              "      <td>NaN</td>\n",
              "      <td>NaN</td>\n",
              "      <td>NaN</td>\n",
              "      <td>233</td>\n",
              "      <td>422</td>\n",
              "    </tr>\n",
              "    <tr>\n",
              "      <th>mean</th>\n",
              "      <td>NaN</td>\n",
              "      <td>NaN</td>\n",
              "      <td>NaN</td>\n",
              "      <td>NaN</td>\n",
              "      <td>NaN</td>\n",
              "      <td>NaN</td>\n",
              "      <td>5403.459283</td>\n",
              "      <td>1621.245798</td>\n",
              "      <td>146.412162</td>\n",
              "      <td>342.00000</td>\n",
              "      <td>0.842199</td>\n",
              "      <td>NaN</td>\n",
              "      <td>NaN</td>\n",
              "    </tr>\n",
              "    <tr>\n",
              "      <th>std</th>\n",
              "      <td>NaN</td>\n",
              "      <td>NaN</td>\n",
              "      <td>NaN</td>\n",
              "      <td>NaN</td>\n",
              "      <td>NaN</td>\n",
              "      <td>NaN</td>\n",
              "      <td>6109.041673</td>\n",
              "      <td>2926.248369</td>\n",
              "      <td>85.587325</td>\n",
              "      <td>65.12041</td>\n",
              "      <td>0.364878</td>\n",
              "      <td>NaN</td>\n",
              "      <td>NaN</td>\n",
              "    </tr>\n",
              "    <tr>\n",
              "      <th>min</th>\n",
              "      <td>NaN</td>\n",
              "      <td>NaN</td>\n",
              "      <td>NaN</td>\n",
              "      <td>NaN</td>\n",
              "      <td>NaN</td>\n",
              "      <td>NaN</td>\n",
              "      <td>150.000000</td>\n",
              "      <td>0.000000</td>\n",
              "      <td>9.000000</td>\n",
              "      <td>12.00000</td>\n",
              "      <td>0.000000</td>\n",
              "      <td>NaN</td>\n",
              "      <td>NaN</td>\n",
              "    </tr>\n",
              "    <tr>\n",
              "      <th>25%</th>\n",
              "      <td>NaN</td>\n",
              "      <td>NaN</td>\n",
              "      <td>NaN</td>\n",
              "      <td>NaN</td>\n",
              "      <td>NaN</td>\n",
              "      <td>NaN</td>\n",
              "      <td>2877.500000</td>\n",
              "      <td>0.000000</td>\n",
              "      <td>100.000000</td>\n",
              "      <td>360.00000</td>\n",
              "      <td>1.000000</td>\n",
              "      <td>NaN</td>\n",
              "      <td>NaN</td>\n",
              "    </tr>\n",
              "    <tr>\n",
              "      <th>50%</th>\n",
              "      <td>NaN</td>\n",
              "      <td>NaN</td>\n",
              "      <td>NaN</td>\n",
              "      <td>NaN</td>\n",
              "      <td>NaN</td>\n",
              "      <td>NaN</td>\n",
              "      <td>3812.500000</td>\n",
              "      <td>1188.500000</td>\n",
              "      <td>128.000000</td>\n",
              "      <td>360.00000</td>\n",
              "      <td>1.000000</td>\n",
              "      <td>NaN</td>\n",
              "      <td>NaN</td>\n",
              "    </tr>\n",
              "    <tr>\n",
              "      <th>75%</th>\n",
              "      <td>NaN</td>\n",
              "      <td>NaN</td>\n",
              "      <td>NaN</td>\n",
              "      <td>NaN</td>\n",
              "      <td>NaN</td>\n",
              "      <td>NaN</td>\n",
              "      <td>5795.000000</td>\n",
              "      <td>2297.250000</td>\n",
              "      <td>168.000000</td>\n",
              "      <td>360.00000</td>\n",
              "      <td>1.000000</td>\n",
              "      <td>NaN</td>\n",
              "      <td>NaN</td>\n",
              "    </tr>\n",
              "    <tr>\n",
              "      <th>max</th>\n",
              "      <td>NaN</td>\n",
              "      <td>NaN</td>\n",
              "      <td>NaN</td>\n",
              "      <td>NaN</td>\n",
              "      <td>NaN</td>\n",
              "      <td>NaN</td>\n",
              "      <td>81000.000000</td>\n",
              "      <td>41667.000000</td>\n",
              "      <td>700.000000</td>\n",
              "      <td>480.00000</td>\n",
              "      <td>1.000000</td>\n",
              "      <td>NaN</td>\n",
              "      <td>NaN</td>\n",
              "    </tr>\n",
              "  </tbody>\n",
              "</table>\n",
              "</div>"
            ],
            "text/plain": [
              "       loan_id gender married  ... credit_history property_area loan_status\n",
              "count      614    601     611  ...     564.000000           614         614\n",
              "unique     614      2       2  ...            NaN             3           2\n",
              "top      ID388   Male     Yes  ...            NaN     Semiurban           Y\n",
              "freq         1    489     398  ...            NaN           233         422\n",
              "mean       NaN    NaN     NaN  ...       0.842199           NaN         NaN\n",
              "std        NaN    NaN     NaN  ...       0.364878           NaN         NaN\n",
              "min        NaN    NaN     NaN  ...       0.000000           NaN         NaN\n",
              "25%        NaN    NaN     NaN  ...       1.000000           NaN         NaN\n",
              "50%        NaN    NaN     NaN  ...       1.000000           NaN         NaN\n",
              "75%        NaN    NaN     NaN  ...       1.000000           NaN         NaN\n",
              "max        NaN    NaN     NaN  ...       1.000000           NaN         NaN\n",
              "\n",
              "[11 rows x 13 columns]"
            ]
          },
          "metadata": {
            "tags": []
          },
          "execution_count": 341
        }
      ]
    },
    {
      "cell_type": "code",
      "metadata": {
        "id": "oUvgjlKRQJQ_"
      },
      "source": [
        "data = raw_data.drop(['gender', 'loan_id'], axis=1)"
      ],
      "execution_count": 342,
      "outputs": []
    },
    {
      "cell_type": "markdown",
      "metadata": {
        "id": "bF2quYfLGZFj"
      },
      "source": [
        "1. Each variable has a different number of observations, which implies that there are some missing values \n",
        "2. *gender* has 489 male entries, which is almost 80% of the data. This feature probably won't be useful\n"
      ]
    },
    {
      "cell_type": "code",
      "metadata": {
        "colab": {
          "base_uri": "https://localhost:8080/",
          "height": 388
        },
        "id": "MO74jQcBJVOl",
        "outputId": "2162dee5-7c15-46ed-a19c-c8cce708b32a"
      },
      "source": [
        "data.describe(include='all')"
      ],
      "execution_count": 343,
      "outputs": [
        {
          "output_type": "execute_result",
          "data": {
            "text/html": [
              "<div>\n",
              "<style scoped>\n",
              "    .dataframe tbody tr th:only-of-type {\n",
              "        vertical-align: middle;\n",
              "    }\n",
              "\n",
              "    .dataframe tbody tr th {\n",
              "        vertical-align: top;\n",
              "    }\n",
              "\n",
              "    .dataframe thead th {\n",
              "        text-align: right;\n",
              "    }\n",
              "</style>\n",
              "<table border=\"1\" class=\"dataframe\">\n",
              "  <thead>\n",
              "    <tr style=\"text-align: right;\">\n",
              "      <th></th>\n",
              "      <th>married</th>\n",
              "      <th>dependents</th>\n",
              "      <th>education</th>\n",
              "      <th>self_employed</th>\n",
              "      <th>applicant_income</th>\n",
              "      <th>coapplicantincome</th>\n",
              "      <th>loan_amount</th>\n",
              "      <th>loan_amount_term</th>\n",
              "      <th>credit_history</th>\n",
              "      <th>property_area</th>\n",
              "      <th>loan_status</th>\n",
              "    </tr>\n",
              "  </thead>\n",
              "  <tbody>\n",
              "    <tr>\n",
              "      <th>count</th>\n",
              "      <td>611</td>\n",
              "      <td>599</td>\n",
              "      <td>614</td>\n",
              "      <td>582</td>\n",
              "      <td>614.000000</td>\n",
              "      <td>614.000000</td>\n",
              "      <td>592.000000</td>\n",
              "      <td>600.00000</td>\n",
              "      <td>564.000000</td>\n",
              "      <td>614</td>\n",
              "      <td>614</td>\n",
              "    </tr>\n",
              "    <tr>\n",
              "      <th>unique</th>\n",
              "      <td>2</td>\n",
              "      <td>4</td>\n",
              "      <td>2</td>\n",
              "      <td>2</td>\n",
              "      <td>NaN</td>\n",
              "      <td>NaN</td>\n",
              "      <td>NaN</td>\n",
              "      <td>NaN</td>\n",
              "      <td>NaN</td>\n",
              "      <td>3</td>\n",
              "      <td>2</td>\n",
              "    </tr>\n",
              "    <tr>\n",
              "      <th>top</th>\n",
              "      <td>Yes</td>\n",
              "      <td>0</td>\n",
              "      <td>Graduate</td>\n",
              "      <td>No</td>\n",
              "      <td>NaN</td>\n",
              "      <td>NaN</td>\n",
              "      <td>NaN</td>\n",
              "      <td>NaN</td>\n",
              "      <td>NaN</td>\n",
              "      <td>Semiurban</td>\n",
              "      <td>Y</td>\n",
              "    </tr>\n",
              "    <tr>\n",
              "      <th>freq</th>\n",
              "      <td>398</td>\n",
              "      <td>345</td>\n",
              "      <td>480</td>\n",
              "      <td>500</td>\n",
              "      <td>NaN</td>\n",
              "      <td>NaN</td>\n",
              "      <td>NaN</td>\n",
              "      <td>NaN</td>\n",
              "      <td>NaN</td>\n",
              "      <td>233</td>\n",
              "      <td>422</td>\n",
              "    </tr>\n",
              "    <tr>\n",
              "      <th>mean</th>\n",
              "      <td>NaN</td>\n",
              "      <td>NaN</td>\n",
              "      <td>NaN</td>\n",
              "      <td>NaN</td>\n",
              "      <td>5403.459283</td>\n",
              "      <td>1621.245798</td>\n",
              "      <td>146.412162</td>\n",
              "      <td>342.00000</td>\n",
              "      <td>0.842199</td>\n",
              "      <td>NaN</td>\n",
              "      <td>NaN</td>\n",
              "    </tr>\n",
              "    <tr>\n",
              "      <th>std</th>\n",
              "      <td>NaN</td>\n",
              "      <td>NaN</td>\n",
              "      <td>NaN</td>\n",
              "      <td>NaN</td>\n",
              "      <td>6109.041673</td>\n",
              "      <td>2926.248369</td>\n",
              "      <td>85.587325</td>\n",
              "      <td>65.12041</td>\n",
              "      <td>0.364878</td>\n",
              "      <td>NaN</td>\n",
              "      <td>NaN</td>\n",
              "    </tr>\n",
              "    <tr>\n",
              "      <th>min</th>\n",
              "      <td>NaN</td>\n",
              "      <td>NaN</td>\n",
              "      <td>NaN</td>\n",
              "      <td>NaN</td>\n",
              "      <td>150.000000</td>\n",
              "      <td>0.000000</td>\n",
              "      <td>9.000000</td>\n",
              "      <td>12.00000</td>\n",
              "      <td>0.000000</td>\n",
              "      <td>NaN</td>\n",
              "      <td>NaN</td>\n",
              "    </tr>\n",
              "    <tr>\n",
              "      <th>25%</th>\n",
              "      <td>NaN</td>\n",
              "      <td>NaN</td>\n",
              "      <td>NaN</td>\n",
              "      <td>NaN</td>\n",
              "      <td>2877.500000</td>\n",
              "      <td>0.000000</td>\n",
              "      <td>100.000000</td>\n",
              "      <td>360.00000</td>\n",
              "      <td>1.000000</td>\n",
              "      <td>NaN</td>\n",
              "      <td>NaN</td>\n",
              "    </tr>\n",
              "    <tr>\n",
              "      <th>50%</th>\n",
              "      <td>NaN</td>\n",
              "      <td>NaN</td>\n",
              "      <td>NaN</td>\n",
              "      <td>NaN</td>\n",
              "      <td>3812.500000</td>\n",
              "      <td>1188.500000</td>\n",
              "      <td>128.000000</td>\n",
              "      <td>360.00000</td>\n",
              "      <td>1.000000</td>\n",
              "      <td>NaN</td>\n",
              "      <td>NaN</td>\n",
              "    </tr>\n",
              "    <tr>\n",
              "      <th>75%</th>\n",
              "      <td>NaN</td>\n",
              "      <td>NaN</td>\n",
              "      <td>NaN</td>\n",
              "      <td>NaN</td>\n",
              "      <td>5795.000000</td>\n",
              "      <td>2297.250000</td>\n",
              "      <td>168.000000</td>\n",
              "      <td>360.00000</td>\n",
              "      <td>1.000000</td>\n",
              "      <td>NaN</td>\n",
              "      <td>NaN</td>\n",
              "    </tr>\n",
              "    <tr>\n",
              "      <th>max</th>\n",
              "      <td>NaN</td>\n",
              "      <td>NaN</td>\n",
              "      <td>NaN</td>\n",
              "      <td>NaN</td>\n",
              "      <td>81000.000000</td>\n",
              "      <td>41667.000000</td>\n",
              "      <td>700.000000</td>\n",
              "      <td>480.00000</td>\n",
              "      <td>1.000000</td>\n",
              "      <td>NaN</td>\n",
              "      <td>NaN</td>\n",
              "    </tr>\n",
              "  </tbody>\n",
              "</table>\n",
              "</div>"
            ],
            "text/plain": [
              "       married dependents education  ... credit_history  property_area  loan_status\n",
              "count      611        599       614  ...     564.000000            614          614\n",
              "unique       2          4         2  ...            NaN              3            2\n",
              "top        Yes          0  Graduate  ...            NaN      Semiurban            Y\n",
              "freq       398        345       480  ...            NaN            233          422\n",
              "mean       NaN        NaN       NaN  ...       0.842199            NaN          NaN\n",
              "std        NaN        NaN       NaN  ...       0.364878            NaN          NaN\n",
              "min        NaN        NaN       NaN  ...       0.000000            NaN          NaN\n",
              "25%        NaN        NaN       NaN  ...       1.000000            NaN          NaN\n",
              "50%        NaN        NaN       NaN  ...       1.000000            NaN          NaN\n",
              "75%        NaN        NaN       NaN  ...       1.000000            NaN          NaN\n",
              "max        NaN        NaN       NaN  ...       1.000000            NaN          NaN\n",
              "\n",
              "[11 rows x 11 columns]"
            ]
          },
          "metadata": {
            "tags": []
          },
          "execution_count": 343
        }
      ]
    },
    {
      "cell_type": "markdown",
      "metadata": {
        "id": "21PsIwYEJu4w"
      },
      "source": [
        "###Dealing With Missing Values"
      ]
    },
    {
      "cell_type": "code",
      "metadata": {
        "colab": {
          "base_uri": "https://localhost:8080/"
        },
        "id": "t4nBPzSnJ7Vb",
        "outputId": "2f107a36-c50e-420a-f107-df9210efa1ba"
      },
      "source": [
        "data.isnull().sum()"
      ],
      "execution_count": 344,
      "outputs": [
        {
          "output_type": "execute_result",
          "data": {
            "text/plain": [
              "married               3\n",
              "dependents           15\n",
              "education             0\n",
              "self_employed        32\n",
              "applicant_income      0\n",
              "coapplicantincome     0\n",
              "loan_amount          22\n",
              "loan_amount_term     14\n",
              "credit_history       50\n",
              "property_area         0\n",
              "loan_status           0\n",
              "dtype: int64"
            ]
          },
          "metadata": {
            "tags": []
          },
          "execution_count": 344
        }
      ]
    },
    {
      "cell_type": "code",
      "metadata": {
        "colab": {
          "base_uri": "https://localhost:8080/",
          "height": 142
        },
        "id": "PK-PnW-AE9QB",
        "outputId": "ce4187f4-bad7-499b-e019-cd09aa2cb95f"
      },
      "source": [
        "married=data[data[\"married\"].isnull()][[\"dependents\", \"self_employed\"]]\n",
        "married"
      ],
      "execution_count": 345,
      "outputs": [
        {
          "output_type": "execute_result",
          "data": {
            "text/html": [
              "<div>\n",
              "<style scoped>\n",
              "    .dataframe tbody tr th:only-of-type {\n",
              "        vertical-align: middle;\n",
              "    }\n",
              "\n",
              "    .dataframe tbody tr th {\n",
              "        vertical-align: top;\n",
              "    }\n",
              "\n",
              "    .dataframe thead th {\n",
              "        text-align: right;\n",
              "    }\n",
              "</style>\n",
              "<table border=\"1\" class=\"dataframe\">\n",
              "  <thead>\n",
              "    <tr style=\"text-align: right;\">\n",
              "      <th></th>\n",
              "      <th>dependents</th>\n",
              "      <th>self_employed</th>\n",
              "    </tr>\n",
              "  </thead>\n",
              "  <tbody>\n",
              "    <tr>\n",
              "      <th>104</th>\n",
              "      <td>NaN</td>\n",
              "      <td>No</td>\n",
              "    </tr>\n",
              "    <tr>\n",
              "      <th>228</th>\n",
              "      <td>NaN</td>\n",
              "      <td>No</td>\n",
              "    </tr>\n",
              "    <tr>\n",
              "      <th>435</th>\n",
              "      <td>NaN</td>\n",
              "      <td>No</td>\n",
              "    </tr>\n",
              "  </tbody>\n",
              "</table>\n",
              "</div>"
            ],
            "text/plain": [
              "    dependents self_employed\n",
              "104        NaN            No\n",
              "228        NaN            No\n",
              "435        NaN            No"
            ]
          },
          "metadata": {
            "tags": []
          },
          "execution_count": 345
        }
      ]
    },
    {
      "cell_type": "code",
      "metadata": {
        "colab": {
          "base_uri": "https://localhost:8080/"
        },
        "id": "sN_683SSXYfe",
        "outputId": "9e1be976-c14f-4be7-d14c-16016fd20e88"
      },
      "source": [
        "data[\"married\"] = data[\"married\"].replace(np.nan, \"No\")\n",
        "data[\"married\"].isnull().sum()"
      ],
      "execution_count": 346,
      "outputs": [
        {
          "output_type": "execute_result",
          "data": {
            "text/plain": [
              "0"
            ]
          },
          "metadata": {
            "tags": []
          },
          "execution_count": 346
        }
      ]
    },
    {
      "cell_type": "code",
      "metadata": {
        "colab": {
          "base_uri": "https://localhost:8080/"
        },
        "id": "vjIgogqiwRfZ",
        "outputId": "a84a4f6c-1f81-4c7a-abf3-aa582fd21447"
      },
      "source": [
        "data[\"self_employed\"]=data[\"self_employed\"].replace(np.nan, \"No\")\n",
        "data[\"self_employed\"].isnull().sum()"
      ],
      "execution_count": 347,
      "outputs": [
        {
          "output_type": "execute_result",
          "data": {
            "text/plain": [
              "0"
            ]
          },
          "metadata": {
            "tags": []
          },
          "execution_count": 347
        }
      ]
    },
    {
      "cell_type": "code",
      "metadata": {
        "colab": {
          "base_uri": "https://localhost:8080/"
        },
        "id": "cGKuHQMNzFO0",
        "outputId": "0334c510-0d13-4ffc-ebb0-68020196c98a"
      },
      "source": [
        "data[\"loan_amount\"].fillna(data[\"loan_amount\"].median(skipna=True), inplace=True)\n",
        "data[\"loan_amount\"].isnull().sum()"
      ],
      "execution_count": 348,
      "outputs": [
        {
          "output_type": "execute_result",
          "data": {
            "text/plain": [
              "0"
            ]
          },
          "metadata": {
            "tags": []
          },
          "execution_count": 348
        }
      ]
    },
    {
      "cell_type": "code",
      "metadata": {
        "colab": {
          "base_uri": "https://localhost:8080/"
        },
        "id": "5qk9pEUN7YIq",
        "outputId": "db6f6894-971a-4941-c4f3-f213a3bbf2b8"
      },
      "source": [
        "data[\"loan_amount_term\"].fillna(data[\"loan_amount_term\"].median(skipna=True), inplace=True)\n",
        "data[\"loan_amount_term\"].isnull().sum()"
      ],
      "execution_count": 349,
      "outputs": [
        {
          "output_type": "execute_result",
          "data": {
            "text/plain": [
              "0"
            ]
          },
          "metadata": {
            "tags": []
          },
          "execution_count": 349
        }
      ]
    },
    {
      "cell_type": "code",
      "metadata": {
        "colab": {
          "base_uri": "https://localhost:8080/"
        },
        "id": "fTiTEf1C8C-q",
        "outputId": "0d92d34b-003b-41b2-e792-044d8b9e2bb0"
      },
      "source": [
        "data[\"credit_history\"].fillna(data[\"credit_history\"].median(skipna=True), inplace=True)\n",
        "data[\"credit_history\"].isnull().sum()"
      ],
      "execution_count": 350,
      "outputs": [
        {
          "output_type": "execute_result",
          "data": {
            "text/plain": [
              "0"
            ]
          },
          "metadata": {
            "tags": []
          },
          "execution_count": 350
        }
      ]
    },
    {
      "cell_type": "code",
      "metadata": {
        "id": "3u86r7A58LeN"
      },
      "source": [
        "data_no_mv = data.dropna(axis=0)"
      ],
      "execution_count": 351,
      "outputs": []
    },
    {
      "cell_type": "code",
      "metadata": {
        "colab": {
          "base_uri": "https://localhost:8080/"
        },
        "id": "JnTjTksI9jUC",
        "outputId": "78ed014a-faaa-49de-cbec-125621c25b03"
      },
      "source": [
        "data_no_mv.isnull().sum()"
      ],
      "execution_count": 352,
      "outputs": [
        {
          "output_type": "execute_result",
          "data": {
            "text/plain": [
              "married              0\n",
              "dependents           0\n",
              "education            0\n",
              "self_employed        0\n",
              "applicant_income     0\n",
              "coapplicantincome    0\n",
              "loan_amount          0\n",
              "loan_amount_term     0\n",
              "credit_history       0\n",
              "property_area        0\n",
              "loan_status          0\n",
              "dtype: int64"
            ]
          },
          "metadata": {
            "tags": []
          },
          "execution_count": 352
        }
      ]
    },
    {
      "cell_type": "code",
      "metadata": {
        "colab": {
          "base_uri": "https://localhost:8080/",
          "height": 388
        },
        "id": "sFOc0dTe-9pU",
        "outputId": "599d2295-b9f3-4494-a83b-14ec91bdbca4"
      },
      "source": [
        "data_no_mv.describe(include='all')"
      ],
      "execution_count": 353,
      "outputs": [
        {
          "output_type": "execute_result",
          "data": {
            "text/html": [
              "<div>\n",
              "<style scoped>\n",
              "    .dataframe tbody tr th:only-of-type {\n",
              "        vertical-align: middle;\n",
              "    }\n",
              "\n",
              "    .dataframe tbody tr th {\n",
              "        vertical-align: top;\n",
              "    }\n",
              "\n",
              "    .dataframe thead th {\n",
              "        text-align: right;\n",
              "    }\n",
              "</style>\n",
              "<table border=\"1\" class=\"dataframe\">\n",
              "  <thead>\n",
              "    <tr style=\"text-align: right;\">\n",
              "      <th></th>\n",
              "      <th>married</th>\n",
              "      <th>dependents</th>\n",
              "      <th>education</th>\n",
              "      <th>self_employed</th>\n",
              "      <th>applicant_income</th>\n",
              "      <th>coapplicantincome</th>\n",
              "      <th>loan_amount</th>\n",
              "      <th>loan_amount_term</th>\n",
              "      <th>credit_history</th>\n",
              "      <th>property_area</th>\n",
              "      <th>loan_status</th>\n",
              "    </tr>\n",
              "  </thead>\n",
              "  <tbody>\n",
              "    <tr>\n",
              "      <th>count</th>\n",
              "      <td>599</td>\n",
              "      <td>599</td>\n",
              "      <td>599</td>\n",
              "      <td>599</td>\n",
              "      <td>599.000000</td>\n",
              "      <td>599.000000</td>\n",
              "      <td>599.000000</td>\n",
              "      <td>599.000000</td>\n",
              "      <td>599.000000</td>\n",
              "      <td>599</td>\n",
              "      <td>599</td>\n",
              "    </tr>\n",
              "    <tr>\n",
              "      <th>unique</th>\n",
              "      <td>2</td>\n",
              "      <td>4</td>\n",
              "      <td>2</td>\n",
              "      <td>2</td>\n",
              "      <td>NaN</td>\n",
              "      <td>NaN</td>\n",
              "      <td>NaN</td>\n",
              "      <td>NaN</td>\n",
              "      <td>NaN</td>\n",
              "      <td>3</td>\n",
              "      <td>2</td>\n",
              "    </tr>\n",
              "    <tr>\n",
              "      <th>top</th>\n",
              "      <td>Yes</td>\n",
              "      <td>0</td>\n",
              "      <td>Graduate</td>\n",
              "      <td>No</td>\n",
              "      <td>NaN</td>\n",
              "      <td>NaN</td>\n",
              "      <td>NaN</td>\n",
              "      <td>NaN</td>\n",
              "      <td>NaN</td>\n",
              "      <td>Semiurban</td>\n",
              "      <td>Y</td>\n",
              "    </tr>\n",
              "    <tr>\n",
              "      <th>freq</th>\n",
              "      <td>390</td>\n",
              "      <td>345</td>\n",
              "      <td>469</td>\n",
              "      <td>519</td>\n",
              "      <td>NaN</td>\n",
              "      <td>NaN</td>\n",
              "      <td>NaN</td>\n",
              "      <td>NaN</td>\n",
              "      <td>NaN</td>\n",
              "      <td>227</td>\n",
              "      <td>413</td>\n",
              "    </tr>\n",
              "    <tr>\n",
              "      <th>mean</th>\n",
              "      <td>NaN</td>\n",
              "      <td>NaN</td>\n",
              "      <td>NaN</td>\n",
              "      <td>NaN</td>\n",
              "      <td>5408.864775</td>\n",
              "      <td>1634.896361</td>\n",
              "      <td>146.188648</td>\n",
              "      <td>342.070117</td>\n",
              "      <td>0.859766</td>\n",
              "      <td>NaN</td>\n",
              "      <td>NaN</td>\n",
              "    </tr>\n",
              "    <tr>\n",
              "      <th>std</th>\n",
              "      <td>NaN</td>\n",
              "      <td>NaN</td>\n",
              "      <td>NaN</td>\n",
              "      <td>NaN</td>\n",
              "      <td>6168.473138</td>\n",
              "      <td>2953.144575</td>\n",
              "      <td>84.954303</td>\n",
              "      <td>64.221516</td>\n",
              "      <td>0.347520</td>\n",
              "      <td>NaN</td>\n",
              "      <td>NaN</td>\n",
              "    </tr>\n",
              "    <tr>\n",
              "      <th>min</th>\n",
              "      <td>NaN</td>\n",
              "      <td>NaN</td>\n",
              "      <td>NaN</td>\n",
              "      <td>NaN</td>\n",
              "      <td>150.000000</td>\n",
              "      <td>0.000000</td>\n",
              "      <td>9.000000</td>\n",
              "      <td>12.000000</td>\n",
              "      <td>0.000000</td>\n",
              "      <td>NaN</td>\n",
              "      <td>NaN</td>\n",
              "    </tr>\n",
              "    <tr>\n",
              "      <th>25%</th>\n",
              "      <td>NaN</td>\n",
              "      <td>NaN</td>\n",
              "      <td>NaN</td>\n",
              "      <td>NaN</td>\n",
              "      <td>2853.000000</td>\n",
              "      <td>0.000000</td>\n",
              "      <td>100.000000</td>\n",
              "      <td>360.000000</td>\n",
              "      <td>1.000000</td>\n",
              "      <td>NaN</td>\n",
              "      <td>NaN</td>\n",
              "    </tr>\n",
              "    <tr>\n",
              "      <th>50%</th>\n",
              "      <td>NaN</td>\n",
              "      <td>NaN</td>\n",
              "      <td>NaN</td>\n",
              "      <td>NaN</td>\n",
              "      <td>3775.000000</td>\n",
              "      <td>1213.000000</td>\n",
              "      <td>128.000000</td>\n",
              "      <td>360.000000</td>\n",
              "      <td>1.000000</td>\n",
              "      <td>NaN</td>\n",
              "      <td>NaN</td>\n",
              "    </tr>\n",
              "    <tr>\n",
              "      <th>75%</th>\n",
              "      <td>NaN</td>\n",
              "      <td>NaN</td>\n",
              "      <td>NaN</td>\n",
              "      <td>NaN</td>\n",
              "      <td>5816.500000</td>\n",
              "      <td>2304.000000</td>\n",
              "      <td>165.500000</td>\n",
              "      <td>360.000000</td>\n",
              "      <td>1.000000</td>\n",
              "      <td>NaN</td>\n",
              "      <td>NaN</td>\n",
              "    </tr>\n",
              "    <tr>\n",
              "      <th>max</th>\n",
              "      <td>NaN</td>\n",
              "      <td>NaN</td>\n",
              "      <td>NaN</td>\n",
              "      <td>NaN</td>\n",
              "      <td>81000.000000</td>\n",
              "      <td>41667.000000</td>\n",
              "      <td>700.000000</td>\n",
              "      <td>480.000000</td>\n",
              "      <td>1.000000</td>\n",
              "      <td>NaN</td>\n",
              "      <td>NaN</td>\n",
              "    </tr>\n",
              "  </tbody>\n",
              "</table>\n",
              "</div>"
            ],
            "text/plain": [
              "       married dependents education  ... credit_history  property_area  loan_status\n",
              "count      599        599       599  ...     599.000000            599          599\n",
              "unique       2          4         2  ...            NaN              3            2\n",
              "top        Yes          0  Graduate  ...            NaN      Semiurban            Y\n",
              "freq       390        345       469  ...            NaN            227          413\n",
              "mean       NaN        NaN       NaN  ...       0.859766            NaN          NaN\n",
              "std        NaN        NaN       NaN  ...       0.347520            NaN          NaN\n",
              "min        NaN        NaN       NaN  ...       0.000000            NaN          NaN\n",
              "25%        NaN        NaN       NaN  ...       1.000000            NaN          NaN\n",
              "50%        NaN        NaN       NaN  ...       1.000000            NaN          NaN\n",
              "75%        NaN        NaN       NaN  ...       1.000000            NaN          NaN\n",
              "max        NaN        NaN       NaN  ...       1.000000            NaN          NaN\n",
              "\n",
              "[11 rows x 11 columns]"
            ]
          },
          "metadata": {
            "tags": []
          },
          "execution_count": 353
        }
      ]
    },
    {
      "cell_type": "code",
      "metadata": {
        "colab": {
          "base_uri": "https://localhost:8080/"
        },
        "id": "KbhxpQa5GFfA",
        "outputId": "0c89dcfc-98c5-4aee-c15b-640c719b0456"
      },
      "source": [
        "sorted(data_no_mv)"
      ],
      "execution_count": 354,
      "outputs": [
        {
          "output_type": "execute_result",
          "data": {
            "text/plain": [
              "['applicant_income',\n",
              " 'coapplicantincome',\n",
              " 'credit_history',\n",
              " 'dependents',\n",
              " 'education',\n",
              " 'loan_amount',\n",
              " 'loan_amount_term',\n",
              " 'loan_status',\n",
              " 'married',\n",
              " 'property_area',\n",
              " 'self_employed']"
            ]
          },
          "metadata": {
            "tags": []
          },
          "execution_count": 354
        }
      ]
    },
    {
      "cell_type": "markdown",
      "metadata": {
        "id": "rQNkbLe9IqZx"
      },
      "source": [
        "##Dealing with outliers"
      ]
    },
    {
      "cell_type": "code",
      "metadata": {
        "colab": {
          "base_uri": "https://localhost:8080/"
        },
        "id": "u4nm7S0GGnUo",
        "outputId": "10e3f770-0837-4f2b-c932-aa990673eb0a"
      },
      "source": [
        "q1, q3 = np.percentile(data_no_mv[\"applicant_income\"], [25,75])\n",
        "print(q1)\n",
        "print(q3)\n",
        "iqr = q3-q1\n",
        "lower_bound = q1 - (1.5*iqr)\n",
        "upper_bound = q3 + (1.5*iqr)\n",
        "print(lower_bound)\n",
        "print(upper_bound)\n",
        "print(data_no_mv[data_no_mv[\"applicant_income\"]>10208][\"applicant_income\"])\n",
        "mean = data_no_mv[\"applicant_income\"].mean()\n",
        "print(\"Mean: \",mean)\n",
        "data_no_mv[\"applicant_income\"]=data_no_mv[data_no_mv[\"applicant_income\"]>10208][\"applicant_income\"] = mean\n",
        "data_no_mv[\"applicant_income\"].max()"
      ],
      "execution_count": 355,
      "outputs": [
        {
          "output_type": "stream",
          "text": [
            "2853.0\n",
            "5816.5\n",
            "-1592.25\n",
            "10261.75\n",
            "9      12841\n",
            "34     12500\n",
            "54     11500\n",
            "67     10750\n",
            "106    11417\n",
            "115    14583\n",
            "119    10408\n",
            "126    23803\n",
            "128    10513\n",
            "130    20166\n",
            "138    14999\n",
            "144    11757\n",
            "146    14866\n",
            "155    39999\n",
            "171    51763\n",
            "183    33846\n",
            "185    39147\n",
            "191    12000\n",
            "199    11000\n",
            "254    16250\n",
            "258    14683\n",
            "271    11146\n",
            "278    14583\n",
            "284    20667\n",
            "308    20233\n",
            "324    15000\n",
            "333    63337\n",
            "369    19730\n",
            "370    15759\n",
            "409    81000\n",
            "424    14880\n",
            "432    12876\n",
            "438    10416\n",
            "443    37719\n",
            "467    16692\n",
            "475    16525\n",
            "478    16667\n",
            "483    10833\n",
            "487    18333\n",
            "493    17263\n",
            "506    20833\n",
            "509    13262\n",
            "525    17500\n",
            "533    11250\n",
            "534    18165\n",
            "561    19484\n",
            "572    16666\n",
            "594    16120\n",
            "604    12000\n",
            "Name: applicant_income, dtype: int64\n",
            "Mean:  5408.864774624374\n"
          ],
          "name": "stdout"
        },
        {
          "output_type": "stream",
          "text": [
            "/usr/local/lib/python3.7/dist-packages/ipykernel_launcher.py:12: SettingWithCopyWarning: \n",
            "A value is trying to be set on a copy of a slice from a DataFrame.\n",
            "Try using .loc[row_indexer,col_indexer] = value instead\n",
            "\n",
            "See the caveats in the documentation: https://pandas.pydata.org/pandas-docs/stable/user_guide/indexing.html#returning-a-view-versus-a-copy\n",
            "  if sys.path[0] == '':\n"
          ],
          "name": "stderr"
        },
        {
          "output_type": "execute_result",
          "data": {
            "text/plain": [
              "5408.864774624374"
            ]
          },
          "metadata": {
            "tags": []
          },
          "execution_count": 355
        }
      ]
    },
    {
      "cell_type": "code",
      "metadata": {
        "colab": {
          "base_uri": "https://localhost:8080/"
        },
        "id": "gnx3HhnBI0Ew",
        "outputId": "05d12eeb-840e-4b2d-9df6-0217ae2363a7"
      },
      "source": [
        "q1, q3 = np.percentile(data_no_mv[\"coapplicantincome\"], [25,75])\n",
        "print(q1)\n",
        "print(q3)\n",
        "iqr = q3-q1\n",
        "lower_bound = q1 - (1.5*iqr)\n",
        "upper_bound = q3 + (1.5*iqr)\n",
        "print(\"Lower bound:\",lower_bound)\n",
        "print(\"Upper bound:\",upper_bound)\n",
        "print(data_no_mv[data_no_mv[\"coapplicantincome\"]>5407][\"coapplicantincome\"])\n",
        "mean = data_no_mv[\"coapplicantincome\"].mean()\n",
        "print(\"Mean: \",median)\n",
        "data_no_mv[\"coapplicantincome\"]=data_no_mv[\"coapplicantincome\"].replace(to_replace =[5625, 5654, 5701, 5500, 5624], \n",
        "                            value = mean)\n",
        "print(data_no_mv[\"coapplicantincome\"].max())"
      ],
      "execution_count": 356,
      "outputs": [
        {
          "output_type": "stream",
          "text": [
            "0.0\n",
            "2304.0\n",
            "Lower bound: -3456.0\n",
            "Upper bound: 5760.0\n",
            "9      10968.0\n",
            "12      8106.0\n",
            "21      5625.0\n",
            "38      7210.0\n",
            "91      5654.0\n",
            "122     8980.0\n",
            "135     7750.0\n",
            "159     5625.0\n",
            "173     5625.0\n",
            "177    11300.0\n",
            "180     7250.0\n",
            "242     5701.0\n",
            "253     7101.0\n",
            "349     6250.0\n",
            "372     7873.0\n",
            "402    20000.0\n",
            "417    20000.0\n",
            "444     8333.0\n",
            "502     5624.0\n",
            "506     6667.0\n",
            "513     6666.0\n",
            "523     7166.0\n",
            "530     5500.0\n",
            "581    33837.0\n",
            "600    41667.0\n",
            "Name: coapplicantincome, dtype: float64\n",
            "Mean:  1304.8531794309135\n",
            "41667.0\n"
          ],
          "name": "stdout"
        },
        {
          "output_type": "stream",
          "text": [
            "/usr/local/lib/python3.7/dist-packages/ipykernel_launcher.py:13: SettingWithCopyWarning: \n",
            "A value is trying to be set on a copy of a slice from a DataFrame.\n",
            "Try using .loc[row_indexer,col_indexer] = value instead\n",
            "\n",
            "See the caveats in the documentation: https://pandas.pydata.org/pandas-docs/stable/user_guide/indexing.html#returning-a-view-versus-a-copy\n",
            "  del sys.path[0]\n"
          ],
          "name": "stderr"
        }
      ]
    },
    {
      "cell_type": "code",
      "metadata": {
        "id": "LOMs-p1TPl3r"
      },
      "source": [
        ""
      ],
      "execution_count": 356,
      "outputs": []
    },
    {
      "cell_type": "markdown",
      "metadata": {
        "id": "GbWLrR409pC4"
      },
      "source": [
        "###Encoding Categorical Data"
      ]
    },
    {
      "cell_type": "code",
      "metadata": {
        "colab": {
          "base_uri": "https://localhost:8080/",
          "height": 203
        },
        "id": "FS6e2VgYJuKY",
        "outputId": "b35bf94d-bb9f-44d2-9fc8-e46e54e313cc"
      },
      "source": [
        "obj_df=data_no_mv.select_dtypes(include=['object']).copy()\n",
        "obj_df.head()"
      ],
      "execution_count": 357,
      "outputs": [
        {
          "output_type": "execute_result",
          "data": {
            "text/html": [
              "<div>\n",
              "<style scoped>\n",
              "    .dataframe tbody tr th:only-of-type {\n",
              "        vertical-align: middle;\n",
              "    }\n",
              "\n",
              "    .dataframe tbody tr th {\n",
              "        vertical-align: top;\n",
              "    }\n",
              "\n",
              "    .dataframe thead th {\n",
              "        text-align: right;\n",
              "    }\n",
              "</style>\n",
              "<table border=\"1\" class=\"dataframe\">\n",
              "  <thead>\n",
              "    <tr style=\"text-align: right;\">\n",
              "      <th></th>\n",
              "      <th>married</th>\n",
              "      <th>dependents</th>\n",
              "      <th>education</th>\n",
              "      <th>self_employed</th>\n",
              "      <th>property_area</th>\n",
              "      <th>loan_status</th>\n",
              "    </tr>\n",
              "  </thead>\n",
              "  <tbody>\n",
              "    <tr>\n",
              "      <th>0</th>\n",
              "      <td>No</td>\n",
              "      <td>0</td>\n",
              "      <td>Graduate</td>\n",
              "      <td>No</td>\n",
              "      <td>Urban</td>\n",
              "      <td>Y</td>\n",
              "    </tr>\n",
              "    <tr>\n",
              "      <th>1</th>\n",
              "      <td>Yes</td>\n",
              "      <td>1</td>\n",
              "      <td>Graduate</td>\n",
              "      <td>No</td>\n",
              "      <td>Rural</td>\n",
              "      <td>N</td>\n",
              "    </tr>\n",
              "    <tr>\n",
              "      <th>2</th>\n",
              "      <td>Yes</td>\n",
              "      <td>0</td>\n",
              "      <td>Graduate</td>\n",
              "      <td>Yes</td>\n",
              "      <td>Urban</td>\n",
              "      <td>Y</td>\n",
              "    </tr>\n",
              "    <tr>\n",
              "      <th>3</th>\n",
              "      <td>Yes</td>\n",
              "      <td>0</td>\n",
              "      <td>Not Graduate</td>\n",
              "      <td>No</td>\n",
              "      <td>Urban</td>\n",
              "      <td>Y</td>\n",
              "    </tr>\n",
              "    <tr>\n",
              "      <th>4</th>\n",
              "      <td>No</td>\n",
              "      <td>0</td>\n",
              "      <td>Graduate</td>\n",
              "      <td>No</td>\n",
              "      <td>Urban</td>\n",
              "      <td>Y</td>\n",
              "    </tr>\n",
              "  </tbody>\n",
              "</table>\n",
              "</div>"
            ],
            "text/plain": [
              "  married dependents     education self_employed property_area loan_status\n",
              "0      No          0      Graduate            No         Urban           Y\n",
              "1     Yes          1      Graduate            No         Rural           N\n",
              "2     Yes          0      Graduate           Yes         Urban           Y\n",
              "3     Yes          0  Not Graduate            No         Urban           Y\n",
              "4      No          0      Graduate            No         Urban           Y"
            ]
          },
          "metadata": {
            "tags": []
          },
          "execution_count": 357
        }
      ]
    },
    {
      "cell_type": "code",
      "metadata": {
        "colab": {
          "base_uri": "https://localhost:8080/"
        },
        "id": "ULzanw_YIweE",
        "outputId": "1b9450e4-f182-4bb0-c5ab-1606ad1e6ae3"
      },
      "source": [
        "obj_df[\"married\"].value_counts()"
      ],
      "execution_count": 358,
      "outputs": [
        {
          "output_type": "execute_result",
          "data": {
            "text/plain": [
              "Yes    390\n",
              "No     209\n",
              "Name: married, dtype: int64"
            ]
          },
          "metadata": {
            "tags": []
          },
          "execution_count": 358
        }
      ]
    },
    {
      "cell_type": "code",
      "metadata": {
        "colab": {
          "base_uri": "https://localhost:8080/"
        },
        "id": "rhUVXVVrN8v-",
        "outputId": "45e3e375-44e9-4509-d0cf-c92538a9aa6e"
      },
      "source": [
        "obj_df[\"dependents\"].value_counts()"
      ],
      "execution_count": 359,
      "outputs": [
        {
          "output_type": "execute_result",
          "data": {
            "text/plain": [
              "0     345\n",
              "1     102\n",
              "2     101\n",
              "3+     51\n",
              "Name: dependents, dtype: int64"
            ]
          },
          "metadata": {
            "tags": []
          },
          "execution_count": 359
        }
      ]
    },
    {
      "cell_type": "code",
      "metadata": {
        "colab": {
          "base_uri": "https://localhost:8080/"
        },
        "id": "EewvW95WOg0o",
        "outputId": "0b45e0fc-2cda-43b0-a2f5-ac3bd4c65a3a"
      },
      "source": [
        "obj_df[\"education\"].value_counts()"
      ],
      "execution_count": 360,
      "outputs": [
        {
          "output_type": "execute_result",
          "data": {
            "text/plain": [
              "Graduate        469\n",
              "Not Graduate    130\n",
              "Name: education, dtype: int64"
            ]
          },
          "metadata": {
            "tags": []
          },
          "execution_count": 360
        }
      ]
    },
    {
      "cell_type": "code",
      "metadata": {
        "colab": {
          "base_uri": "https://localhost:8080/"
        },
        "id": "2jrUcAQqOF05",
        "outputId": "b51c5ca7-3aaf-4e41-a82f-ac9452d69235"
      },
      "source": [
        "obj_df[\"self_employed\"].value_counts()"
      ],
      "execution_count": 361,
      "outputs": [
        {
          "output_type": "execute_result",
          "data": {
            "text/plain": [
              "No     519\n",
              "Yes     80\n",
              "Name: self_employed, dtype: int64"
            ]
          },
          "metadata": {
            "tags": []
          },
          "execution_count": 361
        }
      ]
    },
    {
      "cell_type": "code",
      "metadata": {
        "colab": {
          "base_uri": "https://localhost:8080/"
        },
        "id": "X1jPW6baOKDv",
        "outputId": "317b8e53-9ef9-49b5-e5b7-2a0349ef07c4"
      },
      "source": [
        "obj_df[\"property_area\"].value_counts()"
      ],
      "execution_count": 362,
      "outputs": [
        {
          "output_type": "execute_result",
          "data": {
            "text/plain": [
              "Semiurban    227\n",
              "Urban        195\n",
              "Rural        177\n",
              "Name: property_area, dtype: int64"
            ]
          },
          "metadata": {
            "tags": []
          },
          "execution_count": 362
        }
      ]
    },
    {
      "cell_type": "code",
      "metadata": {
        "colab": {
          "base_uri": "https://localhost:8080/"
        },
        "id": "lj7ZVvssORg7",
        "outputId": "13c83c67-64e9-43ae-de36-231817c237b6"
      },
      "source": [
        "obj_df[\"loan_status\"].value_counts()"
      ],
      "execution_count": 363,
      "outputs": [
        {
          "output_type": "execute_result",
          "data": {
            "text/plain": [
              "Y    413\n",
              "N    186\n",
              "Name: loan_status, dtype: int64"
            ]
          },
          "metadata": {
            "tags": []
          },
          "execution_count": 363
        }
      ]
    },
    {
      "cell_type": "code",
      "metadata": {
        "id": "qUr6-_FFNhKV"
      },
      "source": [
        "cleanup_nums = {\"married\":     {\"Yes\": 1, \"No\": 0},\n",
        "                \"dependents\": {\"0\": 0, \"1\": 1, \"2\": 2, \"3+\": 3},\n",
        "                \"education\" : {\"Graduate\": 1, \"Not Graduate\" : 0},\n",
        "                \"self_employed\": {\"Yes\" : 1, \"No\" : 0},\n",
        "                \"property_area\": {\"Rural\" : 0, \"Semiurban\" :1, \"Urban\":2},\n",
        "                \"loan_status\": {\"N\" : 0, \"Y\":1}\n",
        "               }"
      ],
      "execution_count": 364,
      "outputs": []
    },
    {
      "cell_type": "code",
      "metadata": {
        "colab": {
          "base_uri": "https://localhost:8080/",
          "height": 203
        },
        "id": "1OnHi_BjPGmW",
        "outputId": "5af4d36e-ca5c-4b17-a77e-fa5e1f601a32"
      },
      "source": [
        "obj_df = obj_df.replace(cleanup_nums)\n",
        "obj_df.head()"
      ],
      "execution_count": 365,
      "outputs": [
        {
          "output_type": "execute_result",
          "data": {
            "text/html": [
              "<div>\n",
              "<style scoped>\n",
              "    .dataframe tbody tr th:only-of-type {\n",
              "        vertical-align: middle;\n",
              "    }\n",
              "\n",
              "    .dataframe tbody tr th {\n",
              "        vertical-align: top;\n",
              "    }\n",
              "\n",
              "    .dataframe thead th {\n",
              "        text-align: right;\n",
              "    }\n",
              "</style>\n",
              "<table border=\"1\" class=\"dataframe\">\n",
              "  <thead>\n",
              "    <tr style=\"text-align: right;\">\n",
              "      <th></th>\n",
              "      <th>married</th>\n",
              "      <th>dependents</th>\n",
              "      <th>education</th>\n",
              "      <th>self_employed</th>\n",
              "      <th>property_area</th>\n",
              "      <th>loan_status</th>\n",
              "    </tr>\n",
              "  </thead>\n",
              "  <tbody>\n",
              "    <tr>\n",
              "      <th>0</th>\n",
              "      <td>0</td>\n",
              "      <td>0</td>\n",
              "      <td>1</td>\n",
              "      <td>0</td>\n",
              "      <td>2</td>\n",
              "      <td>1</td>\n",
              "    </tr>\n",
              "    <tr>\n",
              "      <th>1</th>\n",
              "      <td>1</td>\n",
              "      <td>1</td>\n",
              "      <td>1</td>\n",
              "      <td>0</td>\n",
              "      <td>0</td>\n",
              "      <td>0</td>\n",
              "    </tr>\n",
              "    <tr>\n",
              "      <th>2</th>\n",
              "      <td>1</td>\n",
              "      <td>0</td>\n",
              "      <td>1</td>\n",
              "      <td>1</td>\n",
              "      <td>2</td>\n",
              "      <td>1</td>\n",
              "    </tr>\n",
              "    <tr>\n",
              "      <th>3</th>\n",
              "      <td>1</td>\n",
              "      <td>0</td>\n",
              "      <td>0</td>\n",
              "      <td>0</td>\n",
              "      <td>2</td>\n",
              "      <td>1</td>\n",
              "    </tr>\n",
              "    <tr>\n",
              "      <th>4</th>\n",
              "      <td>0</td>\n",
              "      <td>0</td>\n",
              "      <td>1</td>\n",
              "      <td>0</td>\n",
              "      <td>2</td>\n",
              "      <td>1</td>\n",
              "    </tr>\n",
              "  </tbody>\n",
              "</table>\n",
              "</div>"
            ],
            "text/plain": [
              "   married  dependents  education  self_employed  property_area  loan_status\n",
              "0        0           0          1              0              2            1\n",
              "1        1           1          1              0              0            0\n",
              "2        1           0          1              1              2            1\n",
              "3        1           0          0              0              2            1\n",
              "4        0           0          1              0              2            1"
            ]
          },
          "metadata": {
            "tags": []
          },
          "execution_count": 365
        }
      ]
    },
    {
      "cell_type": "code",
      "metadata": {
        "colab": {
          "base_uri": "https://localhost:8080/"
        },
        "id": "GLIELSRSPNyn",
        "outputId": "04011971-7da3-4d0c-ea24-da3f24e2b2bf"
      },
      "source": [
        "data_no_mv[['married', 'dependents', 'education', 'self_employed', 'property_area', 'loan_status']]=obj_df"
      ],
      "execution_count": 366,
      "outputs": [
        {
          "output_type": "stream",
          "text": [
            "/usr/local/lib/python3.7/dist-packages/pandas/core/frame.py:3069: SettingWithCopyWarning: \n",
            "A value is trying to be set on a copy of a slice from a DataFrame.\n",
            "Try using .loc[row_indexer,col_indexer] = value instead\n",
            "\n",
            "See the caveats in the documentation: https://pandas.pydata.org/pandas-docs/stable/user_guide/indexing.html#returning-a-view-versus-a-copy\n",
            "  self[k1] = value[k2]\n"
          ],
          "name": "stderr"
        }
      ]
    },
    {
      "cell_type": "code",
      "metadata": {
        "colab": {
          "base_uri": "https://localhost:8080/",
          "height": 203
        },
        "id": "cF3mZRUjQDiJ",
        "outputId": "34d68395-781e-40c1-95c4-bff33a6bb2c4"
      },
      "source": [
        "data_no_mv.head()"
      ],
      "execution_count": 367,
      "outputs": [
        {
          "output_type": "execute_result",
          "data": {
            "text/html": [
              "<div>\n",
              "<style scoped>\n",
              "    .dataframe tbody tr th:only-of-type {\n",
              "        vertical-align: middle;\n",
              "    }\n",
              "\n",
              "    .dataframe tbody tr th {\n",
              "        vertical-align: top;\n",
              "    }\n",
              "\n",
              "    .dataframe thead th {\n",
              "        text-align: right;\n",
              "    }\n",
              "</style>\n",
              "<table border=\"1\" class=\"dataframe\">\n",
              "  <thead>\n",
              "    <tr style=\"text-align: right;\">\n",
              "      <th></th>\n",
              "      <th>married</th>\n",
              "      <th>dependents</th>\n",
              "      <th>education</th>\n",
              "      <th>self_employed</th>\n",
              "      <th>applicant_income</th>\n",
              "      <th>coapplicantincome</th>\n",
              "      <th>loan_amount</th>\n",
              "      <th>loan_amount_term</th>\n",
              "      <th>credit_history</th>\n",
              "      <th>property_area</th>\n",
              "      <th>loan_status</th>\n",
              "    </tr>\n",
              "  </thead>\n",
              "  <tbody>\n",
              "    <tr>\n",
              "      <th>0</th>\n",
              "      <td>0</td>\n",
              "      <td>0</td>\n",
              "      <td>1</td>\n",
              "      <td>0</td>\n",
              "      <td>5408.864775</td>\n",
              "      <td>0.0</td>\n",
              "      <td>128.0</td>\n",
              "      <td>360.0</td>\n",
              "      <td>1.0</td>\n",
              "      <td>2</td>\n",
              "      <td>1</td>\n",
              "    </tr>\n",
              "    <tr>\n",
              "      <th>1</th>\n",
              "      <td>1</td>\n",
              "      <td>1</td>\n",
              "      <td>1</td>\n",
              "      <td>0</td>\n",
              "      <td>5408.864775</td>\n",
              "      <td>1508.0</td>\n",
              "      <td>128.0</td>\n",
              "      <td>360.0</td>\n",
              "      <td>1.0</td>\n",
              "      <td>0</td>\n",
              "      <td>0</td>\n",
              "    </tr>\n",
              "    <tr>\n",
              "      <th>2</th>\n",
              "      <td>1</td>\n",
              "      <td>0</td>\n",
              "      <td>1</td>\n",
              "      <td>1</td>\n",
              "      <td>5408.864775</td>\n",
              "      <td>0.0</td>\n",
              "      <td>66.0</td>\n",
              "      <td>360.0</td>\n",
              "      <td>1.0</td>\n",
              "      <td>2</td>\n",
              "      <td>1</td>\n",
              "    </tr>\n",
              "    <tr>\n",
              "      <th>3</th>\n",
              "      <td>1</td>\n",
              "      <td>0</td>\n",
              "      <td>0</td>\n",
              "      <td>0</td>\n",
              "      <td>5408.864775</td>\n",
              "      <td>2358.0</td>\n",
              "      <td>120.0</td>\n",
              "      <td>360.0</td>\n",
              "      <td>1.0</td>\n",
              "      <td>2</td>\n",
              "      <td>1</td>\n",
              "    </tr>\n",
              "    <tr>\n",
              "      <th>4</th>\n",
              "      <td>0</td>\n",
              "      <td>0</td>\n",
              "      <td>1</td>\n",
              "      <td>0</td>\n",
              "      <td>5408.864775</td>\n",
              "      <td>0.0</td>\n",
              "      <td>141.0</td>\n",
              "      <td>360.0</td>\n",
              "      <td>1.0</td>\n",
              "      <td>2</td>\n",
              "      <td>1</td>\n",
              "    </tr>\n",
              "  </tbody>\n",
              "</table>\n",
              "</div>"
            ],
            "text/plain": [
              "   married  dependents  education  ...  credit_history  property_area  loan_status\n",
              "0        0           0          1  ...             1.0              2            1\n",
              "1        1           1          1  ...             1.0              0            0\n",
              "2        1           0          1  ...             1.0              2            1\n",
              "3        1           0          0  ...             1.0              2            1\n",
              "4        0           0          1  ...             1.0              2            1\n",
              "\n",
              "[5 rows x 11 columns]"
            ]
          },
          "metadata": {
            "tags": []
          },
          "execution_count": 367
        }
      ]
    },
    {
      "cell_type": "code",
      "metadata": {
        "colab": {
          "base_uri": "https://localhost:8080/"
        },
        "id": "xpEoyAvYSo34",
        "outputId": "fe87e931-4467-49d5-da8c-c7e2129dce32"
      },
      "source": [
        "data_no_mv.columns"
      ],
      "execution_count": 368,
      "outputs": [
        {
          "output_type": "execute_result",
          "data": {
            "text/plain": [
              "Index(['married', 'dependents', 'education', 'self_employed',\n",
              "       'applicant_income', 'coapplicantincome', 'loan_amount',\n",
              "       'loan_amount_term', 'credit_history', 'property_area', 'loan_status'],\n",
              "      dtype='object')"
            ]
          },
          "metadata": {
            "tags": []
          },
          "execution_count": 368
        }
      ]
    },
    {
      "cell_type": "code",
      "metadata": {
        "id": "BsuLOYqwUCvC"
      },
      "source": [
        "X=data_no_mv.iloc[:, :-1].values"
      ],
      "execution_count": 369,
      "outputs": []
    },
    {
      "cell_type": "code",
      "metadata": {
        "id": "taXUAZhhUKkj"
      },
      "source": [
        "y = data_no_mv.iloc[:,-1].values"
      ],
      "execution_count": 370,
      "outputs": []
    },
    {
      "cell_type": "code",
      "metadata": {
        "id": "gKJuupb6WPX-"
      },
      "source": [
        "from sklearn.model_selection import train_test_split\n",
        "X_train, X_test, y_train, y_test = train_test_split(X, y, test_size=0.2, random_state=1)"
      ],
      "execution_count": 371,
      "outputs": []
    },
    {
      "cell_type": "markdown",
      "metadata": {
        "id": "zFIej1VDfemb"
      },
      "source": [
        "###Feature Scaling"
      ]
    },
    {
      "cell_type": "code",
      "metadata": {
        "colab": {
          "base_uri": "https://localhost:8080/"
        },
        "id": "I8e6ayFIfgsP",
        "outputId": "d07b7885-621e-421e-c3b3-ae4d7a257641"
      },
      "source": [
        "from sklearn.preprocessing import StandardScaler\n",
        "X_train[:, 4:8]"
      ],
      "execution_count": 372,
      "outputs": [
        {
          "output_type": "execute_result",
          "data": {
            "text/plain": [
              "array([[5408.86, 1881.00, 167.00, 360.00],\n",
              "       [5408.86, 0.00, 36.00, 360.00],\n",
              "       [5408.86, 0.00, 67.00, 360.00],\n",
              "       ...,\n",
              "       [5408.86, 0.00, 81.00, 300.00],\n",
              "       [5408.86, 5000.00, 120.00, 360.00],\n",
              "       [5408.86, 1459.00, 144.00, 360.00]])"
            ]
          },
          "metadata": {
            "tags": []
          },
          "execution_count": 372
        }
      ]
    },
    {
      "cell_type": "markdown",
      "metadata": {
        "id": "sWBDGBZcvbjM"
      },
      "source": [
        "##Training the Model"
      ]
    },
    {
      "cell_type": "markdown",
      "metadata": {
        "id": "32UseDcK_LPJ"
      },
      "source": [
        "###Logistic Regression (Logit function)"
      ]
    },
    {
      "cell_type": "code",
      "metadata": {
        "colab": {
          "base_uri": "https://localhost:8080/"
        },
        "id": "gxcL4PdoUQcU",
        "outputId": "9c340468-8d27-4697-f0d5-0fd28c0e9abc"
      },
      "source": [
        "x = sm.add_constant(X_train)\n",
        "reg_log = sm.Logit(y_train, x)\n",
        "results_log=reg_log.fit()"
      ],
      "execution_count": 373,
      "outputs": [
        {
          "output_type": "stream",
          "text": [
            "Optimization terminated successfully.\n",
            "         Current function value: 0.465968\n",
            "         Iterations 6\n"
          ],
          "name": "stdout"
        }
      ]
    },
    {
      "cell_type": "code",
      "metadata": {
        "colab": {
          "base_uri": "https://localhost:8080/",
          "height": 404
        },
        "id": "nT-APvE2UmTB",
        "outputId": "fccbcfc9-cce9-4a20-a53a-a096c3e6c2fa"
      },
      "source": [
        "results_log.summary()"
      ],
      "execution_count": 374,
      "outputs": [
        {
          "output_type": "execute_result",
          "data": {
            "text/html": [
              "<table class=\"simpletable\">\n",
              "<caption>Logit Regression Results</caption>\n",
              "<tr>\n",
              "  <th>Dep. Variable:</th>           <td>y</td>        <th>  No. Observations:  </th>  <td>   479</td>  \n",
              "</tr>\n",
              "<tr>\n",
              "  <th>Model:</th>                 <td>Logit</td>      <th>  Df Residuals:      </th>  <td>   469</td>  \n",
              "</tr>\n",
              "<tr>\n",
              "  <th>Method:</th>                 <td>MLE</td>       <th>  Df Model:          </th>  <td>     9</td>  \n",
              "</tr>\n",
              "<tr>\n",
              "  <th>Date:</th>            <td>Sat, 17 Jul 2021</td> <th>  Pseudo R-squ.:     </th>  <td>0.2422</td>  \n",
              "</tr>\n",
              "<tr>\n",
              "  <th>Time:</th>                <td>16:32:04</td>     <th>  Log-Likelihood:    </th> <td> -223.20</td> \n",
              "</tr>\n",
              "<tr>\n",
              "  <th>converged:</th>             <td>True</td>       <th>  LL-Null:           </th> <td> -294.53</td> \n",
              "</tr>\n",
              "<tr>\n",
              "  <th>Covariance Type:</th>     <td>nonrobust</td>    <th>  LLR p-value:       </th> <td>2.918e-26</td>\n",
              "</tr>\n",
              "</table>\n",
              "<table class=\"simpletable\">\n",
              "<tr>\n",
              "   <td></td>      <th>coef</th>     <th>std err</th>      <th>z</th>      <th>P>|z|</th>  <th>[0.025</th>    <th>0.975]</th>  \n",
              "</tr>\n",
              "<tr>\n",
              "  <th>x1</th>  <td>    0.5285</td> <td>    0.264</td> <td>    1.999</td> <td> 0.046</td> <td>    0.010</td> <td>    1.047</td>\n",
              "</tr>\n",
              "<tr>\n",
              "  <th>x2</th>  <td>   -0.0051</td> <td>    0.132</td> <td>   -0.038</td> <td> 0.969</td> <td>   -0.264</td> <td>    0.254</td>\n",
              "</tr>\n",
              "<tr>\n",
              "  <th>x3</th>  <td>    0.3851</td> <td>    0.293</td> <td>    1.314</td> <td> 0.189</td> <td>   -0.189</td> <td>    0.959</td>\n",
              "</tr>\n",
              "<tr>\n",
              "  <th>x4</th>  <td>   -0.0740</td> <td>    0.349</td> <td>   -0.212</td> <td> 0.832</td> <td>   -0.759</td> <td>    0.611</td>\n",
              "</tr>\n",
              "<tr>\n",
              "  <th>x5</th>  <td>   -0.0005</td> <td>    0.000</td> <td>   -3.060</td> <td> 0.002</td> <td>   -0.001</td> <td>   -0.000</td>\n",
              "</tr>\n",
              "<tr>\n",
              "  <th>x6</th>  <td> -5.24e-05</td> <td> 3.91e-05</td> <td>   -1.341</td> <td> 0.180</td> <td>   -0.000</td> <td> 2.42e-05</td>\n",
              "</tr>\n",
              "<tr>\n",
              "  <th>x7</th>  <td>-7.226e-05</td> <td>    0.002</td> <td>   -0.048</td> <td> 0.962</td> <td>   -0.003</td> <td>    0.003</td>\n",
              "</tr>\n",
              "<tr>\n",
              "  <th>x8</th>  <td>   -0.0010</td> <td>    0.002</td> <td>   -0.509</td> <td> 0.611</td> <td>   -0.005</td> <td>    0.003</td>\n",
              "</tr>\n",
              "<tr>\n",
              "  <th>x9</th>  <td>    3.8948</td> <td>    0.486</td> <td>    8.007</td> <td> 0.000</td> <td>    2.941</td> <td>    4.848</td>\n",
              "</tr>\n",
              "<tr>\n",
              "  <th>x10</th> <td>    0.0926</td> <td>    0.155</td> <td>    0.596</td> <td> 0.551</td> <td>   -0.212</td> <td>    0.397</td>\n",
              "</tr>\n",
              "</table>"
            ],
            "text/plain": [
              "<class 'statsmodels.iolib.summary.Summary'>\n",
              "\"\"\"\n",
              "                           Logit Regression Results                           \n",
              "==============================================================================\n",
              "Dep. Variable:                      y   No. Observations:                  479\n",
              "Model:                          Logit   Df Residuals:                      469\n",
              "Method:                           MLE   Df Model:                            9\n",
              "Date:                Sat, 17 Jul 2021   Pseudo R-squ.:                  0.2422\n",
              "Time:                        16:32:04   Log-Likelihood:                -223.20\n",
              "converged:                       True   LL-Null:                       -294.53\n",
              "Covariance Type:            nonrobust   LLR p-value:                 2.918e-26\n",
              "==============================================================================\n",
              "                 coef    std err          z      P>|z|      [0.025      0.975]\n",
              "------------------------------------------------------------------------------\n",
              "x1             0.5285      0.264      1.999      0.046       0.010       1.047\n",
              "x2            -0.0051      0.132     -0.038      0.969      -0.264       0.254\n",
              "x3             0.3851      0.293      1.314      0.189      -0.189       0.959\n",
              "x4            -0.0740      0.349     -0.212      0.832      -0.759       0.611\n",
              "x5            -0.0005      0.000     -3.060      0.002      -0.001      -0.000\n",
              "x6          -5.24e-05   3.91e-05     -1.341      0.180      -0.000    2.42e-05\n",
              "x7         -7.226e-05      0.002     -0.048      0.962      -0.003       0.003\n",
              "x8            -0.0010      0.002     -0.509      0.611      -0.005       0.003\n",
              "x9             3.8948      0.486      8.007      0.000       2.941       4.848\n",
              "x10            0.0926      0.155      0.596      0.551      -0.212       0.397\n",
              "==============================================================================\n",
              "\"\"\""
            ]
          },
          "metadata": {
            "tags": []
          },
          "execution_count": 374
        }
      ]
    },
    {
      "cell_type": "markdown",
      "metadata": {
        "id": "qId1psstKq7G"
      },
      "source": [
        ""
      ]
    },
    {
      "cell_type": "code",
      "metadata": {
        "colab": {
          "base_uri": "https://localhost:8080/"
        },
        "id": "ugvShLC1Wpws",
        "outputId": "f8820cad-5cf7-4acb-cabb-2093fb8bc387"
      },
      "source": [
        "np.set_printoptions(formatter={'float': lambda x: '{0:0.2f}'.format(x)})\n",
        "results_log.predict()"
      ],
      "execution_count": 375,
      "outputs": [
        {
          "output_type": "execute_result",
          "data": {
            "text/plain": [
              "array([0.84, 0.85, 0.86, 0.77, 0.71, 0.86, 0.73, 0.67, 0.07, 0.83, 0.84,\n",
              "       0.85, 0.76, 0.89, 0.86, 0.32, 0.78, 0.77, 0.78, 0.84, 0.73, 0.82,\n",
              "       0.79, 0.76, 0.86, 0.82, 0.86, 0.74, 0.63, 0.82, 0.80, 0.84, 0.83,\n",
              "       0.78, 0.67, 0.81, 0.88, 0.87, 0.83, 0.82, 0.76, 0.78, 0.78, 0.09,\n",
              "       0.07, 0.82, 0.75, 0.86, 0.76, 0.88, 0.84, 0.84, 0.83, 0.81, 0.88,\n",
              "       0.06, 0.81, 0.06, 0.71, 0.78, 0.08, 0.86, 0.82, 0.78, 0.75, 0.78,\n",
              "       0.78, 0.73, 0.69, 0.83, 0.77, 0.86, 0.82, 0.77, 0.84, 0.74, 0.84,\n",
              "       0.86, 0.77, 0.75, 0.76, 0.05, 0.75, 0.79, 0.05, 0.67, 0.06, 0.82,\n",
              "       0.81, 0.82, 0.75, 0.79, 0.81, 0.85, 0.79, 0.77, 0.85, 0.75, 0.84,\n",
              "       0.06, 0.84, 0.76, 0.78, 0.75, 0.86, 0.78, 0.78, 0.08, 0.83, 0.85,\n",
              "       0.73, 0.10, 0.07, 0.82, 0.85, 0.86, 0.85, 0.87, 0.83, 0.77, 0.86,\n",
              "       0.72, 0.06, 0.75, 0.77, 0.06, 0.07, 0.71, 0.76, 0.86, 0.76, 0.77,\n",
              "       0.86, 0.75, 0.84, 0.77, 0.82, 0.83, 0.09, 0.85, 0.72, 0.85, 0.78,\n",
              "       0.10, 0.69, 0.64, 0.85, 0.85, 0.78, 0.70, 0.67, 0.06, 0.75, 0.81,\n",
              "       0.75, 0.85, 0.75, 0.85, 0.77, 0.83, 0.84, 0.85, 0.82, 0.66, 0.67,\n",
              "       0.83, 0.79, 0.74, 0.82, 0.79, 0.79, 0.82, 0.07, 0.75, 0.77, 0.05,\n",
              "       0.81, 0.78, 0.86, 0.82, 0.86, 0.10, 0.84, 0.80, 0.06, 0.06, 0.06,\n",
              "       0.81, 0.85, 0.69, 0.09, 0.86, 0.84, 0.88, 0.67, 0.78, 0.09, 0.77,\n",
              "       0.06, 0.83, 0.75, 0.83, 0.83, 0.78, 0.77, 0.78, 0.77, 0.78, 0.09,\n",
              "       0.85, 0.74, 0.88, 0.67, 0.06, 0.84, 0.05, 0.76, 0.82, 0.83, 0.86,\n",
              "       0.85, 0.67, 0.07, 0.77, 0.66, 0.83, 0.76, 0.76, 0.77, 0.76, 0.83,\n",
              "       0.77, 0.73, 0.81, 0.86, 0.83, 0.67, 0.75, 0.71, 0.76, 0.84, 0.69,\n",
              "       0.82, 0.85, 0.09, 0.85, 0.83, 0.06, 0.72, 0.84, 0.76, 0.81, 0.85,\n",
              "       0.82, 0.85, 0.86, 0.64, 0.85, 0.86, 0.86, 0.04, 0.04, 0.86, 0.82,\n",
              "       0.79, 0.70, 0.86, 0.84, 0.84, 0.78, 0.82, 0.80, 0.75, 0.78, 0.87,\n",
              "       0.85, 0.73, 0.82, 0.83, 0.76, 0.77, 0.83, 0.71, 0.85, 0.83, 0.84,\n",
              "       0.83, 0.77, 0.82, 0.84, 0.09, 0.83, 0.82, 0.84, 0.84, 0.76, 0.09,\n",
              "       0.85, 0.84, 0.76, 0.78, 0.77, 0.76, 0.85, 0.10, 0.86, 0.09, 0.78,\n",
              "       0.75, 0.77, 0.86, 0.08, 0.74, 0.86, 0.85, 0.85, 0.76, 0.75, 0.06,\n",
              "       0.88, 0.85, 0.83, 0.82, 0.83, 0.67, 0.85, 0.82, 0.78, 0.82, 0.73,\n",
              "       0.82, 0.78, 0.09, 0.75, 0.83, 0.70, 0.86, 0.78, 0.11, 0.84, 0.83,\n",
              "       0.09, 0.82, 0.76, 0.85, 0.85, 0.84, 0.83, 0.11, 0.77, 0.78, 0.77,\n",
              "       0.08, 0.83, 0.06, 0.09, 0.11, 0.10, 0.04, 0.83, 0.68, 0.06, 0.82,\n",
              "       0.80, 0.85, 0.80, 0.86, 0.67, 0.85, 0.84, 0.87, 0.73, 0.78, 0.81,\n",
              "       0.82, 0.77, 0.83, 0.74, 0.71, 0.83, 0.85, 0.79, 0.82, 0.69, 0.11,\n",
              "       0.84, 0.53, 0.78, 0.83, 0.85, 0.85, 0.85, 0.83, 0.76, 0.76, 0.10,\n",
              "       0.75, 0.76, 0.83, 0.75, 0.78, 0.07, 0.84, 0.77, 0.77, 0.82, 0.83,\n",
              "       0.84, 0.78, 0.77, 0.77, 0.82, 0.82, 0.83, 0.76, 0.75, 0.82, 0.84,\n",
              "       0.75, 0.73, 0.06, 0.84, 0.83, 0.81, 0.06, 0.82, 0.85, 0.76, 0.84,\n",
              "       0.77, 0.06, 0.78, 0.82, 0.72, 0.83, 0.83, 0.83, 0.78, 0.67, 0.08,\n",
              "       0.08, 0.65, 0.76, 0.84, 0.76, 0.76, 0.77, 0.85, 0.72, 0.85, 0.83,\n",
              "       0.73, 0.06, 0.09, 0.73, 0.88, 0.77, 0.66, 0.81, 0.10, 0.85, 0.09,\n",
              "       0.09, 0.83, 0.86, 0.67, 0.85, 0.79, 0.84, 0.70, 0.75, 0.68, 0.77,\n",
              "       0.82, 0.77, 0.85, 0.78, 0.79, 0.84])"
            ]
          },
          "metadata": {
            "tags": []
          },
          "execution_count": 375
        }
      ]
    },
    {
      "cell_type": "code",
      "metadata": {
        "colab": {
          "base_uri": "https://localhost:8080/"
        },
        "id": "iBCR5frjZAJT",
        "outputId": "a7c667d8-5a29-46eb-a691-7c72ca13008e"
      },
      "source": [
        "np.array(data_no_mv['loan_status'])"
      ],
      "execution_count": 376,
      "outputs": [
        {
          "output_type": "execute_result",
          "data": {
            "text/plain": [
              "array([1, 0, 1, 1, 1, 1, 1, 0, 1, 0, 1, 1, 1, 0, 1, 1, 1, 0, 0, 1, 0, 1,\n",
              "       0, 0, 0, 1, 1, 1, 0, 1, 0, 0, 0, 1, 0, 1, 0, 1, 1, 1, 0, 1, 1, 1,\n",
              "       1, 1, 1, 1, 0, 1, 1, 1, 0, 0, 0, 1, 1, 0, 1, 1, 1, 1, 0, 0, 0, 0,\n",
              "       0, 1, 1, 0, 1, 1, 1, 0, 1, 0, 0, 0, 0, 1, 1, 1, 0, 0, 1, 1, 1, 1,\n",
              "       1, 1, 1, 1, 1, 1, 1, 0, 1, 1, 1, 1, 1, 1, 1, 1, 1, 0, 0, 1, 1, 1,\n",
              "       0, 1, 1, 1, 1, 1, 0, 1, 1, 1, 1, 1, 1, 1, 1, 0, 0, 1, 1, 1, 1, 1,\n",
              "       0, 0, 1, 0, 0, 0, 1, 1, 1, 1, 1, 1, 1, 0, 1, 0, 1, 0, 0, 1, 1, 1,\n",
              "       1, 1, 1, 1, 0, 0, 1, 1, 1, 0, 1, 0, 1, 1, 1, 0, 1, 0, 1, 1, 0, 1,\n",
              "       0, 0, 0, 1, 0, 1, 1, 0, 1, 1, 1, 1, 0, 0, 1, 1, 0, 1, 1, 1, 0, 1,\n",
              "       1, 0, 1, 1, 1, 1, 1, 1, 0, 0, 0, 1, 1, 1, 1, 0, 1, 0, 1, 0, 1, 1,\n",
              "       1, 1, 0, 1, 1, 1, 1, 1, 1, 1, 1, 0, 1, 1, 1, 1, 0, 1, 1, 1, 0, 1,\n",
              "       1, 1, 1, 0, 0, 1, 1, 0, 1, 0, 0, 0, 0, 1, 1, 0, 1, 1, 1, 1, 1, 0,\n",
              "       1, 1, 1, 1, 1, 1, 1, 1, 1, 1, 1, 0, 1, 1, 1, 0, 1, 0, 1, 1, 1, 1,\n",
              "       0, 1, 1, 1, 1, 1, 0, 0, 0, 1, 1, 1, 0, 1, 0, 0, 1, 1, 1, 1, 1, 0,\n",
              "       1, 1, 1, 1, 0, 1, 1, 1, 1, 1, 0, 1, 1, 0, 1, 1, 1, 1, 1, 1, 1, 0,\n",
              "       1, 0, 0, 1, 1, 1, 1, 1, 1, 1, 1, 0, 1, 0, 1, 1, 0, 0, 1, 0, 1, 1,\n",
              "       1, 1, 0, 0, 0, 1, 0, 1, 1, 1, 0, 1, 1, 1, 1, 0, 1, 1, 1, 1, 1, 0,\n",
              "       1, 1, 0, 1, 1, 1, 1, 1, 1, 1, 1, 0, 1, 1, 0, 0, 0, 1, 1, 0, 1, 1,\n",
              "       1, 0, 0, 0, 1, 0, 1, 0, 1, 0, 0, 1, 1, 1, 0, 1, 0, 1, 1, 0, 1, 1,\n",
              "       1, 1, 0, 1, 1, 1, 1, 1, 0, 1, 1, 1, 1, 1, 1, 1, 1, 0, 0, 0, 0, 1,\n",
              "       0, 1, 1, 1, 1, 0, 1, 0, 1, 1, 1, 1, 0, 1, 0, 1, 1, 0, 1, 0, 1, 1,\n",
              "       1, 1, 1, 0, 1, 0, 1, 1, 1, 1, 1, 1, 0, 0, 1, 0, 1, 1, 1, 1, 0, 1,\n",
              "       1, 1, 1, 0, 1, 1, 1, 0, 1, 1, 1, 0, 1, 1, 0, 1, 1, 0, 0, 1, 1, 0,\n",
              "       0, 1, 1, 1, 1, 0, 1, 1, 1, 1, 1, 1, 1, 0, 0, 1, 1, 1, 1, 0, 1, 1,\n",
              "       0, 1, 1, 1, 1, 0, 1, 0, 1, 0, 1, 1, 0, 0, 1, 1, 1, 1, 1, 1, 1, 1,\n",
              "       1, 0, 1, 1, 0, 0, 0, 1, 1, 0, 0, 1, 0, 1, 1, 1, 1, 0, 1, 0, 0, 0,\n",
              "       1, 1, 1, 0, 1, 0, 1, 1, 1, 1, 0, 1, 1, 0, 1, 1, 1, 1, 0, 1, 1, 1,\n",
              "       1, 1, 1, 1, 0])"
            ]
          },
          "metadata": {
            "tags": []
          },
          "execution_count": 376
        }
      ]
    },
    {
      "cell_type": "code",
      "metadata": {
        "colab": {
          "base_uri": "https://localhost:8080/"
        },
        "id": "fDo6OUAUZuQi",
        "outputId": "808f26b3-ccde-4209-8944-5d7d4a4cc5d9"
      },
      "source": [
        "results_log.pred_table()"
      ],
      "execution_count": 377,
      "outputs": [
        {
          "output_type": "execute_result",
          "data": {
            "text/plain": [
              "array([[62.00, 84.00],\n",
              "       [5.00, 328.00]])"
            ]
          },
          "metadata": {
            "tags": []
          },
          "execution_count": 377
        }
      ]
    },
    {
      "cell_type": "code",
      "metadata": {
        "colab": {
          "base_uri": "https://localhost:8080/",
          "height": 110
        },
        "id": "cL0cP1jmZ0O_",
        "outputId": "0b0319f2-58a7-4cda-f8ed-412c03c56368"
      },
      "source": [
        "cm_df = pd.DataFrame(results_log.pred_table())\n",
        "cm_df.columns = ['Predicted 0', 'Predicted 1']\n",
        "cm_df = cm_df.rename(index={0:'Actual 0', 1: 'Actual 1'})\n",
        "cm_df"
      ],
      "execution_count": 378,
      "outputs": [
        {
          "output_type": "execute_result",
          "data": {
            "text/html": [
              "<div>\n",
              "<style scoped>\n",
              "    .dataframe tbody tr th:only-of-type {\n",
              "        vertical-align: middle;\n",
              "    }\n",
              "\n",
              "    .dataframe tbody tr th {\n",
              "        vertical-align: top;\n",
              "    }\n",
              "\n",
              "    .dataframe thead th {\n",
              "        text-align: right;\n",
              "    }\n",
              "</style>\n",
              "<table border=\"1\" class=\"dataframe\">\n",
              "  <thead>\n",
              "    <tr style=\"text-align: right;\">\n",
              "      <th></th>\n",
              "      <th>Predicted 0</th>\n",
              "      <th>Predicted 1</th>\n",
              "    </tr>\n",
              "  </thead>\n",
              "  <tbody>\n",
              "    <tr>\n",
              "      <th>Actual 0</th>\n",
              "      <td>62.0</td>\n",
              "      <td>84.0</td>\n",
              "    </tr>\n",
              "    <tr>\n",
              "      <th>Actual 1</th>\n",
              "      <td>5.0</td>\n",
              "      <td>328.0</td>\n",
              "    </tr>\n",
              "  </tbody>\n",
              "</table>\n",
              "</div>"
            ],
            "text/plain": [
              "          Predicted 0  Predicted 1\n",
              "Actual 0         62.0         84.0\n",
              "Actual 1          5.0        328.0"
            ]
          },
          "metadata": {
            "tags": []
          },
          "execution_count": 378
        }
      ]
    },
    {
      "cell_type": "code",
      "metadata": {
        "colab": {
          "base_uri": "https://localhost:8080/"
        },
        "id": "X31VPAXourWT",
        "outputId": "4b53874d-f0a6-4276-e8fd-ecb78bb4badb"
      },
      "source": [
        "cm = np.array(cm_df)\n",
        "accuracy_score = (cm[0,0]+cm[1,1])/cm.sum()\n",
        "print(\"Accuracy score: %.2f\" %(accuracy_score*100), \"%\")"
      ],
      "execution_count": 379,
      "outputs": [
        {
          "output_type": "stream",
          "text": [
            "Accuracy score: 81.42 %\n"
          ],
          "name": "stdout"
        }
      ]
    },
    {
      "cell_type": "markdown",
      "metadata": {
        "id": "qfSDUmRY-Ts_"
      },
      "source": [
        "###Testing the Model"
      ]
    },
    {
      "cell_type": "code",
      "metadata": {
        "id": "xUAYr-km-WNM"
      },
      "source": [
        "x_test = sm.add_constant(X_test)\n",
        "reg_log = sm.Logit(y_test, x_test)"
      ],
      "execution_count": 380,
      "outputs": []
    },
    {
      "cell_type": "code",
      "metadata": {
        "id": "Qw_t7zg7D2gi"
      },
      "source": [
        "def confusion_matrix(data,actual_values,model):\n",
        "    \n",
        "        pred_values = model.predict(data)\n",
        "        bins=np.array([0,0.5,1])\n",
        "        cm = np.histogram2d(actual_values, pred_values, bins=bins)[0]\n",
        "        accuracy = (cm[0,0]+cm[1,1])/cm.sum()\n",
        "        return cm, accuracy"
      ],
      "execution_count": 381,
      "outputs": []
    },
    {
      "cell_type": "code",
      "metadata": {
        "colab": {
          "base_uri": "https://localhost:8080/"
        },
        "id": "jzQsrinhD6f7",
        "outputId": "cf47fc14-e8f2-4ca6-ddaf-7f76f0a8820f"
      },
      "source": [
        "cm = confusion_matrix(x_test,y_test,results_log)\n",
        "cm"
      ],
      "execution_count": 382,
      "outputs": [
        {
          "output_type": "execute_result",
          "data": {
            "text/plain": [
              "(array([[17.00, 23.00],\n",
              "        [2.00, 78.00]]), 0.7916666666666666)"
            ]
          },
          "metadata": {
            "tags": []
          },
          "execution_count": 382
        }
      ]
    },
    {
      "cell_type": "code",
      "metadata": {
        "colab": {
          "base_uri": "https://localhost:8080/",
          "height": 110
        },
        "id": "P-9l6S-sEFsu",
        "outputId": "e2e9e33f-f50a-4162-9eec-2570aba326de"
      },
      "source": [
        "cm_df = pd.DataFrame(cm[0])\n",
        "cm_df.columns = ['Predicted 0','Predicted 1']\n",
        "cm_df = cm_df.rename(index={0: 'Actual 0',1:'Actual 1'})\n",
        "cm_df"
      ],
      "execution_count": 383,
      "outputs": [
        {
          "output_type": "execute_result",
          "data": {
            "text/html": [
              "<div>\n",
              "<style scoped>\n",
              "    .dataframe tbody tr th:only-of-type {\n",
              "        vertical-align: middle;\n",
              "    }\n",
              "\n",
              "    .dataframe tbody tr th {\n",
              "        vertical-align: top;\n",
              "    }\n",
              "\n",
              "    .dataframe thead th {\n",
              "        text-align: right;\n",
              "    }\n",
              "</style>\n",
              "<table border=\"1\" class=\"dataframe\">\n",
              "  <thead>\n",
              "    <tr style=\"text-align: right;\">\n",
              "      <th></th>\n",
              "      <th>Predicted 0</th>\n",
              "      <th>Predicted 1</th>\n",
              "    </tr>\n",
              "  </thead>\n",
              "  <tbody>\n",
              "    <tr>\n",
              "      <th>Actual 0</th>\n",
              "      <td>17.0</td>\n",
              "      <td>23.0</td>\n",
              "    </tr>\n",
              "    <tr>\n",
              "      <th>Actual 1</th>\n",
              "      <td>2.0</td>\n",
              "      <td>78.0</td>\n",
              "    </tr>\n",
              "  </tbody>\n",
              "</table>\n",
              "</div>"
            ],
            "text/plain": [
              "          Predicted 0  Predicted 1\n",
              "Actual 0         17.0         23.0\n",
              "Actual 1          2.0         78.0"
            ]
          },
          "metadata": {
            "tags": []
          },
          "execution_count": 383
        }
      ]
    },
    {
      "cell_type": "code",
      "metadata": {
        "colab": {
          "base_uri": "https://localhost:8080/"
        },
        "id": "zD-u-I3rEOFw",
        "outputId": "dd81a245-d1ab-4d1e-d129-650764e77b5f"
      },
      "source": [
        "print ('Missclassification rate: %.2f' %(((25/(17+23+2+78))*100)), \"%\")"
      ],
      "execution_count": 384,
      "outputs": [
        {
          "output_type": "stream",
          "text": [
            "Missclassification rate: 20.83 %\n"
          ],
          "name": "stdout"
        }
      ]
    },
    {
      "cell_type": "markdown",
      "metadata": {
        "id": "WVZnxAMn3rfQ"
      },
      "source": [
        "###Model evaluation based on K-fold-cross validation"
      ]
    },
    {
      "cell_type": "code",
      "metadata": {
        "colab": {
          "base_uri": "https://localhost:8080/"
        },
        "id": "qlLr-V3w3xM6",
        "outputId": "e6f274c6-d6d9-4a30-f2f6-8f8a48f2a6bb"
      },
      "source": [
        "classifier = LogisticRegression()\n",
        "classifier.fit(X_train, y_train)"
      ],
      "execution_count": 385,
      "outputs": [
        {
          "output_type": "stream",
          "text": [
            "/usr/local/lib/python3.7/dist-packages/sklearn/linear_model/_logistic.py:940: ConvergenceWarning: lbfgs failed to converge (status=1):\n",
            "STOP: TOTAL NO. of ITERATIONS REACHED LIMIT.\n",
            "\n",
            "Increase the number of iterations (max_iter) or scale the data as shown in:\n",
            "    https://scikit-learn.org/stable/modules/preprocessing.html\n",
            "Please also refer to the documentation for alternative solver options:\n",
            "    https://scikit-learn.org/stable/modules/linear_model.html#logistic-regression\n",
            "  extra_warning_msg=_LOGISTIC_SOLVER_CONVERGENCE_MSG)\n"
          ],
          "name": "stderr"
        },
        {
          "output_type": "execute_result",
          "data": {
            "text/plain": [
              "LogisticRegression(C=1.0, class_weight=None, dual=False, fit_intercept=True,\n",
              "                   intercept_scaling=1, l1_ratio=None, max_iter=100,\n",
              "                   multi_class='auto', n_jobs=None, penalty='l2',\n",
              "                   random_state=None, solver='lbfgs', tol=0.0001, verbose=0,\n",
              "                   warm_start=False)"
            ]
          },
          "metadata": {
            "tags": []
          },
          "execution_count": 385
        }
      ]
    },
    {
      "cell_type": "code",
      "metadata": {
        "colab": {
          "base_uri": "https://localhost:8080/"
        },
        "id": "vRBzr0fRBfKf",
        "outputId": "a5aab176-c77d-469c-f845-5a22fb6c7912"
      },
      "source": [
        "from sklearn.metrics import confusion_matrix, accuracy_score\n",
        "y_pred = classifier.predict(X_test)\n",
        "cm = confusion_matrix(y_test, y_pred)\n",
        "a_s=accuracy_score(y_test, y_pred)\n",
        "a_s*=100\n",
        "print(\"Accuracy score: %.2f\"%a_s)"
      ],
      "execution_count": 386,
      "outputs": [
        {
          "output_type": "stream",
          "text": [
            "Accuracy score: 77.50\n"
          ],
          "name": "stdout"
        }
      ]
    },
    {
      "cell_type": "code",
      "metadata": {
        "id": "zJmDchkL572k",
        "colab": {
          "base_uri": "https://localhost:8080/"
        },
        "outputId": "e588950c-221e-4860-fd30-5c0e8d3870e1"
      },
      "source": [
        "accuracies = cross_val_score(estimator = classifier, X=X_train, y=y_train, cv=10)\n",
        "print(\"Accuracy  (K-fold-cross validation): {:.2f}%\".format(accuracies.mean()*100))"
      ],
      "execution_count": 388,
      "outputs": [
        {
          "output_type": "stream",
          "text": [
            "/usr/local/lib/python3.7/dist-packages/sklearn/linear_model/_logistic.py:940: ConvergenceWarning: lbfgs failed to converge (status=1):\n",
            "STOP: TOTAL NO. of ITERATIONS REACHED LIMIT.\n",
            "\n",
            "Increase the number of iterations (max_iter) or scale the data as shown in:\n",
            "    https://scikit-learn.org/stable/modules/preprocessing.html\n",
            "Please also refer to the documentation for alternative solver options:\n",
            "    https://scikit-learn.org/stable/modules/linear_model.html#logistic-regression\n",
            "  extra_warning_msg=_LOGISTIC_SOLVER_CONVERGENCE_MSG)\n",
            "/usr/local/lib/python3.7/dist-packages/sklearn/linear_model/_logistic.py:940: ConvergenceWarning: lbfgs failed to converge (status=1):\n",
            "STOP: TOTAL NO. of ITERATIONS REACHED LIMIT.\n",
            "\n",
            "Increase the number of iterations (max_iter) or scale the data as shown in:\n",
            "    https://scikit-learn.org/stable/modules/preprocessing.html\n",
            "Please also refer to the documentation for alternative solver options:\n",
            "    https://scikit-learn.org/stable/modules/linear_model.html#logistic-regression\n",
            "  extra_warning_msg=_LOGISTIC_SOLVER_CONVERGENCE_MSG)\n",
            "/usr/local/lib/python3.7/dist-packages/sklearn/linear_model/_logistic.py:940: ConvergenceWarning: lbfgs failed to converge (status=1):\n",
            "STOP: TOTAL NO. of ITERATIONS REACHED LIMIT.\n",
            "\n",
            "Increase the number of iterations (max_iter) or scale the data as shown in:\n",
            "    https://scikit-learn.org/stable/modules/preprocessing.html\n",
            "Please also refer to the documentation for alternative solver options:\n",
            "    https://scikit-learn.org/stable/modules/linear_model.html#logistic-regression\n",
            "  extra_warning_msg=_LOGISTIC_SOLVER_CONVERGENCE_MSG)\n",
            "/usr/local/lib/python3.7/dist-packages/sklearn/linear_model/_logistic.py:940: ConvergenceWarning: lbfgs failed to converge (status=1):\n",
            "STOP: TOTAL NO. of ITERATIONS REACHED LIMIT.\n",
            "\n",
            "Increase the number of iterations (max_iter) or scale the data as shown in:\n",
            "    https://scikit-learn.org/stable/modules/preprocessing.html\n",
            "Please also refer to the documentation for alternative solver options:\n",
            "    https://scikit-learn.org/stable/modules/linear_model.html#logistic-regression\n",
            "  extra_warning_msg=_LOGISTIC_SOLVER_CONVERGENCE_MSG)\n"
          ],
          "name": "stderr"
        },
        {
          "output_type": "stream",
          "text": [
            "Accuracy  (K-fold-cross validation): 81.21%\n"
          ],
          "name": "stdout"
        }
      ]
    },
    {
      "cell_type": "code",
      "metadata": {
        "id": "Tmpbwo20T8_-"
      },
      "source": [
        ""
      ],
      "execution_count": null,
      "outputs": []
    }
  ]
}